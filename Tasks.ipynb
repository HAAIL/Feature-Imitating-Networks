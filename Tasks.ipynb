{
 "cells": [
  {
   "cell_type": "markdown",
   "id": "a1c3b621",
   "metadata": {},
   "source": [
    "# FIN Model"
   ]
  },
  {
   "cell_type": "code",
   "execution_count": 120,
   "id": "13e3c0b1",
   "metadata": {},
   "outputs": [],
   "source": [
    "import numpy as np\n",
    "from numpy import random\n",
    "import pandas as pd\n",
    "from scipy.signal import cwt,ricker\n",
    "from scipy import stats\n",
    "from sklearn.preprocessing import StandardScaler,normalize\n",
    "import tensorflow as tf\n",
    "import tensorflow.keras as keras\n",
    "import tensorflow.keras.optimizers\n",
    "from tensorflow.keras.models import Sequential\n",
    "from tensorflow.keras.layers import Flatten,concatenate,Layer,Dense,Activation,MaxPooling2D,Dropout,Conv2D,BatchNormalization,Reshape,UpSampling2D,ZeroPadding2D"
   ]
  },
  {
   "cell_type": "code",
   "execution_count": 121,
   "id": "cc534875",
   "metadata": {},
   "outputs": [],
   "source": [
    "random.seed(222)"
   ]
  },
  {
   "cell_type": "markdown",
   "id": "58891347",
   "metadata": {},
   "source": [
    "# Task 1"
   ]
  },
  {
   "cell_type": "markdown",
   "id": "fd03384d",
   "metadata": {},
   "source": [
    "Train two feature imitating networks that take as input a fixed length sequence and provide as output (1) the mean and (2) the standard deviation of a fixed length input; a deep feedforward architecture should be sufficient for this."
   ]
  },
  {
   "cell_type": "code",
   "execution_count": 122,
   "id": "2841476c",
   "metadata": {},
   "outputs": [
    {
     "name": "stdout",
     "output_type": "stream",
     "text": [
      "(150, 600, 1)\n",
      "(150, 600, 30)\n"
     ]
    }
   ],
   "source": [
    "# Z-scored np array\n",
    "# T x Ch x Epochs\n",
    "N = 600 # Fixed number of length data\n",
    "E = 150 # Number of Epochs\n",
    "input_arr = np.random.rand(N,1,E)\n",
    "scaled_arr = np.zeros(input_arr.shape)\n",
    "for ii in range(input_arr.shape[1]):\n",
    "    scaler = StandardScaler()\n",
    "    scaled_arr[:,ii,:] = scaler.fit_transform(input_arr[:,ii,:])\n",
    "    \n",
    "#print(scaled_arr.shape)\n",
    "\n",
    "# move the axis of the matrix as as # Epochs X T X Ch\n",
    "\n",
    "scaled_arr = np.moveaxis(scaled_arr,2,0)\n",
    "print(scaled_arr.shape)\n",
    "\n",
    "do_cwt = True\n",
    "if do_cwt:\n",
    "    # Continuous wavelet transform\n",
    "    flat_data = np.squeeze(scaled_arr)\n",
    "    scaled_arr_cwt = []\n",
    "    for ii in range(flat_data.shape[0]):\n",
    "        widths = np.arange(1, 31)\n",
    "        cwtmatr = cwt(flat_data[ii], ricker, widths)\n",
    "        scaled_arr_cwt.append(np.moveaxis(cwtmatr,1,0))\n",
    "    scaled_arr3d = np.stack(scaled_arr_cwt)\n",
    "else:\n",
    "    scaled_arr3d = scaled_arr\n",
    "    \n",
    "print(scaled_arr3d.shape)"
   ]
  },
  {
   "cell_type": "code",
   "execution_count": 123,
   "id": "580d2630",
   "metadata": {},
   "outputs": [],
   "source": [
    "# Will use kurtosis for training, so calculate the kurtosis of the data\n",
    "def Kurtosis(eegData):\n",
    "    return stats.kurtosis(scaled_arr,axis=1)\n",
    "\n",
    "#squeeze the data in\n",
    "feature_res = np.squeeze(Kurtosis(scaled_arr))\n",
    "#print(feature_res)"
   ]
  },
  {
   "cell_type": "code",
   "execution_count": 124,
   "id": "c3da47d1",
   "metadata": {},
   "outputs": [],
   "source": [
    "# Make FIN\n",
    "def make_FIN(topology,size3D,N,name=\"my-FIN\"):\n",
    "    input_layer = keras.Input(shape=(N,size3D))\n",
    "    x = Flatten()(input_layer)\n",
    "    for layer in topology['layers']:\n",
    "        x = Dense(layer['output_shape'], activation=layer['activation'])(x)\n",
    "        if layer['BatchNorm']:\n",
    "            x = BatchNormalization(axis=1)(x)\n",
    "    fin_out = Dense(1, activation='linear')(x)\n",
    "    fin = keras.Model(input_layer, fin_out, name=name)\n",
    "    return fin\n",
    "\n",
    "topology = np.load('RandomTopology.npy', allow_pickle=True)[1]\n",
    "\n",
    "\n",
    "fin = make_FIN(topology,30,N)\n"
   ]
  },
  {
   "cell_type": "code",
   "execution_count": 126,
   "id": "1b991d02",
   "metadata": {},
   "outputs": [
    {
     "name": "stdout",
     "output_type": "stream",
     "text": [
      "Epoch 1/8\n",
      "1/1 [==============================] - 1s 703ms/step - loss: -1.4276e-07\n",
      "Epoch 2/8\n",
      "1/1 [==============================] - 0s 75ms/step - loss: -1.4276e-07\n",
      "Epoch 3/8\n",
      "1/1 [==============================] - 0s 50ms/step - loss: -1.4276e-07\n",
      "Epoch 4/8\n",
      "1/1 [==============================] - 0s 67ms/step - loss: -1.4276e-07\n",
      "Epoch 5/8\n",
      "1/1 [==============================] - 0s 38ms/step - loss: -1.4276e-07\n",
      "Epoch 6/8\n",
      "1/1 [==============================] - 0s 61ms/step - loss: -1.4276e-07\n",
      "Epoch 7/8\n",
      "1/1 [==============================] - 0s 67ms/step - loss: -1.4276e-07\n",
      "Epoch 8/8\n",
      "1/1 [==============================] - 0s 53ms/step - loss: -1.4276e-07\n"
     ]
    }
   ],
   "source": [
    "learning_rate=topology['lr']\n",
    "momentum=topology['momentum']\n",
    "nesterov=topology['nesterov']\n",
    "b1 = topology['b1']\n",
    "b2 = topology['b2']\n",
    "if topology['opt'] == 'SGD':\n",
    "    grad_desc_algorithm = tf.keras.optimizers.SGD(learning_rate=learning_rate,momentum=momentum,nesterov=nesterov)\n",
    "if topology['opt'] == 'ADAM':\n",
    "    grad_desc_algorithm = tf.keras.optimizers.Adam(learning_rate=learning_rate,beta_1=b1,beta_2=b2)\n",
    "    \n",
    "fin.compile(optimizer = grad_desc_algorithm,loss = 'categorical_crossentropy')\n",
    "\n",
    "loss_d = fin.fit(scaled_arr3d, feature_res, \n",
    "            epochs = 8,\n",
    "            batch_size = N,\n",
    "            verbose   = 1)            "
   ]
  },
  {
   "cell_type": "code",
   "execution_count": null,
   "id": "6d9f6c9d",
   "metadata": {},
   "outputs": [],
   "source": []
  },
  {
   "cell_type": "code",
   "execution_count": null,
   "id": "0440f339",
   "metadata": {},
   "outputs": [],
   "source": []
  },
  {
   "cell_type": "code",
   "execution_count": null,
   "id": "841d96a3",
   "metadata": {},
   "outputs": [],
   "source": []
  }
 ],
 "metadata": {
  "kernelspec": {
   "display_name": "Python 3",
   "language": "python",
   "name": "python3"
  },
  "language_info": {
   "codemirror_mode": {
    "name": "ipython",
    "version": 3
   },
   "file_extension": ".py",
   "mimetype": "text/x-python",
   "name": "python",
   "nbconvert_exporter": "python",
   "pygments_lexer": "ipython3",
   "version": "3.8.8"
  }
 },
 "nbformat": 4,
 "nbformat_minor": 5
}
