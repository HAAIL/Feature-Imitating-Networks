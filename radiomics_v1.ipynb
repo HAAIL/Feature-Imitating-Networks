{
 "cells": [
  {
   "cell_type": "code",
   "execution_count": 7,
   "id": "10bf0ed5",
   "metadata": {},
   "outputs": [],
   "source": [
    "import numpy as np\n",
    "from numpy import random\n",
    "import random\n",
    "import matplotlib.pyplot as plt\n",
    "from scipy.signal import cwt,ricker\n",
    "from scipy import stats\n",
    "from sklearn.preprocessing import StandardScaler,normalize\n",
    "from sklearn.preprocessing import MinMaxScaler\n",
    "\n",
    "import os\n",
    "#os.environ[\"CUDA_VISIBLE_DEVICES\"]=\"-1\"   \n",
    "import tensorflow as tf\n",
    "import tensorflow.keras as keras\n",
    "import tensorflow.keras.optimizers\n",
    "from tensorflow.keras.models import Sequential\n",
    "from keras.callbacks import EarlyStopping\n",
    "from keras.models import load_model\n",
    "from tensorflow.keras.layers import Flatten,concatenate,Layer,Dense,LSTM,Activation,MaxPooling2D,Dropout,Conv2D,BatchNormalization,Reshape,UpSampling2D,ZeroPadding2D\n",
    "import nibabel as nib\n",
    "import pydicom as dicom\n",
    "from pydicom.pixel_data_handlers.util import apply_voi_lut\n",
    "import tensorflow_io as tfio\n",
    "import radiomics\n",
    "from radiomics import featureextractor,firstorder\n",
    "import SimpleITK as sitk\n"
   ]
  },
  {
   "cell_type": "code",
   "execution_count": null,
   "id": "4e7d288f",
   "metadata": {},
   "outputs": [],
   "source": []
  },
  {
   "cell_type": "code",
   "execution_count": 8,
   "id": "8fcb1ab9",
   "metadata": {},
   "outputs": [],
   "source": [
    "#os.environ['TF_CPP_MIN_LOG_LEVEL'] = '2'\n",
    "CUDA_VISIBLE_DEVICES=0"
   ]
  },
  {
   "cell_type": "code",
   "execution_count": 9,
   "id": "3f10f0c6",
   "metadata": {},
   "outputs": [
    {
     "data": {
      "text/plain": [
       "[PhysicalDevice(name='/physical_device:GPU:0', device_type='GPU')]"
      ]
     },
     "execution_count": 9,
     "metadata": {},
     "output_type": "execute_result"
    }
   ],
   "source": [
    "tf.test.is_built_with_cuda()\n",
    "tf.config.list_physical_devices('GPU')"
   ]
  },
  {
   "cell_type": "code",
   "execution_count": 10,
   "id": "b8b2c5e7",
   "metadata": {},
   "outputs": [
    {
     "name": "stdout",
     "output_type": "stream",
     "text": [
      "[name: \"/device:CPU:0\"\n",
      "device_type: \"CPU\"\n",
      "memory_limit: 268435456\n",
      "locality {\n",
      "}\n",
      "incarnation: 4122194470782375995\n",
      "xla_global_id: -1\n",
      ", name: \"/device:GPU:0\"\n",
      "device_type: \"GPU\"\n",
      "memory_limit: 32493010944\n",
      "locality {\n",
      "  bus_id: 1\n",
      "  links {\n",
      "  }\n",
      "}\n",
      "incarnation: 6420861324911211377\n",
      "physical_device_desc: \"device: 0, name: Tesla V100-SXM2-32GB, pci bus id: 0000:16:00.0, compute capability: 7.0\"\n",
      "xla_global_id: 416903419\n",
      "]\n"
     ]
    },
    {
     "name": "stderr",
     "output_type": "stream",
     "text": [
      "2022-07-12 02:28:40.844789: I tensorflow/core/common_runtime/gpu/gpu_device.cc:1532] Created device /device:GPU:0 with 30987 MB memory:  -> device: 0, name: Tesla V100-SXM2-32GB, pci bus id: 0000:16:00.0, compute capability: 7.0\n"
     ]
    }
   ],
   "source": [
    "from tensorflow.python.client import device_lib \n",
    "print(device_lib.list_local_devices())"
   ]
  },
  {
   "cell_type": "code",
   "execution_count": 5,
   "id": "79f4f8e1",
   "metadata": {},
   "outputs": [],
   "source": [
    "#data https://wiki.cancerimagingarchive.net/display/Public/Lung+CT+Segmentation+Challenge+2017"
   ]
  },
  {
   "cell_type": "code",
   "execution_count": 6,
   "id": "e16d7920",
   "metadata": {},
   "outputs": [
    {
     "name": "stderr",
     "output_type": "stream",
     "text": [
      "2022-07-12 02:24:28.021356: I tensorflow/core/common_runtime/gpu/gpu_device.cc:1532] Created device /job:localhost/replica:0/task:0/device:GPU:0 with 30987 MB memory:  -> device: 0, name: Tesla V100-SXM2-32GB, pci bus id: 0000:16:00.0, compute capability: 7.0\n",
      "2022-07-12 02:24:28.593711: W tensorflow_io/core/kernels/audio_video_mp3_kernels.cc:271] libmp3lame.so.0 or lame functions are not available\n",
      "2022-07-12 02:24:28.594151: I tensorflow_io/core/kernels/cpu_check.cc:128] Your CPU supports instructions that this TensorFlow IO binary was not compiled to use: AVX2 AVX512F FMA\n"
     ]
    },
    {
     "data": {
      "text/plain": [
       "<matplotlib.image.AxesImage at 0x2b58fff2cac0>"
      ]
     },
     "execution_count": 6,
     "metadata": {},
     "output_type": "execute_result"
    },
    {
     "data": {
      "image/png": "[encoded data removed]",
      "text/plain": [
       "<Figure size 432x288 with 1 Axes>"
      ]
     },
     "metadata": {
      "needs_background": "light"
     },
     "output_type": "display_data"
    }
   ],
   "source": [
    "mk = tf.io.read_file('./out.dcm' )\n",
    "mkf = tfio.image.decode_dicom_image(mk, color_dim=True,scale='auto',on_error='lossy', dtype=tf.uint8)[0]\n",
    "plt.imshow(np.squeeze(mkf.numpy()), cmap='gray')"
   ]
  },
  {
   "cell_type": "code",
   "execution_count": 18,
   "id": "d4fe30de",
   "metadata": {},
   "outputs": [
    {
     "name": "stdout",
     "output_type": "stream",
     "text": [
      "(512, 512, 512)\n"
     ]
    }
   ],
   "source": [
    "mask = np.ones((512,512,512))\n",
    "print(mask.shape)"
   ]
  },
  {
   "cell_type": "code",
   "execution_count": 19,
   "id": "bcc8a1aa",
   "metadata": {},
   "outputs": [],
   "source": [
    "castFilter = sitk.CastImageFilter()\n",
    "castFilter.SetOutputPixelType(sitk.sitkUInt16)\n",
    "\n",
    "# Convert floating type image (imgSmooth) to int type (imgFiltered)\n",
    "imgFiltered = castFilter.Execute(mask_file)"
   ]
  },
  {
   "cell_type": "code",
   "execution_count": 3,
   "id": "e634ce71",
   "metadata": {},
   "outputs": [],
   "source": [
    "# function return a mean feature of a single image\n",
    "def GetMean(data):\n",
    "\n",
    "    return np.mean(data.reshape(len(data[0])*len(data)))\n",
    "\n",
    "def GetStd(data):\n",
    "\n",
    "    return np.std(data.reshape(len(data[0])*len(data)))\n",
    "\n",
    "def GetSkew(data):\n",
    "    return stats.skew(data.reshape(len(data[0])*len(data)))\n",
    "\n",
    "def GetKurtosis(data):\n",
    "    return stats.kurtosis(data.reshape(len(data[0])*len(data)))\n",
    "\n",
    "\n",
    "    \n",
    "# ddd = np.array([[[1],[2],[3]],[[3],[2],[1]],[[2],[2],[2]]])\n",
    "# ddd.shape\n",
    "# print(GetMean(ddd))"
   ]
  },
  {
   "cell_type": "code",
   "execution_count": null,
   "id": "2a1ecd60",
   "metadata": {},
   "outputs": [
    {
     "name": "stderr",
     "output_type": "stream",
     "text": [
      "2022-07-11 01:20:44.880457: E tensorflow/stream_executor/cuda/cuda_driver.cc:271] failed call to cuInit: CUDA_ERROR_NO_DEVICE: no CUDA-capable device is detected\n",
      "2022-07-11 01:20:44.880556: I tensorflow/stream_executor/cuda/cuda_diagnostics.cc:169] retrieving CUDA diagnostic information for host: csn-033\n",
      "2022-07-11 01:20:44.880587: I tensorflow/stream_executor/cuda/cuda_diagnostics.cc:176] hostname: csn-033\n",
      "2022-07-11 01:20:44.880716: I tensorflow/stream_executor/cuda/cuda_diagnostics.cc:200] libcuda reported version is: 470.82.1\n",
      "2022-07-11 01:20:44.880768: I tensorflow/stream_executor/cuda/cuda_diagnostics.cc:204] kernel reported version is: 470.82.1\n",
      "2022-07-11 01:20:44.880780: I tensorflow/stream_executor/cuda/cuda_diagnostics.cc:310] kernel version seems to match DSO: 470.82.1\n"
     ]
    }
   ],
   "source": [
    "\n",
    "\n",
    "# load data files\n",
    "def Load_data_dicts(foldernames):\n",
    "    result = []\n",
    "    for i in foldernames:\n",
    "        files  = tf.io.gfile.listdir('./Lung_Train/' + i)\n",
    "        for j in files:\n",
    "            result.append(tf.io.read_file('./Lung_Train/'+ i +'/' + j ))\n",
    "    return result\n",
    "\n",
    "image_bytes = Load_data_dicts(['d1','d2', 'd3', 'd4','d5','d6','d7','d8','d9','d10','d11','d12',\n",
    "                              'd2_1','d2_2', 'd2_3', 'd2_4','d2_5','d2_6','d2_7','d2_8','d2_9','d2_10','d2_11','d2_12'\n",
    "                              ,'d3_1','d3_2', 'd3_3', 'd3_4','d3_5','d3_6','d3_7','d3_8'\n",
    "                              ,'d3_9','d3_10','d3_11','d3_12'\n",
    "                              ])\n",
    "\n",
    "\n",
    "# print(np.array(image_bytes).shape)\n",
    "# # files = tf.io.gfile.listdir('./Lung_Train/d1')\n",
    "# # files2 = tf.io.gfile.listdir('./Lung_Train/d2')\n",
    "filestest = Load_data_dicts(['t1','t3',\"t2\",\"t4\"])"
   ]
  },
  {
   "cell_type": "code",
   "execution_count": 6,
   "id": "f03db36e",
   "metadata": {},
   "outputs": [],
   "source": [
    "# load the image data \n",
    "# image_bytes=[]\n",
    "# image_bytestest = []\n",
    "# for i in files:\n",
    "#     image_bytes.append(tf.io.read_file('./Lung_Train/d1/'+ i))\n",
    "# for i in files2:\n",
    "#     image_bytes.append(tf.io.read_file('./Lung_Train/d2/'+ i))\n",
    "    \n",
    "    \n",
    "    \n",
    "# for i in filestest:\n",
    "#     image_bytestest.append(tf.io.read_file('./Lung_Train/t1/'+ i))"
   ]
  },
  {
   "cell_type": "code",
   "execution_count": 7,
   "id": "5073b166",
   "metadata": {},
   "outputs": [],
   "source": [
    "#i = tf.io.gfile.GFile('./Lung_Train/d1/1-001.dcm').read(-1)\n"
   ]
  },
  {
   "cell_type": "code",
   "execution_count": 8,
   "id": "8de7be9a",
   "metadata": {},
   "outputs": [
    {
     "name": "stderr",
     "output_type": "stream",
     "text": [
      "2022-07-09 22:23:40.335880: W tensorflow_io/core/kernels/audio_video_mp3_kernels.cc:271] libmp3lame.so.0 or lame functions are not available\n",
      "2022-07-09 22:23:40.336975: I tensorflow_io/core/kernels/cpu_check.cc:128] Your CPU supports instructions that this TensorFlow IO binary was not compiled to use: AVX2 FMA\n"
     ]
    }
   ],
   "source": [
    "#scale it to unit8\n",
    "images = []\n",
    "imagestest = []\n",
    "for i in image_bytes:\n",
    "    image = tfio.image.decode_dicom_image(i, color_dim=True,scale='auto',on_error='lossy', dtype=tf.uint8)[0]\n",
    "    images.append(image)\n",
    "    \n",
    "for i in filestest:\n",
    "    imagetest = tfio.image.decode_dicom_image(i, color_dim=True,scale='auto',on_error='lossy', dtype=tf.uint8)[0]\n",
    "    imagestest.append(imagetest)"
   ]
  },
  {
   "cell_type": "code",
   "execution_count": 9,
   "id": "936d7375",
   "metadata": {},
   "outputs": [
    {
     "data": {
      "text/plain": [
       "(5819, 512, 512, 1)"
      ]
     },
     "execution_count": 9,
     "metadata": {},
     "output_type": "execute_result"
    }
   ],
   "source": [
    "images = np.array(images)\n",
    "imagestest = np.array(imagestest)\n",
    "#imagestest = np.array(imagesval)\n",
    "images.shape\n",
    "#imagestest.shape"
   ]
  },
  {
   "cell_type": "code",
   "execution_count": 18,
   "id": "b6c102ee",
   "metadata": {},
   "outputs": [],
   "source": [
    "# output_mean image data\n",
    "output_mean_image = []\n",
    "output_mean_imagetest = []\n",
    "\n",
    "output_std_image = []\n",
    "output_std_imagetest  = []\n",
    "\n",
    "for i in images:\n",
    "    output_mean_image.append(GetMean(i))\n",
    "    output_std_image.append(GetStd(i))\n",
    "    \n",
    "for i in imagestest:\n",
    "    output_mean_imagetest.append(GetMean(i))\n",
    "    output_std_imagetest.append(GetStd(i))\n",
    "    \n",
    "output_mean_image= np.array(output_mean_image)\n",
    "output_std_image= np.array(output_std_image)\n",
    "\n",
    "output_mean_imagetest= np.array(output_mean_imagetest)\n",
    "output_std_imagetest= np.array(output_std_imagetest)\n",
    "# output_mean_imagetest.shape"
   ]
  },
  {
   "cell_type": "code",
   "execution_count": 19,
   "id": "1a830570",
   "metadata": {},
   "outputs": [
    {
     "data": {
      "text/plain": [
       "<matplotlib.image.AxesImage at 0x2ba4cb35ffd0>"
      ]
     },
     "execution_count": 19,
     "metadata": {},
     "output_type": "execute_result"
    },
    {
     "data": {
      "image/png": "[encoded data removed]",
      "text/plain": [
       "<Figure size 432x288 with 1 Axes>"
      ]
     },
     "metadata": {
      "needs_background": "light"
     },
     "output_type": "display_data"
    }
   ],
   "source": [
    "plt.imshow(np.squeeze(image.numpy()), cmap='gray')"
   ]
  },
  {
   "cell_type": "markdown",
   "id": "fe00017d",
   "metadata": {},
   "source": [
    "# After Loading, train to get the mean FIN"
   ]
  },
  {
   "cell_type": "code",
   "execution_count": 17,
   "id": "3c2b24ba",
   "metadata": {},
   "outputs": [],
   "source": [
    "input_layer = keras.Input(shape=(512,512,1))\n",
    "x = Flatten()(input_layer)\n",
    "mean_1 = Dense(128, activation='relu')(x)\n",
    "mean_2 = Dense(128, activation='relu')(mean_1)\n",
    "mean_3 = Dense(128, activation='relu')(mean_2)\n",
    "mean_4 = Dense(128, activation='relu')(mean_3)\n",
    "mean_5 = Dense(128, activation='relu')(mean_4)\n",
    "mean_out = Dense(1, activation = 'linear', name = 'mean')(mean_5)\n",
    "\n",
    "meanModel = keras.Model(input_layer, mean_out, name= \"mean\")"
   ]
  },
  {
   "cell_type": "code",
   "execution_count": 29,
   "id": "28810f58",
   "metadata": {},
   "outputs": [],
   "source": [
    "meanModel.compile(optimizer=tf.keras.optimizers.Adam(\n",
    "   learning_rate= 0.0000001\n",
    "), loss=\"mean_squared_error\")\n",
    "es = EarlyStopping(monitor='val_loss', mode='min', verbose=1,patience=5)"
   ]
  },
  {
   "cell_type": "code",
   "execution_count": 36,
   "id": "3126af1e",
   "metadata": {},
   "outputs": [],
   "source": [
    "# meanModel.fit(images, output_mean_image, \n",
    "#              # validation_data=(imagesval,output_mean_imageval), \n",
    "#               epochs=1000, batch_size=64,\n",
    "#              #callbacks=[es],\n",
    "#                 shuffle=True)\n"
   ]
  },
  {
   "cell_type": "code",
   "execution_count": 33,
   "id": "721b6f9f",
   "metadata": {},
   "outputs": [
    {
     "name": "stdout",
     "output_type": "stream",
     "text": [
      "18/18 [==============================] - 0s 12ms/step\n"
     ]
    },
    {
     "data": {
      "text/plain": [
       "[<matplotlib.lines.Line2D at 0x2ab5b50330a0>]"
      ]
     },
     "execution_count": 33,
     "metadata": {},
     "output_type": "execute_result"
    },
    {
     "data": {
      "image/png": "[encoded data removed]",
      "text/plain": [
       "<Figure size 432x288 with 1 Axes>"
      ]
     },
     "metadata": {
      "needs_background": "light"
     },
     "output_type": "display_data"
    }
   ],
   "source": [
    "#plt.plot(range(50),output_mean_imagetest[:50] ,range(50),meanModel.predict(imagestest)[:50] )\n",
    "\n",
    "plt.plot(output_mean_imagetest ,meanModel.predict(imagestest) )\n",
    "#meanModel.predict(imagestest).shape\n",
    "#output_mean_imagetest.shape"
   ]
  },
  {
   "cell_type": "code",
   "execution_count": 197,
   "id": "d21b4a65",
   "metadata": {},
   "outputs": [],
   "source": [
    "#extractor = featureextractor.RadiomicsFeatureExtractor()\n",
    "#extractor.execute('./Lung_Train/1-001.dcm','./Lung_Train/1-001.dcm')"
   ]
  },
  {
   "cell_type": "code",
   "execution_count": 37,
   "id": "e3e88d82",
   "metadata": {},
   "outputs": [],
   "source": [
    "#meanModel.save((\"./radiomics_mean_512.h5\"))"
   ]
  },
  {
   "cell_type": "code",
   "execution_count": 30,
   "id": "f0016c3b",
   "metadata": {},
   "outputs": [
    {
     "name": "stdout",
     "output_type": "stream",
     "text": [
      "18/18 [==============================] - 0s 12ms/step - loss: 0.1568\n"
     ]
    },
    {
     "data": {
      "text/plain": [
       "0.1567588895559311"
      ]
     },
     "execution_count": 30,
     "metadata": {},
     "output_type": "execute_result"
    }
   ],
   "source": [
    "# evaluate the mean Model\n",
    "#meanModel = load_model(\"./radiomics_mean_512.h5\")\n",
    "meanModel.evaluate(imagestest, output_mean_imagetest)"
   ]
  },
  {
   "cell_type": "code",
   "execution_count": null,
   "id": "042de3f9",
   "metadata": {},
   "outputs": [],
   "source": [
    "# we can see from the test set the model predict pretty good feature value"
   ]
  },
  {
   "cell_type": "code",
   "execution_count": 75,
   "id": "39118fd5",
   "metadata": {},
   "outputs": [],
   "source": [
    "input_layer = keras.Input(shape=(512,512,1))\n",
    "x = Flatten()(input_layer)\n",
    "std_1 = Dense(128, activation='relu')(x)\n",
    "std_2 = Dense(256, activation='relu')(std_1)\n",
    "std_3 = Dense(256, activation='relu')(std_2)\n",
    "std_4 = Dense(256, activation='relu')(std_3)\n",
    "std_5 = Dense(256, activation='relu')(std_4)\n",
    "std_6 = Dense(128, activation='relu')(std_5)\n",
    "std_7 = Dense(64, activation='relu')(std_6)\n",
    "\n",
    "std_out = Dense(1, activation = 'linear', name = 'std')(std_7)\n",
    "\n",
    "stdModel = keras.Model(input_layer, std_out, name= \"std\")"
   ]
  },
  {
   "cell_type": "code",
   "execution_count": 43,
   "id": "2994a38f",
   "metadata": {},
   "outputs": [],
   "source": [
    "\n",
    "#stdModel = load_model(\"./radiomics_std13_512.h5\")\n",
    "\n",
    "stdModel.compile(optimizer=tf.keras.optimizers.Adam(\n",
    "  learning_rate= 0.0000001\n",
    "), loss=\"mean_squared_error\")"
   ]
  },
  {
   "cell_type": "code",
   "execution_count": null,
   "id": "064c18d8",
   "metadata": {},
   "outputs": [],
   "source": []
  },
  {
   "cell_type": "code",
   "execution_count": 48,
   "id": "de5dddf3",
   "metadata": {},
   "outputs": [],
   "source": [
    "\n",
    "\n",
    "# stdModel.fit(images, output_std_image, \n",
    "#              # validation_data=(imagesval,output_mean_imageval), \n",
    "#               epochs=100, batch_size=32,\n",
    "#              #callbacks=[es],\n",
    "#                 shuffle=True\n",
    "#             )"
   ]
  },
  {
   "cell_type": "code",
   "execution_count": 49,
   "id": "4dfc091a",
   "metadata": {},
   "outputs": [],
   "source": [
    "stdModel.save((\"./radiomics_std13_512.h5\"))"
   ]
  },
  {
   "cell_type": "code",
   "execution_count": 46,
   "id": "86bdb4e2",
   "metadata": {},
   "outputs": [
    {
     "name": "stdout",
     "output_type": "stream",
     "text": [
      "18/18 [==============================] - 0s 10ms/step\n"
     ]
    },
    {
     "data": {
      "text/plain": [
       "0.07194969803094864"
      ]
     },
     "execution_count": 46,
     "metadata": {},
     "output_type": "execute_result"
    },
    {
     "data": {
      "image/png": "[encoded data removed]",
      "text/plain": [
       "<Figure size 432x288 with 1 Axes>"
      ]
     },
     "metadata": {
      "needs_background": "light"
     },
     "output_type": "display_data"
    }
   ],
   "source": [
    "plt.plot(range(50),output_std_imagetest[0:50] ,range(50),stdModel.predict(imagestest)[0:50] )\n",
    "\n",
    "#plt.plot(output_std_imagetest ,stdModel.predict(imagestest) )\n",
    "stdModel.evaluate(imagestest, output_std_imagetest, verbose=0)\n"
   ]
  },
  {
   "cell_type": "code",
   "execution_count": 10,
   "id": "034c20a4",
   "metadata": {},
   "outputs": [],
   "source": [
    "# output skew and kurtsis image data\n",
    "output_skew_image = []\n",
    "output_kur_image = []\n",
    "\n",
    "output_skew_imagetest = []\n",
    "output_kur_imagetest  = []\n",
    "\n",
    "for i in images:\n",
    "    output_skew_image.append(GetSkew(i))\n",
    "    output_kur_image.append(GetKurtosis(i))\n",
    "    \n",
    "for i in imagestest:\n",
    "    output_skew_imagetest.append(GetSkew(i))\n",
    "    output_kur_imagetest.append(GetKurtosis(i))\n",
    "    \n",
    "output_skew_image= np.array(output_skew_image)\n",
    "output_kur_image= np.array(output_kur_image)\n",
    "\n",
    "output_skew_imagetest= np.array(output_skew_imagetest)\n",
    "output_kur_imagetest= np.array(output_kur_imagetest)"
   ]
  },
  {
   "cell_type": "code",
   "execution_count": 128,
   "id": "cac25779",
   "metadata": {},
   "outputs": [],
   "source": [
    "input_layer = keras.Input(shape=(512,512,1))\n",
    "x = Flatten()(input_layer)\n",
    "skew1 = Dense(128, activation='relu')(x)\n",
    "skew2 = Dense(128, activation='relu')(skew1)\n",
    "firstout = Dense(1, activation = 'linear', name = 'mean')(skew2)\n",
    "\n",
    "dskew_1 = Dense(128, activation='relu')(x)\n",
    "dskew_2 = Dense(128, activation='relu')(dskew_1)\n",
    "dskew_3 = Dense(128, activation='relu')(dskew_2)\n",
    "\n",
    "secondout = Dense(1, activation = 'linear', name = 'std')(dskew_3)\n",
    "\n",
    "\n",
    "n_d = concatenate([firstout,secondout])\n",
    "\n",
    "nd1 = Dense(128, activation='relu')(n_d)\n",
    "nd2 = Dense(256, activation='relu')(nd1)\n",
    "nd3 = Dense(256, activation='relu')(nd2)\n",
    "nd4 = Dense(256, activation='relu')(nd3)\n",
    "nd5 = Dense(256, activation='relu')(nd4)\n",
    "\n",
    "\n",
    "\n",
    "skew_out = Dense(1, activation = 'linear', name= 'skewness')(nd5)\n",
    "\n",
    "skewModel = keras.Model(input_layer, skew_out, name= \"skewness\")"
   ]
  },
  {
   "cell_type": "code",
   "execution_count": 155,
   "id": "158ced21",
   "metadata": {},
   "outputs": [],
   "source": [
    "\n",
    "skewModel.compile(optimizer=tf.keras.optimizers.Adam(\n",
    " learning_rate= 0.0000000001\n",
    "), loss=\"mean_squared_error\")\n",
    "\n"
   ]
  },
  {
   "cell_type": "code",
   "execution_count": 156,
   "id": "00d16b8f",
   "metadata": {},
   "outputs": [
    {
     "name": "stdout",
     "output_type": "stream",
     "text": [
      "Epoch 1/5\n",
      "182/182 [==============================] - 10s 49ms/step - loss: 0.6594\n",
      "Epoch 2/5\n",
      "182/182 [==============================] - 9s 51ms/step - loss: 0.6578\n",
      "Epoch 3/5\n",
      "182/182 [==============================] - 10s 54ms/step - loss: 0.6562\n",
      "Epoch 4/5\n",
      "182/182 [==============================] - 9s 51ms/step - loss: 0.6546\n",
      "Epoch 5/5\n",
      "182/182 [==============================] - 9s 50ms/step - loss: 0.6530\n"
     ]
    },
    {
     "data": {
      "text/plain": [
       "<keras.callbacks.History at 0x2ba807ef57c0>"
      ]
     },
     "execution_count": 156,
     "metadata": {},
     "output_type": "execute_result"
    }
   ],
   "source": [
    "skewModel.fit(images, output_skew_image, \n",
    "             # validation_data=(imagesval,output_mean_imageval), \n",
    "              epochs=5, batch_size=32,\n",
    "             #callbacks=[es],\n",
    "                shuffle=True)"
   ]
  },
  {
   "cell_type": "code",
   "execution_count": 157,
   "id": "5f20f67d",
   "metadata": {},
   "outputs": [
    {
     "name": "stdout",
     "output_type": "stream",
     "text": [
      "18/18 [==============================] - 0s 16ms/step\n"
     ]
    },
    {
     "data": {
      "text/plain": [
       "[<matplotlib.lines.Line2D at 0x2ba7abf9a6a0>,\n",
       " <matplotlib.lines.Line2D at 0x2ba7abf9a700>]"
      ]
     },
     "execution_count": 157,
     "metadata": {},
     "output_type": "execute_result"
    },
    {
     "data": {
      "image/png": "[encoded data removed]",
      "text/plain": [
       "<Figure size 432x288 with 1 Axes>"
      ]
     },
     "metadata": {
      "needs_background": "light"
     },
     "output_type": "display_data"
    }
   ],
   "source": [
    "plt.plot(range(50),output_skew_imagetest[0:50] ,range(50),skewModel.predict(imagestest)[0:50] )"
   ]
  },
  {
   "cell_type": "code",
   "execution_count": 158,
   "id": "dad2e37f",
   "metadata": {},
   "outputs": [],
   "source": [
    "skewModel.save(\"./radiomics_skew3_512.h5\")"
   ]
  },
  {
   "cell_type": "code",
   "execution_count": 11,
   "id": "8110fc51",
   "metadata": {},
   "outputs": [],
   "source": [
    "input_layer = keras.Input(shape=(512,512,1))\n",
    "i = Flatten()(input_layer)\n",
    "i = BatchNormalization(axis=1)(i)\n",
    "x = Dense(64, activation='relu')(i)\n",
    "x1 = Dense(64, activation='relu')(x)\n",
    "firstout = Dense(1, activation = 'linear', name = 'mean')(x1)\n",
    "\n",
    "z = Dense(64, activation='relu')(i)\n",
    "z = Dense(64, activation='relu')(z)\n",
    "z1 = Dense(64, activation='relu')(z)\n",
    "\n",
    "secondout = Dense(1, activation = 'linear', name = 'std')(z1)\n",
    "\n",
    "\n",
    "n_d = concatenate([firstout,secondout])\n",
    "\n",
    "nd1 = Dense(64, activation='relu')(n_d)\n",
    "nd2 = Dense(128, activation='relu')(nd1)\n",
    "nd3 = Dense(256, activation='relu')(nd2)\n",
    "nd4 = Dense(256, activation='relu')(nd3)\n",
    "nd5 = Dense(128, activation='relu')(nd4)\n",
    "nd6 = Dense(64, activation='relu')(nd5)\n",
    "\n",
    "\n",
    "kur_out = Dense(1, activation = 'linear', name= 'kur')(nd6)\n",
    "\n",
    "kurModel = keras.Model(input_layer, kur_out, name= \"kur\")\n",
    "\n"
   ]
  },
  {
   "cell_type": "code",
   "execution_count": 103,
   "id": "f0f26b57",
   "metadata": {},
   "outputs": [],
   "source": [
    "kurModel.compile(optimizer=tf.keras.optimizers.Adam(\n",
    "  learning_rate= 0.00000001\n",
    "), loss=\"mse\")\n",
    "\n"
   ]
  },
  {
   "cell_type": "code",
   "execution_count": 108,
   "id": "baf684a4",
   "metadata": {},
   "outputs": [],
   "source": [
    "# kurModel.fit(images, output_kur_image, \n",
    "#              # validation_data=(imagesval,output_mean_imageval), \n",
    "#               epochs=500, batch_size=128,\n",
    "#              #callbacks=[es],\n",
    "#                 shuffle=True\n",
    "#             )"
   ]
  },
  {
   "cell_type": "code",
   "execution_count": 106,
   "id": "1f2d3317",
   "metadata": {},
   "outputs": [
    {
     "name": "stdout",
     "output_type": "stream",
     "text": [
      "18/18 [==============================] - 0s 12ms/step\n"
     ]
    },
    {
     "data": {
      "text/plain": [
       "2.0300159454345703"
      ]
     },
     "execution_count": 106,
     "metadata": {},
     "output_type": "execute_result"
    },
    {
     "data": {
      "image/png": "[encoded data removed]",
      "text/plain": [
       "<Figure size 432x288 with 1 Axes>"
      ]
     },
     "metadata": {
      "needs_background": "light"
     },
     "output_type": "display_data"
    }
   ],
   "source": [
    "#kurModel = load_model(\"./radiomics_kur6_512.h5\")\n",
    "\n",
    "#plt.plot(range(50),output_kur_imagetest[:50] ,range(50),kurModel.predict(imagestest)[:50] )\n",
    "plt.plot(range(50),output_kur_imagetest[150:200] ,range(50),kurModel.predict(imagestest)[150:200] )\n",
    "\n",
    "#plt.plot(output_kur_imagetest ,kurModel.predict(imagestest))\n",
    "kurModel.evaluate(imagestest, output_kur_imagetest, verbose=0)"
   ]
  },
  {
   "cell_type": "code",
   "execution_count": 107,
   "id": "a62bd101",
   "metadata": {},
   "outputs": [],
   "source": [
    "kurModel.save(\"./radiomics_kur8_512.h5\")"
   ]
  },
  {
   "cell_type": "code",
   "execution_count": null,
   "id": "75359ad0",
   "metadata": {},
   "outputs": [],
   "source": []
  }
 ],
 "metadata": {
  "kernelspec": {
   "display_name": "Python 3 (ipykernel)",
   "language": "python",
   "name": "python3"
  },
  "language_info": {
   "codemirror_mode": {
    "name": "ipython",
    "version": 3
   },
   "file_extension": ".py",
   "mimetype": "text/x-python",
   "name": "python",
   "nbconvert_exporter": "python",
   "pygments_lexer": "ipython3",
   "version": "3.9.12"
  }
 },
 "nbformat": 4,
 "nbformat_minor": 5
}
