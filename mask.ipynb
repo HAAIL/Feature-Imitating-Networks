{
 "cells": [
  {
   "cell_type": "code",
   "execution_count": 1,
   "id": "2a816734",
   "metadata": {},
   "outputs": [],
   "source": [
    "# reference to https://stackoverflow.com/questions/14350675/create-pydicom-file-from-numpy-array"
   ]
  },
  {
   "cell_type": "code",
   "execution_count": 2,
   "id": "fa30c687",
   "metadata": {},
   "outputs": [],
   "source": [
    "import numpy as np\n",
    "import cv2 \n",
    "import matplotlib.pyplot as plt\n",
    "import copy\n",
    "import pydicom\n",
    "from pydicom.data import get_testdata_file\n",
    "from pydicom.uid import ExplicitVRLittleEndian\n",
    "\n",
    "\n",
    "\n",
    "fpath = \"./Lung_Train/1-001.dcm\"\n",
    "\n",
    "ds = pydicom.dcmread(fpath)\n",
    "\n",
    "ds.file_meta.TransferSyntaxUID = ExplicitVRLittleEndian\n",
    "\n",
    "#ds.PixelData = np.random.randint(0,255,(ds.Rows, ds.Columns,1), dtype='uint16').tobytes()\n",
    "ds.PixelData = np.random.randint(16,17,(1, 512,512), dtype='uint16')\n",
    "\n",
    "ds.save_as(\"out.dcm\")\n",
    "\n",
    "\n",
    "\n",
    "# ds = pydicom.dcmread('./Lung_Train/1-001.dcm')\n",
    "# mask_list[0].astype('uint16')\n",
    "# ds.PixelData = mask_list[0].tobytes()"
   ]
  },
  {
   "cell_type": "code",
   "execution_count": 3,
   "id": "15602a7b",
   "metadata": {},
   "outputs": [],
   "source": [
    "aa = np.ones((20,10,1))"
   ]
  },
  {
   "cell_type": "code",
   "execution_count": 4,
   "id": "2660a149",
   "metadata": {},
   "outputs": [
    {
     "data": {
      "text/plain": [
       "(1, 10, 20)"
      ]
     },
     "execution_count": 4,
     "metadata": {},
     "output_type": "execute_result"
    }
   ],
   "source": [
    "bb= np.ones(aa.shape[::-1])\n",
    "bb.shape"
   ]
  },
  {
   "cell_type": "code",
   "execution_count": 5,
   "id": "62845854",
   "metadata": {},
   "outputs": [],
   "source": [
    "\n",
    "# helps modified the library source code and  generate the layer for the whole image\n",
    "\n",
    "#https://github.com/AIM-Harvard/pyradiomics/issues/658\n",
    "\n",
    "#https://github.com/AIM-Harvard/pyradiomics/issues/368"
   ]
  },
  {
   "cell_type": "code",
   "execution_count": 6,
   "id": "2e2fd2b1",
   "metadata": {},
   "outputs": [],
   "source": [
    "import SimpleITK as sitk\n",
    "import numpy as np\n",
    "\n",
    "im = sitk.ReadImage('./Lung_Train/1-02.dcm')\n",
    "ma_arr = np.ones(im.GetSize()[::-1])  # reverse the order as image is xyz, array is zyx\n",
    "ma = sitk.GetImageFromArray(ma_arr)\n",
    "ma.CopyInformation(im)  # Copy geometric info\n",
    "\n"
   ]
  },
  {
   "cell_type": "code",
   "execution_count": 7,
   "id": "8654c2b5",
   "metadata": {},
   "outputs": [],
   "source": [
    "from radiomics.featureextractor import RadiomicsFeatureExtractor\n",
    "\n",
    "extractor = RadiomicsFeatureExtractor()\n",
    "\n",
    "# Disable all classes except firstorder\n",
    "extractor.disableAllFeatures()\n",
    "extractor.enableFeaturesByName(firstorder=['Mean'])\n",
    "\n",
    "features = extractor.execute(im, ma,\n",
    "                             #voxelBased=True\n",
    "                            )"
   ]
  },
  {
   "cell_type": "code",
   "execution_count": 8,
   "id": "77815ea7",
   "metadata": {},
   "outputs": [
    {
     "name": "stdout",
     "output_type": "stream",
     "text": [
      "Computed diagnostics_Versions_PyRadiomics: v3.0.1\n",
      "Computed diagnostics_Versions_Numpy: 1.23.1\n",
      "Computed diagnostics_Versions_SimpleITK: 2.1.1.2\n",
      "Computed diagnostics_Versions_PyWavelet: 1.3.0\n",
      "Computed diagnostics_Versions_Python: 3.9.12\n",
      "Computed diagnostics_Configuration_Settings: {'minimumROIDimensions': 2, 'minimumROISize': None, 'normalize': False, 'normalizeScale': 1, 'removeOutliers': None, 'resampledPixelSpacing': None, 'interpolator': 'sitkBSpline', 'preCrop': False, 'padDistance': 5, 'distances': [1], 'force2D': False, 'force2Ddimension': 0, 'resegmentRange': None, 'label': 1, 'additionalInfo': True}\n",
      "Computed diagnostics_Configuration_EnabledImageTypes: {'Original': {}}\n",
      "Computed diagnostics_Image-original_Hash: 0f2cbba45f111dad4954a74dad1577eb6bbea637\n",
      "Computed diagnostics_Image-original_Dimensionality: 3D\n",
      "Computed diagnostics_Image-original_Spacing: (0.623046875, 0.623046875, 1.0)\n",
      "Computed diagnostics_Image-original_Size: (512, 512, 1)\n",
      "Computed diagnostics_Image-original_Mean: -473.4570541381836\n",
      "Computed diagnostics_Image-original_Minimum: -1024.0\n",
      "Computed diagnostics_Image-original_Maximum: 3071.0\n",
      "Computed diagnostics_Mask-original_Hash: 3baae82bdd67a962acb5bf60dcd3b68c794f84c7\n",
      "Computed diagnostics_Mask-original_Spacing: (0.623046875, 0.623046875, 1.0)\n",
      "Computed diagnostics_Mask-original_Size: (512, 512, 1)\n",
      "Computed diagnostics_Mask-original_BoundingBox: (0, 0, 0, 512, 512, 1)\n",
      "Computed diagnostics_Mask-original_VoxelNum: 262144\n",
      "Computed diagnostics_Mask-original_VolumeNum: 1\n",
      "Computed diagnostics_Mask-original_CenterOfMassIndex: (255.5, 255.5, 0.0)\n",
      "Computed diagnostics_Mask-original_CenterOfMass: (1.0, -148.0, 379.0)\n",
      "Computed original_firstorder_Mean: -473.4570541381836\n"
     ]
    }
   ],
   "source": [
    "for featureName in features.keys():\n",
    "  print(\"Computed %s: %s\" % (featureName, features[featureName]))\n"
   ]
  },
  {
   "cell_type": "code",
   "execution_count": 9,
   "id": "feeec75e",
   "metadata": {},
   "outputs": [
    {
     "name": "stdout",
     "output_type": "stream",
     "text": [
      "Computed diagnostics_Versions_PyRadiomics: v3.0.1\n",
      "Computed diagnostics_Versions_Numpy: 1.23.1\n",
      "Computed diagnostics_Versions_SimpleITK: 2.1.1.2\n",
      "Computed diagnostics_Versions_PyWavelet: 1.3.0\n",
      "Computed diagnostics_Versions_Python: 3.9.12\n",
      "Computed diagnostics_Configuration_Settings: {'minimumROIDimensions': 2, 'minimumROISize': None, 'normalize': False, 'normalizeScale': 1, 'removeOutliers': None, 'resampledPixelSpacing': None, 'interpolator': 'sitkBSpline', 'preCrop': False, 'padDistance': 5, 'distances': [1], 'force2D': False, 'force2Ddimension': 0, 'resegmentRange': None, 'label': 1, 'additionalInfo': True}\n",
      "Computed diagnostics_Configuration_EnabledImageTypes: {'Original': {}}\n",
      "Computed diagnostics_Image-original_Hash: 0f2cbba45f111dad4954a74dad1577eb6bbea637\n",
      "Computed diagnostics_Image-original_Dimensionality: 3D\n",
      "Computed diagnostics_Image-original_Spacing: (0.623046875, 0.623046875, 1.0)\n",
      "Computed diagnostics_Image-original_Size: (512, 512, 1)\n",
      "Computed diagnostics_Image-original_Mean: -473.4570541381836\n",
      "Computed diagnostics_Image-original_Minimum: -1024.0\n",
      "Computed diagnostics_Image-original_Maximum: 3071.0\n",
      "Computed diagnostics_Mask-original_Hash: 3baae82bdd67a962acb5bf60dcd3b68c794f84c7\n",
      "Computed diagnostics_Mask-original_Spacing: (0.623046875, 0.623046875, 1.0)\n",
      "Computed diagnostics_Mask-original_Size: (512, 512, 1)\n",
      "Computed diagnostics_Mask-original_BoundingBox: (0, 0, 0, 512, 512, 1)\n",
      "Computed diagnostics_Mask-original_VoxelNum: 262144\n",
      "Computed diagnostics_Mask-original_VolumeNum: 1\n",
      "Computed diagnostics_Mask-original_CenterOfMassIndex: (255.5, 255.5, 0.0)\n",
      "Computed diagnostics_Mask-original_CenterOfMass: (1.0, -148.0, 379.0)\n",
      "Computed original_firstorder_10Percentile: -1003.0\n",
      "Computed original_firstorder_90Percentile: 87.0\n",
      "Computed original_firstorder_Energy: 133067613542.0\n",
      "Computed original_firstorder_Entropy: 4.394359854610425\n",
      "Computed original_firstorder_InterquartileRange: 1020.0\n",
      "Computed original_firstorder_Kurtosis: 2.473050891130562\n",
      "Computed original_firstorder_Maximum: 3071.0\n",
      "Computed original_firstorder_MeanAbsoluteDeviation: 507.31706208374817\n",
      "Computed original_firstorder_Mean: -473.4570541381836\n",
      "Computed original_firstorder_Median: -734.0\n",
      "Computed original_firstorder_Minimum: -1024.0\n",
      "Computed original_firstorder_Range: 4095.0\n",
      "Computed original_firstorder_RobustMeanAbsoluteDeviation: 467.0354033135003\n",
      "Computed original_firstorder_RootMeanSquared: 712.4694109376989\n",
      "Computed original_firstorder_Skewness: 0.41074349745097044\n",
      "Computed original_firstorder_TotalEnergy: 51655172049.13125\n",
      "Computed original_firstorder_Uniformity: 0.0888659245101735\n",
      "Computed original_firstorder_Variance: 283451.07940870477\n"
     ]
    }
   ],
   "source": [
    "extractor.enableFeatureClassByName('firstorder')\n",
    "features = extractor.execute(im, ma\n",
    "                           #  ,voxelBased =True\n",
    "                            )\n",
    "for featureName in features.keys():\n",
    "  print(\"Computed %s: %s\" % (featureName, features[featureName]))"
   ]
  },
  {
   "cell_type": "code",
   "execution_count": null,
   "id": "6338a4f2",
   "metadata": {},
   "outputs": [],
   "source": []
  }
 ],
 "metadata": {
  "kernelspec": {
   "display_name": "Python 3 (ipykernel)",
   "language": "python",
   "name": "python3"
  },
  "language_info": {
   "codemirror_mode": {
    "name": "ipython",
    "version": 3
   },
   "file_extension": ".py",
   "mimetype": "text/x-python",
   "name": "python",
   "nbconvert_exporter": "python",
   "pygments_lexer": "ipython3",
   "version": "3.9.12"
  }
 },
 "nbformat": 4,
 "nbformat_minor": 5
}
