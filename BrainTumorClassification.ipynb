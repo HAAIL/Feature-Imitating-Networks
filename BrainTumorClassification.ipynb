{
 "cells": [
  {
   "cell_type": "code",
   "execution_count": 1,
   "id": "8e9ca31a",
   "metadata": {},
   "outputs": [
    {
     "name": "stderr",
     "output_type": "stream",
     "text": [
      "2022-10-24 05:14:51.162399: I tensorflow/core/util/util.cc:169] oneDNN custom operations are on. You may see slightly different numerical results due to floating-point round-off errors from different computation orders. To turn them off, set the environment variable `TF_ENABLE_ONEDNN_OPTS=0`.\n"
     ]
    }
   ],
   "source": [
    "import numpy as np\n",
    "from numpy import random\n",
    "import random\n",
    "import matplotlib.pyplot as plt\n",
    "from scipy.signal import cwt,ricker\n",
    "from scipy import stats\n",
    "from sklearn.preprocessing import StandardScaler,normalize\n",
    "from sklearn.preprocessing import MinMaxScaler\n",
    "from sklearn.model_selection import KFold\n",
    "from sklearn.linear_model import LogisticRegression\n",
    "import os\n",
    "import tensorflow as tf\n",
    "import tensorflow.keras as keras\n",
    "import tensorflow.keras.optimizers\n",
    "from tensorflow.keras.models import Sequential\n",
    "from keras.callbacks import EarlyStopping, ModelCheckpoint\n",
    "from keras.models import load_model\n",
    "from tensorflow.keras.layers import Flatten,concatenate,Layer,Dense,LSTM,Activation,MaxPooling2D,Dropout,Conv2D,BatchNormalization,Reshape,UpSampling2D,ZeroPadding2D\n",
    "import radiomics\n",
    "from radiomics.featureextractor import RadiomicsFeatureExtractor\n",
    "import SimpleITK as sitk\n",
    "import pandas as pd\n",
    "import tensorflow_addons as tfa"
   ]
  },
  {
   "cell_type": "code",
   "execution_count": 2,
   "id": "05152214",
   "metadata": {},
   "outputs": [
    {
     "name": "stdout",
     "output_type": "stream",
     "text": [
      "(512, 512, 3)\n"
     ]
    }
   ],
   "source": [
    "image = sitk.ReadImage('brainClassify/Training/glioma_tumor/gg (1).jpg')\n",
    "ma = sitk.GetArrayFromImage(image)\n",
    "print(ma.shape)"
   ]
  },
  {
   "cell_type": "code",
   "execution_count": 3,
   "id": "499d108c",
   "metadata": {},
   "outputs": [],
   "source": [
    "#jpg rgb scale no point\n",
    "# for i in ma:\n",
    "#     for j in i:\n",
    "#         print(j)"
   ]
  },
  {
   "cell_type": "code",
   "execution_count": 4,
   "id": "c087c731",
   "metadata": {},
   "outputs": [],
   "source": [
    "def rgb2gray(rgb):\n",
    "    return np.dot(rgb[...,:3], [0.2989, 0.5870, 0.1140])"
   ]
  },
  {
   "cell_type": "code",
   "execution_count": 5,
   "id": "488c7a1a",
   "metadata": {},
   "outputs": [
    {
     "name": "stdout",
     "output_type": "stream",
     "text": [
      "(512, 512)\n"
     ]
    }
   ],
   "source": [
    "print(rgb2gray(ma).shape)"
   ]
  },
  {
   "cell_type": "code",
   "execution_count": 6,
   "id": "85915ed9",
   "metadata": {},
   "outputs": [
    {
     "data": {
      "text/plain": [
       "(512, 512, 1)"
      ]
     },
     "execution_count": 6,
     "metadata": {},
     "output_type": "execute_result"
    }
   ],
   "source": [
    "rgb2gray(ma).reshape(512,512,1).shape"
   ]
  },
  {
   "cell_type": "code",
   "execution_count": 7,
   "id": "cd676cce",
   "metadata": {},
   "outputs": [],
   "source": [
    "dict = './brainClassify/Training/'\n",
    "\n",
    "# Function takes a list of folders, extract features from it, change the extractor inside function and the return dictionary\n",
    "# to run exactly which feature, the key of the return dictionary can be found in mask.ipy and also listed in pyradiomics library\n",
    "def LoadDataFromImages(foldernames):\n",
    "    input_array = []\n",
    "    input_array_greyscale =[]\n",
    "    #output_array=[]\n",
    "    o1=[]\n",
    "    o2=[]\n",
    "    o3=[]\n",
    "    o4=[]\n",
    "    o5=[]\n",
    "    o6=[]\n",
    "    extractor = RadiomicsFeatureExtractor()\n",
    "    # Disable all classes except firstorder\n",
    "    extractor.disableAllFeatures()\n",
    "    extractor.enableFeaturesByName(firstorder=['Skewness']) \n",
    "    extractor.enableFeaturesByName(glrlm=['GrayLevelVariance'])\n",
    "\n",
    "    extractor.enableFeaturesByName(glcm=['Autocorrelation','ClusterShade','DifferenceEntropy'])  # change here to extract\n",
    "    extractor.enableFeaturesByName(glszm=['SizeZoneNonUniformity'])\n",
    "\n",
    "    for i in foldernames:\n",
    "        files  = sorted(os.listdir(dict + i))\n",
    "        for j in files:\n",
    "\n",
    "            im = sitk.ReadImage(dict + i +'/' + j)\n",
    "            # need resize to 512 512 for all\n",
    "            \n",
    "            im = sitk.Resample(im, [512, 512])\n",
    "            #resampled_img_arr = sitk.GetArrayFromImage(resampled_img)\n",
    "            \n",
    "            # reshape and fill the input array\n",
    "            ori_im = sitk.GetArrayFromImage(im)\n",
    "            input_array.append(ori_im)\n",
    "            #print(resampled_img_arr.shape)\n",
    "            \n",
    "            greyscale_im = rgb2gray(ori_im).reshape(512,512,1)\n",
    "            \n",
    "            input_array_greyscale.append(greyscale_im)\n",
    "            greyscale_im_get =  sitk.GetImageFromArray(greyscale_im)\n",
    "            ma_arr = np.ones(greyscale_im_get.GetSize()[::-1])  # reverse the order as image is xyz, array is zyx\n",
    "            ma = sitk.GetImageFromArray(ma_arr)\n",
    "            ma.CopyInformation(greyscale_im_get)  # Copy geometric info\n",
    "            \n",
    "            # extract features and fill the output array\n",
    "            features = extractor.execute(greyscale_im_get, ma)\n",
    "            \n",
    "            o1.append(features['original_glcm_ClusterShade'])  # change here to extract\n",
    "            o2.append(features['original_firstorder_Skewness'])\n",
    "            o3.append(features['original_glrlm_GrayLevelVariance'])\n",
    "            o4.append(features['original_glcm_Autocorrelation'])\n",
    "            o5.append(features['original_glcm_DifferenceEntropy'])\n",
    "            o6.append(features['original_glszm_SizeZoneNonUniformity'])\n",
    "\n",
    "            \n",
    "    return input_array,input_array_greyscale, o1,o2,o3,o4,o5,o6"
   ]
  },
  {
   "cell_type": "code",
   "execution_count": 41,
   "id": "b1340715",
   "metadata": {},
   "outputs": [],
   "source": [
    "inn ,inn_grey, o1,o2,o3,o4,o5,o6 = LoadDataFromImages(['glioma_tumor',\n",
    "                                                        'meningioma_tumor'\n",
    "    ,'pituitary_tumor', 'no_tumor'\n",
    "                                                      ])"
   ]
  },
  {
   "cell_type": "code",
   "execution_count": 42,
   "id": "91be595a",
   "metadata": {},
   "outputs": [],
   "source": [
    "inn = np.array(inn)\n",
    "inn_grey = np.array(inn_grey)\n",
    "o1 = np.array(o1)\n",
    "o2 = np.array(o2)\n",
    "o3 = np.array(o3)\n",
    "o4 = np.array(o4)\n",
    "o5 = np.array(o5)\n",
    "o6 = np.array(o6)\n",
    "\n",
    "np.save(\"brainclassin.npy\",inn)\n",
    "np.save(\"brainclassingrey.npy\",inn_grey)\n",
    "np.save(\"brainclass1.npy\",o1)\n",
    "np.save(\"brainclass2.npy\",o2)\n",
    "np.save(\"brainclass3.npy\",o3)\n",
    "np.save(\"brainclass4.npy\",o4)\n",
    "np.save(\"brainclass5.npy\",o5)\n",
    "np.save(\"brainclass6.npy\",o6)"
   ]
  },
  {
   "cell_type": "code",
   "execution_count": 16,
   "id": "e37ce440",
   "metadata": {},
   "outputs": [
    {
     "data": {
      "text/plain": [
       "(2870, 512, 512, 1)"
      ]
     },
     "execution_count": 16,
     "metadata": {},
     "output_type": "execute_result"
    }
   ],
   "source": [
    "inn_grey.shape"
   ]
  },
  {
   "cell_type": "code",
   "execution_count": 2,
   "id": "49a0fa81",
   "metadata": {},
   "outputs": [],
   "source": [
    "# extracting\n",
    "class_names = ['glioma_tumor', 'meningioma_tumor','pituitary_tumor', 'no_tumor']\n",
    "dict = './brainClassify/Training/'\n",
    "\n",
    "\n",
    "def load_labels():\n",
    "    #trainingdata = []\n",
    "    labels = []\n",
    "    for i in class_names:\n",
    "        path = os.path.join(dict, i)\n",
    "        label_num = class_names.index(i)\n",
    "        for j in sorted(os.listdir(path)):\n",
    "            temp = [0,0,0,0]\n",
    "            temp[label_num] = 1\n",
    "            #img = sitk.ReadImage(dict + i +'/' + j)\n",
    "            #trainingdata.append([sitk.GetArrayFromImage(img).reshape(512,512,1),label_num])\n",
    "            labels.append(temp)\n",
    "            \n",
    "            \n",
    "    return labels\n",
    "    \n",
    "            "
   ]
  },
  {
   "cell_type": "code",
   "execution_count": 3,
   "id": "6154060d",
   "metadata": {},
   "outputs": [],
   "source": [
    "labels = load_labels()"
   ]
  },
  {
   "cell_type": "code",
   "execution_count": 4,
   "id": "a6186b56",
   "metadata": {},
   "outputs": [
    {
     "data": {
      "text/plain": [
       "(2870, 4)"
      ]
     },
     "execution_count": 4,
     "metadata": {},
     "output_type": "execute_result"
    }
   ],
   "source": [
    "labels =np.array(labels)\n",
    "labels.shape"
   ]
  },
  {
   "cell_type": "code",
   "execution_count": 5,
   "id": "c9883764",
   "metadata": {},
   "outputs": [],
   "source": [
    "inn = np.load('brainclassin.npy')\n",
    "inn_grey =  np.load('brainclassingrey.npy')\n",
    "o1 =  np.load(\"brainclass1.npy\")\n",
    "o2 =  np.load(\"brainclass2.npy\")\n",
    "o3 =  np.load(\"brainclass3.npy\")\n",
    "o4 =  np.load(\"brainclass4.npy\")\n",
    "o5 =  np.load(\"brainclass5.npy\")\n",
    "o6 =  np.load(\"brainclass6.npy\")"
   ]
  },
  {
   "cell_type": "code",
   "execution_count": 6,
   "id": "0ad4b21e",
   "metadata": {},
   "outputs": [],
   "source": [
    "from sklearn.model_selection import train_test_split"
   ]
  },
  {
   "cell_type": "code",
   "execution_count": 7,
   "id": "e35381aa",
   "metadata": {},
   "outputs": [],
   "source": [
    "\n",
    "# change the random_state to get different train and val\n",
    "def split_training_val(input_group):\n",
    "\n",
    "    i_train, i_val = train_test_split(input_group, test_size=0.1,random_state= 60, shuffle=True)\n",
    "\n",
    "    return np.array(i_train), np.array(i_val)\n",
    "\n",
    "inn, inn_val = split_training_val(inn)\n",
    "inn_grey, inn_grey_val = split_training_val(inn_grey)\n",
    "o1, o1_val = split_training_val(o1)\n",
    "o2, o2_val = split_training_val(o2)\n",
    "o3, o3_val = split_training_val(o3)\n",
    "o4, o4_val = split_training_val(o4)\n",
    "o5, o5_val = split_training_val(o5)\n",
    "o6, o6_val = split_training_val(o6)"
   ]
  },
  {
   "cell_type": "code",
   "execution_count": 8,
   "id": "09fe9786",
   "metadata": {},
   "outputs": [],
   "source": [
    "labels, labels_val =  split_training_val(labels)"
   ]
  },
  {
   "cell_type": "code",
   "execution_count": 9,
   "id": "1c2892c8",
   "metadata": {},
   "outputs": [
    {
     "data": {
      "text/plain": [
       "(2583, 4)"
      ]
     },
     "execution_count": 9,
     "metadata": {},
     "output_type": "execute_result"
    }
   ],
   "source": [
    "labels.shape"
   ]
  },
  {
   "cell_type": "code",
   "execution_count": 10,
   "id": "c46c964e",
   "metadata": {},
   "outputs": [
    {
     "data": {
      "text/plain": [
       "(2583, 512, 512, 1)"
      ]
     },
     "execution_count": 10,
     "metadata": {},
     "output_type": "execute_result"
    }
   ],
   "source": [
    "inn_grey.shape"
   ]
  },
  {
   "cell_type": "code",
   "execution_count": 11,
   "id": "95f49b8f",
   "metadata": {},
   "outputs": [],
   "source": [
    "def rgb2gray(rgb):\n",
    "    return np.dot(rgb[...,:3], [0.2989, 0.5870, 0.1140])"
   ]
  },
  {
   "cell_type": "code",
   "execution_count": 12,
   "id": "36833220",
   "metadata": {},
   "outputs": [],
   "source": [
    "# Load test group\n",
    "dict = './brainClassify/Testing/'\n",
    "class_names = ['glioma_tumor', 'meningioma_tumor','pituitary_tumor', 'no_tumor']\n",
    "# Function takes a list of folders, extract features from it, change the extractor inside function and the return dictionary\n",
    "# to run exactly which feature, the key of the return dictionary can be found in mask.ipy and also listed in pyradiomics library\n",
    "def LoadTestGroup():\n",
    "    input_array = []\n",
    "    input_array_greyscale =[]\n",
    "    labels = []\n",
    "\n",
    "    for i in class_names:\n",
    "        path = os.path.join(dict, i)\n",
    "        label_num = class_names.index(i)\n",
    "        files  = sorted(os.listdir(path))\n",
    "        for j in files:\n",
    "            im = sitk.ReadImage(dict + i +'/' + j)\n",
    "            im = sitk.Resample(im, [512, 512])\n",
    "\n",
    "            ori_im = sitk.GetArrayFromImage(im)\n",
    "            input_array.append(ori_im)\n",
    "            #print(resampled_img_arr.shape)\n",
    "            \n",
    "            greyscale_im = rgb2gray(ori_im).reshape(512,512,1)\n",
    "            \n",
    "            input_array_greyscale.append(greyscale_im)\n",
    "            temp = [0,0,0,0]\n",
    "            temp[label_num] = 1\n",
    "            labels.append(temp)\n",
    "            \n",
    "    return input_array,input_array_greyscale, labels"
   ]
  },
  {
   "cell_type": "code",
   "execution_count": 13,
   "id": "65e86c8f",
   "metadata": {},
   "outputs": [],
   "source": [
    "test_data, test_datagrey, test_labels = LoadTestGroup()"
   ]
  },
  {
   "cell_type": "code",
   "execution_count": 14,
   "id": "7377b260",
   "metadata": {},
   "outputs": [
    {
     "data": {
      "text/plain": [
       "(394, 512, 512, 3)"
      ]
     },
     "execution_count": 14,
     "metadata": {},
     "output_type": "execute_result"
    }
   ],
   "source": [
    "test_data=np.array(test_data)\n",
    "test_datagrey=np.array(test_datagrey)\n",
    "test_labels=np.array(test_labels)\n",
    "test_data.shape"
   ]
  },
  {
   "cell_type": "code",
   "execution_count": 15,
   "id": "fed3996e",
   "metadata": {},
   "outputs": [],
   "source": [
    "\n",
    "\n",
    "def MakeModel(modelname):\n",
    "    input_layer = keras.Input(shape=(512,512,1))\n",
    "    x = Conv2D(64,(3,3),strides=(1, 1), activation='relu')(input_layer)\n",
    "    pool1 = MaxPooling2D(pool_size=(2, 2))(x)\n",
    "    x1 = Conv2D(64,(3,3),strides=(1, 1), activation='relu')(pool1)\n",
    "    pool2 = MaxPooling2D(pool_size=(2, 2))(x1)\n",
    "\n",
    "\n",
    "    flat = Flatten()(pool2)\n",
    "    d1 = Dense(147, activation='relu',kernel_initializer = tf.keras.initializers.GlorotNormal())(flat)\n",
    "\n",
    "    out = Dense(4, activation = 'softmax', name= modelname)(d1)\n",
    "\n",
    "    model = keras.Model(input_layer, out, name= modelname)\n",
    "    \n",
    "    return model\n"
   ]
  },
  {
   "cell_type": "code",
   "execution_count": 16,
   "id": "8c12983f",
   "metadata": {},
   "outputs": [
    {
     "name": "stderr",
     "output_type": "stream",
     "text": [
      "2022-10-24 05:15:18.659953: I tensorflow/core/platform/cpu_feature_guard.cc:193] This TensorFlow binary is optimized with oneAPI Deep Neural Network Library (oneDNN) to use the following CPU instructions in performance-critical operations:  AVX2 AVX512F AVX512_VNNI FMA\n",
      "To enable them in other operations, rebuild TensorFlow with the appropriate compiler flags.\n",
      "2022-10-24 05:15:19.416309: I tensorflow/core/common_runtime/gpu/gpu_device.cc:1532] Created device /job:localhost/replica:0/task:0/device:GPU:0 with 30941 MB memory:  -> device: 0, name: Tesla V100S-PCIE-32GB, pci bus id: 0000:3d:00.0, compute capability: 7.0\n"
     ]
    }
   ],
   "source": [
    "model = MakeModel(\"CNN\")"
   ]
  },
  {
   "cell_type": "code",
   "execution_count": 17,
   "id": "c8ad2c6b",
   "metadata": {},
   "outputs": [
    {
     "name": "stdout",
     "output_type": "stream",
     "text": [
      "Model: \"CNN\"\n",
      "_________________________________________________________________\n",
      " Layer (type)                Output Shape              Param #   \n",
      "=================================================================\n",
      " input_1 (InputLayer)        [(None, 512, 512, 1)]     0         \n",
      "                                                                 \n",
      " conv2d (Conv2D)             (None, 510, 510, 64)      640       \n",
      "                                                                 \n",
      " max_pooling2d (MaxPooling2D  (None, 255, 255, 64)     0         \n",
      " )                                                               \n",
      "                                                                 \n",
      " conv2d_1 (Conv2D)           (None, 253, 253, 64)      36928     \n",
      "                                                                 \n",
      " max_pooling2d_1 (MaxPooling  (None, 126, 126, 64)     0         \n",
      " 2D)                                                             \n",
      "                                                                 \n",
      " flatten (Flatten)           (None, 1016064)           0         \n",
      "                                                                 \n",
      " dense (Dense)               (None, 147)               149361555 \n",
      "                                                                 \n",
      " CNN (Dense)                 (None, 4)                 592       \n",
      "                                                                 \n",
      "=================================================================\n",
      "Total params: 149,399,715\n",
      "Trainable params: 149,399,715\n",
      "Non-trainable params: 0\n",
      "_________________________________________________________________\n"
     ]
    }
   ],
   "source": [
    "model.summary()"
   ]
  },
  {
   "cell_type": "code",
   "execution_count": 18,
   "id": "8cf18822",
   "metadata": {},
   "outputs": [],
   "source": [
    "mm_save = ModelCheckpoint('grey.hdf5', save_best_only=True, monitor='val_loss', mode='min')\n",
    "es = tf.keras.callbacks.EarlyStopping(patience=2)"
   ]
  },
  {
   "cell_type": "code",
   "execution_count": 19,
   "id": "390189ab",
   "metadata": {},
   "outputs": [],
   "source": [
    "model.compile(optimizer=tf.keras.optimizers.Adam(\n",
    "     #learning_rate= 0.01\n",
    "),\n",
    "              loss=tf.keras.losses.CategoricalCrossentropy(),\n",
    "             metrics=['accuracy', tf.keras.metrics.AUC(),\n",
    "tfa.metrics.F1Score(num_classes=4, threshold=0.5)]\n",
    "                   )\n",
    "\n"
   ]
  },
  {
   "cell_type": "code",
   "execution_count": 20,
   "id": "524db64c",
   "metadata": {},
   "outputs": [
    {
     "name": "stdout",
     "output_type": "stream",
     "text": [
      "Epoch 1/20\n"
     ]
    },
    {
     "name": "stderr",
     "output_type": "stream",
     "text": [
      "2022-10-24 05:15:24.466523: I tensorflow/stream_executor/cuda/cuda_dnn.cc:384] Loaded cuDNN version 8100\n"
     ]
    },
    {
     "name": "stdout",
     "output_type": "stream",
     "text": [
      "41/41 [==============================] - 15s 258ms/step - loss: 569.7259 - accuracy: 0.6252 - auc: 0.7697 - f1_score: 0.5818 - val_loss: 0.5907 - val_accuracy: 0.7909 - val_auc: 0.9495 - val_f1_score: 0.7747\n",
      "Epoch 2/20\n",
      "41/41 [==============================] - 9s 219ms/step - loss: 0.2939 - accuracy: 0.8897 - auc: 0.9848 - f1_score: 0.8881 - val_loss: 0.5402 - val_accuracy: 0.8293 - val_auc: 0.9627 - val_f1_score: 0.8184\n",
      "Epoch 3/20\n",
      "41/41 [==============================] - 9s 220ms/step - loss: 0.0930 - accuracy: 0.9698 - auc: 0.9981 - f1_score: 0.9691 - val_loss: 0.6239 - val_accuracy: 0.8502 - val_auc: 0.9632 - val_f1_score: 0.8417\n",
      "Epoch 4/20\n",
      "41/41 [==============================] - 9s 220ms/step - loss: 0.0254 - accuracy: 0.9934 - auc: 0.9999 - f1_score: 0.9935 - val_loss: 0.5939 - val_accuracy: 0.8885 - val_auc: 0.9677 - val_f1_score: 0.8812\n"
     ]
    },
    {
     "data": {
      "text/plain": [
       "<keras.callbacks.History at 0x2b5be2451a60>"
      ]
     },
     "execution_count": 20,
     "metadata": {},
     "output_type": "execute_result"
    }
   ],
   "source": [
    "model.fit(inn_grey, labels, \n",
    "               validation_data=([inn_grey_val,labels_val]), \n",
    "                batch_size=64,\n",
    "                epochs=20,\n",
    "          callbacks=[es,\n",
    "                   #  mm_save\n",
    "                    ],\n",
    "                          shuffle = True)"
   ]
  },
  {
   "cell_type": "code",
   "execution_count": 21,
   "id": "0032417e",
   "metadata": {},
   "outputs": [
    {
     "name": "stdout",
     "output_type": "stream",
     "text": [
      "13/13 [==============================] - 1s 54ms/step - loss: 6.9813 - accuracy: 0.6802 - auc: 0.8139 - f1_score: 0.6409\n"
     ]
    },
    {
     "data": {
      "text/plain": [
       "[6.981349468231201,\n",
       " 0.6802030205726624,\n",
       " 0.8138910531997681,\n",
       " array([0.30508474, 0.8200837 , 0.6962963 , 0.74204946], dtype=float32)]"
      ]
     },
     "execution_count": 21,
     "metadata": {},
     "output_type": "execute_result"
    }
   ],
   "source": [
    "model.evaluate(test_datagrey,test_labels)"
   ]
  },
  {
   "cell_type": "markdown",
   "id": "a2e8f289",
   "metadata": {},
   "source": [
    "RGB based"
   ]
  },
  {
   "cell_type": "code",
   "execution_count": 22,
   "id": "5b1d8739",
   "metadata": {},
   "outputs": [],
   "source": [
    "def MakeModel(modelname):\n",
    "    input_layer = keras.Input(shape=(512,512,3))\n",
    "    x = Conv2D(64,(3,3), strides=(1, 1),activation='relu')(input_layer)\n",
    "    pool1 = MaxPooling2D(pool_size=(2, 2))(x)\n",
    "    x1 = Conv2D(64,(3,3),strides=(1, 1), activation='relu')(pool1)\n",
    "    pool2 = MaxPooling2D(pool_size=(2, 2))(x1)\n",
    "\n",
    "\n",
    "    flat = Flatten()(pool2)\n",
    "    d1 = Dense(147, activation='relu',kernel_initializer = tf.keras.initializers.GlorotNormal())(flat)\n",
    "\n",
    "    out = Dense(4, activation = 'softmax', name= modelname)(d1)\n",
    "\n",
    "    model = keras.Model(input_layer, out, name= modelname)\n",
    "    \n",
    "    return model\n"
   ]
  },
  {
   "cell_type": "code",
   "execution_count": 23,
   "id": "0d436ca8",
   "metadata": {},
   "outputs": [],
   "source": [
    "model = MakeModel(\"CNNRGB\")"
   ]
  },
  {
   "cell_type": "code",
   "execution_count": 24,
   "id": "5c2b2470",
   "metadata": {},
   "outputs": [],
   "source": [
    "mm_save = ModelCheckpoint('rgbbased.hdf5', save_best_only=True, monitor='val_loss', mode='min')\n",
    "es = tf.keras.callbacks.EarlyStopping(patience=2)"
   ]
  },
  {
   "cell_type": "code",
   "execution_count": 25,
   "id": "5317ecaa",
   "metadata": {},
   "outputs": [],
   "source": [
    "model.compile(optimizer=tf.keras.optimizers.Adam(\n",
    "     #learning_rate= 0.01\n",
    "),\n",
    "              loss=tf.keras.losses.CategoricalCrossentropy(),\n",
    "             metrics=['accuracy', tf.keras.metrics.AUC(),\n",
    "tfa.metrics.F1Score(num_classes=4, threshold=0.5)]\n",
    "                   )\n"
   ]
  },
  {
   "cell_type": "code",
   "execution_count": 26,
   "id": "7b15d6ba",
   "metadata": {},
   "outputs": [
    {
     "name": "stdout",
     "output_type": "stream",
     "text": [
      "Epoch 1/20\n",
      "41/41 [==============================] - 12s 280ms/step - loss: 297.4590 - accuracy: 0.6643 - auc_1: 0.7950 - f1_score: 0.6402 - val_loss: 0.6240 - val_accuracy: 0.8362 - val_auc_1: 0.9474 - val_f1_score: 0.7940\n",
      "Epoch 2/20\n",
      "41/41 [==============================] - 9s 217ms/step - loss: 0.2957 - accuracy: 0.9032 - auc_1: 0.9848 - f1_score: 0.8975 - val_loss: 0.6322 - val_accuracy: 0.8746 - val_auc_1: 0.9628 - val_f1_score: 0.8630\n",
      "Epoch 3/20\n",
      "41/41 [==============================] - 9s 217ms/step - loss: 0.0815 - accuracy: 0.9710 - auc_1: 0.9981 - f1_score: 0.9694 - val_loss: 0.8131 - val_accuracy: 0.8676 - val_auc_1: 0.9636 - val_f1_score: 0.8648\n"
     ]
    },
    {
     "data": {
      "text/plain": [
       "<keras.callbacks.History at 0x2b90138a3f40>"
      ]
     },
     "execution_count": 26,
     "metadata": {},
     "output_type": "execute_result"
    }
   ],
   "source": [
    "model.fit(inn, labels, \n",
    "               validation_data=([inn_val,labels_val]), \n",
    "                batch_size=64,\n",
    "                epochs=20,\n",
    "          callbacks=[es,mm_save],\n",
    "                          shuffle = True)"
   ]
  },
  {
   "cell_type": "code",
   "execution_count": 27,
   "id": "08684387",
   "metadata": {},
   "outputs": [
    {
     "name": "stdout",
     "output_type": "stream",
     "text": [
      "13/13 [==============================] - 1s 46ms/step - loss: 6.3224 - accuracy: 0.6599 - auc_1: 0.7940 - f1_score: 0.6057\n"
     ]
    },
    {
     "data": {
      "text/plain": [
       "[6.322449684143066,\n",
       " 0.6598984599113464,\n",
       " 0.7940168380737305,\n",
       " array([0.3089431 , 0.7816092 , 0.57142854, 0.7608695 ], dtype=float32)]"
      ]
     },
     "execution_count": 27,
     "metadata": {},
     "output_type": "execute_result"
    }
   ],
   "source": [
    "model.evaluate(test_data,test_labels)"
   ]
  },
  {
   "cell_type": "markdown",
   "id": "21641005",
   "metadata": {},
   "source": [
    "# FINs section"
   ]
  },
  {
   "cell_type": "code",
   "execution_count": 37,
   "id": "c395c316",
   "metadata": {},
   "outputs": [],
   "source": [
    "inp = np.load('brainclassingrey.npy')\n",
    "oup = np.load('brainclass6.npy')\n",
    "\n",
    "# base_model =  load_model(\"SizeZoneNonUniformity2.h5\")\n",
    "\n",
    "# base_model.summary()"
   ]
  },
  {
   "cell_type": "code",
   "execution_count": 36,
   "id": "7eb5c95d",
   "metadata": {},
   "outputs": [],
   "source": [
    "# how many layers for saving\n",
    "newlayers = base_model.layers[3].output\n",
    "n1 = Dense(64, activation='relu',name = '3')(newlayers)\n",
    "out = Dense(1, activation='linear',name='4')(n1)\n",
    "new_model = keras.Model(base_model.input, outputs = out)"
   ]
  },
  {
   "cell_type": "code",
   "execution_count": 37,
   "id": "22853bf9",
   "metadata": {},
   "outputs": [
    {
     "name": "stdout",
     "output_type": "stream",
     "text": [
      "Model: \"model_1\"\n",
      "_________________________________________________________________\n",
      " Layer (type)                Output Shape              Param #   \n",
      "=================================================================\n",
      " input_20 (InputLayer)       [(None, 512, 512, 1)]     0         \n",
      "                                                                 \n",
      " flatten_19 (Flatten)        (None, 262144)            0         \n",
      "                                                                 \n",
      " dense_54 (Dense)            (None, 64)                16777280  \n",
      "                                                                 \n",
      " dense_55 (Dense)            (None, 64)                4160      \n",
      "                                                                 \n",
      " 3 (Dense)                   (None, 64)                4160      \n",
      "                                                                 \n",
      " 4 (Dense)                   (None, 1)                 65        \n",
      "                                                                 \n",
      "=================================================================\n",
      "Total params: 16,785,665\n",
      "Trainable params: 16,785,665\n",
      "Non-trainable params: 0\n",
      "_________________________________________________________________\n"
     ]
    }
   ],
   "source": [
    "new_model.summary()"
   ]
  },
  {
   "cell_type": "code",
   "execution_count": 38,
   "id": "0e6125b0",
   "metadata": {},
   "outputs": [],
   "source": [
    "for i in range(len(base_model.layers)): \n",
    "    keras.layers.trainable = True   # True--> fine tine, False-->frozen"
   ]
  },
  {
   "cell_type": "code",
   "execution_count": 15,
   "id": "69ae94d2",
   "metadata": {},
   "outputs": [],
   "source": [
    "inp = np.load('brainclassingrey.npy')\n",
    "oup = np.load('brainclass6.npy')"
   ]
  },
  {
   "cell_type": "code",
   "execution_count": 16,
   "id": "1b11c598",
   "metadata": {},
   "outputs": [
    {
     "name": "stderr",
     "output_type": "stream",
     "text": [
      "2022-10-24 04:10:04.634064: I tensorflow/core/platform/cpu_feature_guard.cc:193] This TensorFlow binary is optimized with oneAPI Deep Neural Network Library (oneDNN) to use the following CPU instructions in performance-critical operations:  AVX2 AVX512F AVX512_VNNI FMA\n",
      "To enable them in other operations, rebuild TensorFlow with the appropriate compiler flags.\n",
      "2022-10-24 04:10:05.302505: I tensorflow/core/common_runtime/gpu/gpu_device.cc:1532] Created device /job:localhost/replica:0/task:0/device:GPU:0 with 30941 MB memory:  -> device: 0, name: Tesla V100S-PCIE-32GB, pci bus id: 0000:3d:00.0, compute capability: 7.0\n"
     ]
    }
   ],
   "source": [
    "new_model = load_model('BC_SizeZoneNonUniformity.h5')"
   ]
  },
  {
   "cell_type": "code",
   "execution_count": 17,
   "id": "8a954405",
   "metadata": {},
   "outputs": [],
   "source": [
    "\n",
    "new_model.compile(optimizer=tf.keras.optimizers.Adam(\n",
    " learning_rate= 0.001\n",
    "), loss=\"mse\")"
   ]
  },
  {
   "cell_type": "code",
   "execution_count": 18,
   "id": "ff46fa02",
   "metadata": {},
   "outputs": [
    {
     "name": "stdout",
     "output_type": "stream",
     "text": [
      "Epoch 1/20\n",
      "45/45 [==============================] - 2s 18ms/step - loss: 11349784.0000\n",
      "Epoch 2/20\n",
      "45/45 [==============================] - 1s 18ms/step - loss: 132634.8281\n",
      "Epoch 3/20\n",
      "45/45 [==============================] - 1s 18ms/step - loss: 49404.9961\n",
      "Epoch 4/20\n",
      "45/45 [==============================] - 1s 17ms/step - loss: 40402.0859\n",
      "Epoch 5/20\n",
      "45/45 [==============================] - 1s 17ms/step - loss: 37911.9453\n",
      "Epoch 6/20\n",
      "45/45 [==============================] - 1s 19ms/step - loss: 38302.9414\n",
      "Epoch 7/20\n",
      "45/45 [==============================] - 1s 17ms/step - loss: 35825.7734\n",
      "Epoch 8/20\n",
      "45/45 [==============================] - 1s 17ms/step - loss: 33390.3867\n",
      "Epoch 9/20\n",
      "45/45 [==============================] - 1s 18ms/step - loss: 31461.0254\n",
      "Epoch 10/20\n",
      "45/45 [==============================] - 1s 17ms/step - loss: 30646.8047\n",
      "Epoch 11/20\n",
      "45/45 [==============================] - 1s 17ms/step - loss: 31772.5430\n",
      "Epoch 12/20\n",
      "45/45 [==============================] - 1s 18ms/step - loss: 27676.1875\n",
      "Epoch 13/20\n",
      "45/45 [==============================] - 1s 18ms/step - loss: 30893.4375\n",
      "Epoch 14/20\n",
      "45/45 [==============================] - 1s 18ms/step - loss: 26435.4004\n",
      "Epoch 15/20\n",
      "45/45 [==============================] - 1s 17ms/step - loss: 25188.0840\n",
      "Epoch 16/20\n",
      "45/45 [==============================] - 1s 18ms/step - loss: 23397.3945\n",
      "Epoch 17/20\n",
      "45/45 [==============================] - 1s 17ms/step - loss: 28064.8398\n",
      "Epoch 18/20\n",
      "45/45 [==============================] - 1s 16ms/step - loss: 25859.1309\n",
      "Epoch 19/20\n",
      "45/45 [==============================] - 1s 17ms/step - loss: 22243.0684\n",
      "Epoch 20/20\n",
      "45/45 [==============================] - 1s 18ms/step - loss: 22165.8203\n"
     ]
    },
    {
     "data": {
      "text/plain": [
       "<keras.callbacks.History at 0x2ad675a9e970>"
      ]
     },
     "execution_count": 18,
     "metadata": {},
     "output_type": "execute_result"
    }
   ],
   "source": [
    "\n",
    "new_model.fit(inp, oup, \n",
    "              epochs=20, \n",
    "          batch_size=64,\n",
    "                shuffle=True\n",
    "            )"
   ]
  },
  {
   "cell_type": "code",
   "execution_count": 19,
   "id": "ee9050d9",
   "metadata": {},
   "outputs": [],
   "source": [
    "new_model.save(\"./BC_SizeZoneNonUniformity.h5\")"
   ]
  },
  {
   "cell_type": "code",
   "execution_count": 35,
   "id": "381a86cf",
   "metadata": {},
   "outputs": [],
   "source": [
    "# loading FINs\n",
    "\n",
    "# load the 6 Fins to attach\n",
    "m1 = load_model('BC_ClusterShade.h5')\n",
    "m2 = load_model('BC_Skewness.h5')\n",
    "m3 = load_model('BC_GLV.h5')\n",
    "m4 = load_model('BC_Autocorrelation.h5')\n",
    "m5 = load_model('BC_DifferenceEntropy.h5')\n",
    "m6 = load_model('BC_SizeZoneNonUniformity.h5')\n",
    "\n",
    "m1._name = 'feature1'\n",
    "m2._name = 'feature2'\n",
    "m3._name = 'feature3'\n",
    "m4._name = 'feature4'\n",
    "m5._name = 'feature5'\n",
    "m6._name = 'feature6'\n",
    "\n",
    "def MakeModel(modelname):\n",
    "    input_layer = keras.Input(shape=(512,512,1))\n",
    "    \n",
    "    l1 = m1(input_layer)\n",
    "    l2 = m2(input_layer)\n",
    "    l3 = m3(input_layer)\n",
    "    l4 = m4(input_layer)\n",
    "    l5 = m5(input_layer)\n",
    "    l6 = m6(input_layer)\n",
    "    \n",
    "    # Attacted a CNN portion with the FINs\n",
    "    \n",
    "    x = Conv2D(64,(3,3), strides=(1, 1),activation='relu')(input_layer)\n",
    "    pool1 = MaxPooling2D(pool_size=(2, 2))(x)\n",
    "    x1 = Conv2D(64,(3,3),strides=(1, 1), activation='relu')(pool1)\n",
    "    pool2 = MaxPooling2D(pool_size=(2, 2))(x1)\n",
    "    \n",
    "    flat = Flatten()(pool2)\n",
    "    \n",
    "    n_d = concatenate([l1\n",
    "                       ,l2\n",
    "                       ,l3\n",
    "                      ,l4\n",
    "                       ,l5, l6\n",
    "                        , flat\n",
    "                      ])\n",
    "\n",
    "    d1 = Dense(32, activation='relu',kernel_initializer = tf.keras.initializers.GlorotNormal()\n",
    "         ,name='dense_N_1')(n_d)\n",
    "    \n",
    "    d2 = Dense(32, activation='relu',kernel_initializer = tf.keras.initializers.GlorotNormal()\n",
    "     ,name='dense_N_2')(d1)\n",
    "    d2 = Dense(32, activation='relu',kernel_initializer = tf.keras.initializers.GlorotNormal()\n",
    "     ,name='dense_N_3')(d2)\n",
    "    \n",
    "\n",
    "    out = Dense(4, activation = 'softmax', name= modelname)(d2)\n",
    "\n",
    "    model = keras.Model(input_layer, out, name= modelname)\n",
    "    \n",
    "    return model"
   ]
  },
  {
   "cell_type": "code",
   "execution_count": 36,
   "id": "706442d8",
   "metadata": {},
   "outputs": [],
   "source": [
    "FinModel = MakeModel('Fin')"
   ]
  },
  {
   "cell_type": "code",
   "execution_count": 37,
   "id": "c77980e0",
   "metadata": {},
   "outputs": [
    {
     "name": "stdout",
     "output_type": "stream",
     "text": [
      "Model: \"Fin\"\n",
      "__________________________________________________________________________________________________\n",
      " Layer (type)                   Output Shape         Param #     Connected to                     \n",
      "==================================================================================================\n",
      " input_4 (InputLayer)           [(None, 512, 512, 1  0           []                               \n",
      "                                )]                                                                \n",
      "                                                                                                  \n",
      " conv2d_6 (Conv2D)              (None, 510, 510, 64  640         ['input_4[0][0]']                \n",
      "                                )                                                                 \n",
      "                                                                                                  \n",
      " max_pooling2d_6 (MaxPooling2D)  (None, 255, 255, 64  0          ['conv2d_6[0][0]']               \n",
      "                                )                                                                 \n",
      "                                                                                                  \n",
      " conv2d_7 (Conv2D)              (None, 253, 253, 64  36928       ['max_pooling2d_6[0][0]']        \n",
      "                                )                                                                 \n",
      "                                                                                                  \n",
      " max_pooling2d_7 (MaxPooling2D)  (None, 126, 126, 64  0          ['conv2d_7[0][0]']               \n",
      "                                )                                                                 \n",
      "                                                                                                  \n",
      " feature1 (Functional)          (None, 1)            17855041    ['input_4[0][0]']                \n",
      "                                                                                                  \n",
      " feature2 (Functional)          (None, 1)            17842561    ['input_4[0][0]']                \n",
      "                                                                                                  \n",
      " feature3 (Functional)          (None, 1)            9443585     ['input_4[0][0]']                \n",
      "                                                                                                  \n",
      " feature4 (Functional)          (None, 1)            34669313    ['input_4[0][0]']                \n",
      "                                                                                                  \n",
      " feature5 (Functional)          (None, 1)            17850881    ['input_4[0][0]']                \n",
      "                                                                                                  \n",
      " feature6 (Functional)          (None, 1)            16785665    ['input_4[0][0]']                \n",
      "                                                                                                  \n",
      " flatten_3 (Flatten)            (None, 1016064)      0           ['max_pooling2d_7[0][0]']        \n",
      "                                                                                                  \n",
      " concatenate_1 (Concatenate)    (None, 1016070)      0           ['feature1[0][0]',               \n",
      "                                                                  'feature2[0][0]',               \n",
      "                                                                  'feature3[0][0]',               \n",
      "                                                                  'feature4[0][0]',               \n",
      "                                                                  'feature5[0][0]',               \n",
      "                                                                  'feature6[0][0]',               \n",
      "                                                                  'flatten_3[0][0]']              \n",
      "                                                                                                  \n",
      " dense_N_1 (Dense)              (None, 32)           32514272    ['concatenate_1[0][0]']          \n",
      "                                                                                                  \n",
      " dense_N_2 (Dense)              (None, 32)           1056        ['dense_N_1[0][0]']              \n",
      "                                                                                                  \n",
      " dense_N_3 (Dense)              (None, 32)           1056        ['dense_N_2[0][0]']              \n",
      "                                                                                                  \n",
      " Fin (Dense)                    (None, 4)            132         ['dense_N_3[0][0]']              \n",
      "                                                                                                  \n",
      "==================================================================================================\n",
      "Total params: 147,001,130\n",
      "Trainable params: 144,379,690\n",
      "Non-trainable params: 2,621,440\n",
      "__________________________________________________________________________________________________\n"
     ]
    }
   ],
   "source": [
    "FinModel.summary()"
   ]
  },
  {
   "cell_type": "code",
   "execution_count": 38,
   "id": "d8efd254",
   "metadata": {},
   "outputs": [],
   "source": [
    "#mm_save = ModelCheckpoint('finBTC.hdf5', save_best_only=True, monitor='val_loss', mode='min')\n",
    "es = tf.keras.callbacks.EarlyStopping(patience=2)"
   ]
  },
  {
   "cell_type": "code",
   "execution_count": 39,
   "id": "4e25492f",
   "metadata": {},
   "outputs": [],
   "source": [
    "FinModel.compile(optimizer=tf.keras.optimizers.Adam(\n",
    "     #learning_rate= 0.01\n",
    "),\n",
    "              loss=tf.keras.losses.CategoricalCrossentropy(),\n",
    "             metrics=['accuracy',tf.keras.metrics.AUC(),\n",
    "tfa.metrics.F1Score(num_classes=4, threshold=0.5)]\n",
    "                   )"
   ]
  },
  {
   "cell_type": "code",
   "execution_count": 40,
   "id": "32e2a0df",
   "metadata": {},
   "outputs": [
    {
     "name": "stdout",
     "output_type": "stream",
     "text": [
      "Epoch 1/20\n",
      "41/41 [==============================] - 12s 246ms/step - loss: 29.0524 - accuracy: 0.5257 - auc_3: 0.7057 - f1_score: 0.4600 - val_loss: 0.7128 - val_accuracy: 0.7631 - val_auc_3: 0.9135 - val_f1_score: 0.7312\n",
      "Epoch 2/20\n",
      "41/41 [==============================] - 9s 227ms/step - loss: 0.4078 - accuracy: 0.8719 - auc_3: 0.9718 - f1_score: 0.8636 - val_loss: 0.7298 - val_accuracy: 0.8293 - val_auc_3: 0.9427 - val_f1_score: 0.8200\n",
      "Epoch 3/20\n",
      "41/41 [==============================] - 9s 227ms/step - loss: 0.2400 - accuracy: 0.9392 - auc_3: 0.9907 - f1_score: 0.9367 - val_loss: 0.5200 - val_accuracy: 0.8746 - val_auc_3: 0.9658 - val_f1_score: 0.8674\n",
      "Epoch 4/20\n",
      "41/41 [==============================] - 9s 227ms/step - loss: 0.1079 - accuracy: 0.9698 - auc_3: 0.9972 - f1_score: 0.9690 - val_loss: 0.7902 - val_accuracy: 0.8432 - val_auc_3: 0.9504 - val_f1_score: 0.8351\n",
      "Epoch 5/20\n",
      "41/41 [==============================] - 9s 229ms/step - loss: 0.0495 - accuracy: 0.9841 - auc_3: 0.9992 - f1_score: 0.9835 - val_loss: 0.5611 - val_accuracy: 0.9024 - val_auc_3: 0.9701 - val_f1_score: 0.9012\n"
     ]
    },
    {
     "data": {
      "text/plain": [
       "<keras.callbacks.History at 0x2b90177a1ac0>"
      ]
     },
     "execution_count": 40,
     "metadata": {},
     "output_type": "execute_result"
    }
   ],
   "source": [
    "FinModel.fit(inn_grey, labels, \n",
    "               validation_data=([inn_grey_val,labels_val]), \n",
    "                batch_size=64,\n",
    "                epochs=20,\n",
    "             callbacks=[es,\n",
    "                        #mm_save\n",
    "                       ],\n",
    "                          shuffle = True)"
   ]
  },
  {
   "cell_type": "code",
   "execution_count": 42,
   "id": "ff79ef27",
   "metadata": {},
   "outputs": [
    {
     "name": "stdout",
     "output_type": "stream",
     "text": [
      "13/13 [==============================] - 1s 45ms/step - loss: 4.7472 - accuracy: 0.6980 - auc_3: 0.8268 - f1_score: 0.6416\n"
     ]
    },
    {
     "data": {
      "text/plain": [
       "[4.747223377227783,\n",
       " 0.6979695558547974,\n",
       " 0.8268121480941772,\n",
       " array([0.2905983, 0.8015564, 0.6993007, 0.7749077], dtype=float32)]"
      ]
     },
     "execution_count": 42,
     "metadata": {},
     "output_type": "execute_result"
    }
   ],
   "source": [
    "FinModel.evaluate(test_datagrey,test_labels)"
   ]
  },
  {
   "cell_type": "code",
   "execution_count": null,
   "id": "8060061e",
   "metadata": {},
   "outputs": [],
   "source": []
  },
  {
   "cell_type": "code",
   "execution_count": null,
   "id": "e655f50d",
   "metadata": {},
   "outputs": [],
   "source": []
  }
 ],
 "metadata": {
  "kernelspec": {
   "display_name": "Python 3 (ipykernel)",
   "language": "python",
   "name": "python3"
  },
  "language_info": {
   "codemirror_mode": {
    "name": "ipython",
    "version": 3
   },
   "file_extension": ".py",
   "mimetype": "text/x-python",
   "name": "python",
   "nbconvert_exporter": "python",
   "pygments_lexer": "ipython3",
   "version": "3.9.12"
  }
 },
 "nbformat": 4,
 "nbformat_minor": 5
}
