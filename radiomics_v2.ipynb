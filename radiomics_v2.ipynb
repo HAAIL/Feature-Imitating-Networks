{
 "cells": [
  {
   "cell_type": "code",
   "execution_count": 36,
   "id": "99424b24",
   "metadata": {},
   "outputs": [],
   "source": [
    "import numpy as np\n",
    "from numpy import random\n",
    "import random\n",
    "import matplotlib.pyplot as plt\n",
    "from scipy.signal import cwt,ricker\n",
    "from scipy import stats\n",
    "from sklearn.preprocessing import StandardScaler,normalize\n",
    "from sklearn.preprocessing import MinMaxScaler\n",
    "import os\n",
    "import tensorflow as tf\n",
    "import tensorflow.keras as keras\n",
    "import tensorflow.keras.optimizers\n",
    "from tensorflow.keras.models import Sequential\n",
    "from keras.callbacks import EarlyStopping\n",
    "from keras.models import load_model\n",
    "from tensorflow.keras.layers import Flatten,concatenate,Layer,Dense,LSTM,Activation,MaxPooling2D,Dropout,Conv2D,BatchNormalization,Reshape,UpSampling2D,ZeroPadding2D\n",
    "import nibabel as nib\n",
    "import pydicom as dicom\n",
    "from pydicom.pixel_data_handlers.util import apply_voi_lut\n",
    "import tensorflow_io as tfio\n",
    "import radiomics\n",
    "from radiomics.featureextractor import RadiomicsFeatureExtractor\n",
    "import SimpleITK as sitk\n"
   ]
  },
  {
   "cell_type": "markdown",
   "id": "43df1a2b",
   "metadata": {},
   "source": [
    "# Training"
   ]
  },
  {
   "cell_type": "code",
   "execution_count": 39,
   "id": "0b0d22c2",
   "metadata": {},
   "outputs": [],
   "source": [
    "dict = './Lung_Train/'\n",
    "\n",
    "# Function takes a list of folders, extract features from it, change the extractor inside function and the return dictionary\n",
    "# to run exactly which feature, the key of the return dictionary can be found in mask.ipy and also listed in pyradiomics library\n",
    "def LoadDataFromImages(foldernames):\n",
    "    input_array = []\n",
    "    output_array = []\n",
    "    \n",
    "    extractor = RadiomicsFeatureExtractor()\n",
    "    # Disable all classes except firstorder\n",
    "    extractor.disableAllFeatures()\n",
    "    extractor.enableFeaturesByName(firstorder=['Mean'])  # change here to extract\n",
    "\n",
    "    for i in foldernames:\n",
    "        files  = os.listdir(dict + i)\n",
    "        for j in files:\n",
    "            im = sitk.ReadImage(dict + i +'/' + j)\n",
    "            \n",
    "            # reshape and fill the input array\n",
    "            input_array.append(sitk.GetArrayFromImage(im)[0].reshape(512,512,1))\n",
    "            \n",
    "            ma_arr = np.ones(im.GetSize()[::-1])  # reverse the order as image is xyz, array is zyx\n",
    "            ma = sitk.GetImageFromArray(ma_arr)\n",
    "            ma.CopyInformation(im)  # Copy geometric info\n",
    "            \n",
    "            # extract features and fill the output array\n",
    "            features = extractor.execute(im, ma)\n",
    "            \n",
    "            output_array.append(features['original_firstorder_Mean'])  # change here to extract\n",
    "            \n",
    "    return input_array, output_array"
   ]
  },
  {
   "cell_type": "code",
   "execution_count": 40,
   "id": "31870bbb",
   "metadata": {},
   "outputs": [],
   "source": [
    "# load the data from folders\n",
    "\n",
    "input_array = []\n",
    "output_array = []\n",
    "\n",
    "input_array, output_array = LoadDataFromImages(['d1'\n",
    "                                                ,'d2', 'd3', 'd4','d5','d6','d7','d8','d9','d10','d11','d12',\n",
    "                             'd2_1','d2_2', 'd2_3', 'd2_4','d2_5','d2_6','d2_7','d2_8','d2_9','d2_10','d2_11','d2_12'\n",
    "                             ,'d3_1','d3_2', 'd3_3', 'd3_4','d3_5','d3_6','d3_7','d3_8'\n",
    "                             ,'d3_9','d3_10','d3_11','d3_12'\n",
    "                              ])"
   ]
  },
  {
   "cell_type": "code",
   "execution_count": 41,
   "id": "bba2af1e",
   "metadata": {},
   "outputs": [],
   "source": [
    "# convert to np array\n",
    "input_array = np.array(input_array)\n",
    "output_array = np.array(output_array)"
   ]
  },
  {
   "cell_type": "code",
   "execution_count": 24,
   "id": "82d340fb",
   "metadata": {},
   "outputs": [],
   "source": [
    "# situation to prevent lost of data if out of memory\n",
    "np.save(\"input_array.npy\",input_array)\n",
    "np.save(\"output_array.npy\",output_array)"
   ]
  },
  {
   "cell_type": "code",
   "execution_count": 25,
   "id": "3001b476",
   "metadata": {},
   "outputs": [],
   "source": [
    "input_array = np.load(\"input_array.npy\")\n",
    "output_array = np.load(\"output_array.npy\")"
   ]
  },
  {
   "cell_type": "code",
   "execution_count": 44,
   "id": "843c365b",
   "metadata": {},
   "outputs": [],
   "source": [
    "def MakeModel(modelname):\n",
    "    input_layer = keras.Input(shape=(512,512,1))\n",
    "    x = Flatten()(input_layer)\n",
    "    x = BatchNormalization(axis=1)(x)\n",
    "    x = Dense(64, activation='relu')(x)\n",
    "    x = Dense(64, activation='relu')(x)\n",
    "    x = Dense(64, activation='relu')(x)\n",
    "    x = Dense(64, activation='relu')(x)\n",
    "    x = Dense(64, activation='relu')(x)\n",
    "    x = Dense(64, activation='relu')(x)\n",
    "    out = Dense(1, activation = 'linear', name= modelname)(x)\n",
    "\n",
    "    model = keras.Model(input_layer, out, name= modelname)\n",
    "    \n",
    "    return model"
   ]
  },
  {
   "cell_type": "code",
   "execution_count": 45,
   "id": "ce3df5a4",
   "metadata": {},
   "outputs": [],
   "source": [
    "model = MakeModel('modelname')"
   ]
  },
  {
   "cell_type": "code",
   "execution_count": 46,
   "id": "b15d5d46",
   "metadata": {},
   "outputs": [],
   "source": [
    "model.compile(optimizer=tf.keras.optimizers.Adam(\n",
    " # learning_rate= 0.00000001\n",
    "), loss=\"mse\")"
   ]
  },
  {
   "cell_type": "code",
   "execution_count": 48,
   "id": "308011bc",
   "metadata": {},
   "outputs": [],
   "source": [
    "model.fit(input_array, output_array, \n",
    "              epochs=500, batch_size=64,\n",
    "                shuffle=True\n",
    "            )"
   ]
  },
  {
   "cell_type": "markdown",
   "id": "92e29e6d",
   "metadata": {},
   "source": [
    "Save, Load"
   ]
  },
  {
   "cell_type": "code",
   "execution_count": null,
   "id": "47ea6a86",
   "metadata": {},
   "outputs": [],
   "source": [
    "model.save(\"./radiomics_Energy.h5\")"
   ]
  },
  {
   "cell_type": "code",
   "execution_count": 32,
   "id": "fd5e2fd2",
   "metadata": {},
   "outputs": [],
   "source": [
    "model = load_model(\"./radiomics_Mean.h5\")"
   ]
  },
  {
   "cell_type": "markdown",
   "id": "81048b0f",
   "metadata": {},
   "source": [
    "# Testing"
   ]
  },
  {
   "cell_type": "code",
   "execution_count": 29,
   "id": "083b1512",
   "metadata": {},
   "outputs": [],
   "source": [
    "input_array_t = []\n",
    "output_array_t = []\n",
    "\n",
    "input_array_t, output_array_t = LoadDataFromImages(['t1','t2','t3','t4'])"
   ]
  },
  {
   "cell_type": "code",
   "execution_count": 35,
   "id": "439e67e4",
   "metadata": {},
   "outputs": [
    {
     "name": "stdout",
     "output_type": "stream",
     "text": [
      "18/18 [==============================] - 1s 26ms/step\n"
     ]
    },
    {
     "data": {
      "text/plain": [
       "[<matplotlib.lines.Line2D at 0x2b89e7e3d370>,\n",
       " <matplotlib.lines.Line2D at 0x2b89e7e3d310>]"
      ]
     },
     "execution_count": 35,
     "metadata": {},
     "output_type": "execute_result"
    },
    {
     "data": {
      "image/png": "[encoded data removed]",
      "text/plain": [
       "<Figure size 432x288 with 1 Axes>"
      ]
     },
     "metadata": {
      "needs_background": "light"
     },
     "output_type": "display_data"
    }
   ],
   "source": [
    "plt.plot(range(50),output_array_t[150:200] ,range(50),model.predict(input_array_t)[150:200] )"
   ]
  },
  {
   "cell_type": "code",
   "execution_count": null,
   "id": "54fe2c20",
   "metadata": {},
   "outputs": [],
   "source": []
  }
 ],
 "metadata": {
  "kernelspec": {
   "display_name": "Python 3 (ipykernel)",
   "language": "python",
   "name": "python3"
  },
  "language_info": {
   "codemirror_mode": {
    "name": "ipython",
    "version": 3
   },
   "file_extension": ".py",
   "mimetype": "text/x-python",
   "name": "python",
   "nbconvert_exporter": "python",
   "pygments_lexer": "ipython3",
   "version": "3.9.12"
  }
 },
 "nbformat": 4,
 "nbformat_minor": 5
}
