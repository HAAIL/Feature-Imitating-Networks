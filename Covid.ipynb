{
 "cells": [
  {
   "cell_type": "code",
   "execution_count": 3,
   "id": "4288f71c",
   "metadata": {},
   "outputs": [],
   "source": [
    "import numpy as np\n",
    "from numpy import random\n",
    "import random\n",
    "import matplotlib.pyplot as plt\n",
    "from scipy.signal import cwt,ricker\n",
    "from scipy import stats\n",
    "from sklearn.preprocessing import StandardScaler,normalize\n",
    "from sklearn.preprocessing import MinMaxScaler\n",
    "import os\n",
    "import tensorflow as tf\n",
    "import tensorflow.keras as keras\n",
    "import tensorflow.keras.optimizers\n",
    "from tensorflow.keras.models import Sequential\n",
    "from keras.callbacks import EarlyStopping\n",
    "from keras.models import load_model\n",
    "from tensorflow.keras.layers import Flatten,concatenate,Layer,Dense,LSTM,Activation,MaxPooling2D,Dropout,Conv2D,BatchNormalization,Reshape,UpSampling2D,ZeroPadding2D\n",
    "import nibabel as nib\n",
    "import pydicom as dicom\n",
    "from pydicom.pixel_data_handlers.util import apply_voi_lut\n",
    "import tensorflow_io as tfio\n",
    "import radiomics\n",
    "from radiomics.featureextractor import RadiomicsFeatureExtractor\n",
    "import SimpleITK as sitk\n"
   ]
  },
  {
   "cell_type": "markdown",
   "id": "6db2e0a6",
   "metadata": {},
   "source": [
    "# Training"
   ]
  },
  {
   "cell_type": "code",
   "execution_count": 2,
   "id": "92ebd050",
   "metadata": {},
   "outputs": [],
   "source": [
    "#TF_ENABLE_ONEDNN_OPTS=0\n",
    "\n",
    "#data used in this notebook from: https://www.kaggle.com/datasets/mehradaria/covid19-lung-ct-scans"
   ]
  },
  {
   "cell_type": "code",
   "execution_count": 4,
   "id": "2e59cda4",
   "metadata": {},
   "outputs": [],
   "source": [
    "dict = './covid19/training/'\n",
    "\n",
    "# Function takes a list of folders, extract features from it, change the extractor inside function and the return dictionary\n",
    "# to run exactly which feature, the key of the return dictionary can be found in mask.ipy and also listed in pyradiomics library\n",
    "def LoadDataFromImages(foldernames):\n",
    "    input_array = []\n",
    "    output_array=[]\n",
    "\n",
    "    extractor = RadiomicsFeatureExtractor()\n",
    "    # Disable all classes except firstorder\n",
    "    extractor.disableAllFeatures()\n",
    "    extractor.enableFeaturesByName(ngtdm=['Strength'])  # change here to extract\n",
    "\n",
    "    for i in foldernames:\n",
    "        files  = os.listdir(dict + i)\n",
    "        for j in files:\n",
    "            im = sitk.ReadImage(dict + i +'/' + j)\n",
    "            \n",
    "            # reshape and fill the input array\n",
    "            input_array.append(sitk.GetArrayFromImage(im).reshape(512,512,1))\n",
    "            \n",
    "            ma_arr = np.ones(im.GetSize()[::-1])  # reverse the order as image is xyz, array is zyx\n",
    "            ma = sitk.GetImageFromArray(ma_arr)\n",
    "            ma.CopyInformation(im)  # Copy geometric info\n",
    "            \n",
    "            # extract features and fill the output array\n",
    "            features = extractor.execute(im, ma)\n",
    "            \n",
    "            output_array.append(features['original_ngtdm_Strength'])  # change here to extract\n",
    "\n",
    "            \n",
    "    return input_array, output_array\n",
    "\n",
    "            "
   ]
  },
  {
   "cell_type": "code",
   "execution_count": 34,
   "id": "61da1570",
   "metadata": {},
   "outputs": [],
   "source": [
    "input_array, output_array = LoadDataFromImages([\"trainingNon\", \"trainingPos\"])"
   ]
  },
  {
   "cell_type": "code",
   "execution_count": 6,
   "id": "9248782e",
   "metadata": {},
   "outputs": [
    {
     "name": "stderr",
     "output_type": "stream",
     "text": [
      "2022-07-28 08:48:43.995473: I tensorflow/core/platform/cpu_feature_guard.cc:193] This TensorFlow binary is optimized with oneAPI Deep Neural Network Library (oneDNN) to use the following CPU instructions in performance-critical operations:  AVX2 FMA\n",
      "To enable them in other operations, rebuild TensorFlow with the appropriate compiler flags.\n",
      "2022-07-28 08:48:47.429231: I tensorflow/core/common_runtime/gpu/gpu_device.cc:1532] Created device /job:localhost/replica:0/task:0/device:GPU:0 with 11560 MB memory:  -> device: 0, name: Tesla K80, pci bus id: 0000:0a:00.0, compute capability: 3.7\n",
      "2022-07-28 08:48:47.431285: I tensorflow/core/common_runtime/gpu/gpu_device.cc:1532] Created device /job:localhost/replica:0/task:0/device:GPU:1 with 11560 MB memory:  -> device: 1, name: Tesla K80, pci bus id: 0000:0b:00.0, compute capability: 3.7\n"
     ]
    }
   ],
   "source": [
    "config = tf.compat.v1.ConfigProto()\n",
    "config.gpu_options.allow_growth = True\n",
    "session = tf.compat.v1.Session(config=config)"
   ]
  },
  {
   "cell_type": "code",
   "execution_count": 33,
   "id": "cb35ee1d",
   "metadata": {},
   "outputs": [],
   "source": [
    "def MakeModel(modelname):\n",
    "    input_layer = keras.Input(shape=(512,512,1))\n",
    "    x = Flatten()(input_layer)\n",
    "    x = BatchNormalization(axis=1)(x)\n",
    "    x = Dense(128, activation='relu')(x)\n",
    "    x = Dense(64, activation='relu')(x)\n",
    "    x = Dense(64, activation='relu')(x)\n",
    "    x = Dense(64, activation='relu')(x)\n",
    "    x = Dense(64, activation='relu')(x)\n",
    "    out = Dense(1, activation = 'linear', name= modelname)(x)\n",
    "    model = keras.Model(input_layer, out, name= modelname)\n",
    "    \n",
    "    return model"
   ]
  },
  {
   "cell_type": "code",
   "execution_count": 34,
   "id": "7f71f73e",
   "metadata": {},
   "outputs": [],
   "source": [
    "model = MakeModel('covid_RunLengthNonUniformity')"
   ]
  },
  {
   "cell_type": "code",
   "execution_count": 35,
   "id": "44fc4339",
   "metadata": {},
   "outputs": [],
   "source": [
    "model.compile(optimizer=tf.keras.optimizers.Adam(\n",
    " #learning_rate= 0.0001\n",
    "), loss=\"mse\", metrics='mae')"
   ]
  },
  {
   "cell_type": "code",
   "execution_count": 83,
   "id": "ca14b72c",
   "metadata": {},
   "outputs": [],
   "source": [
    "model.fit(input_array, o4, \n",
    "              epochs=20, \n",
    "          batch_size=64,\n",
    "                shuffle=True\n",
    "            )"
   ]
  },
  {
   "cell_type": "code",
   "execution_count": 40,
   "id": "ed63810a",
   "metadata": {},
   "outputs": [],
   "source": [
    "model.save(\"./covid_RunLengthNonUniformity.h5\")"
   ]
  },
  {
   "cell_type": "code",
   "execution_count": 13,
   "id": "03dc929e",
   "metadata": {},
   "outputs": [],
   "source": [
    "dict = './covid19/testing/'\n",
    "\n",
    "input_array_t = []\n",
    "output_array_t = []\n",
    "\n",
    "input_array_t, output_array_t = LoadDataFromImages([\n",
    "                                                    'non'\n",
    "\n",
    "                                                   ])"
   ]
  },
  {
   "cell_type": "code",
   "execution_count": 14,
   "id": "ff01d4af",
   "metadata": {},
   "outputs": [],
   "source": [
    "input_array_t = np.array(input_array_t)\n",
    "output_array_t = np.array(output_array_t)"
   ]
  },
  {
   "cell_type": "code",
   "execution_count": 39,
   "id": "e640cc0e",
   "metadata": {},
   "outputs": [
    {
     "name": "stdout",
     "output_type": "stream",
     "text": [
      "10/10 [==============================] - 0s 7ms/step\n"
     ]
    },
    {
     "data": {
      "text/plain": [
       "Text(0.5, 1.0, 'covid_RunLengthNonUniformity')"
      ]
     },
     "execution_count": 39,
     "metadata": {},
     "output_type": "execute_result"
    },
    {
     "data": {
      "image/png": "[encoded data removed]",
      "text/plain": [
       "<Figure size 432x288 with 1 Axes>"
      ]
     },
     "metadata": {
      "needs_background": "light"
     },
     "output_type": "display_data"
    }
   ],
   "source": [
    "plt.plot(range(50),output_array_t[0:50] ,label='Real Value')\n",
    "plt.plot(range(50),model.predict(input_array_t)[0:50]  ,label='Predict Value')\n",
    "plt.xlabel(\"Index of image Input\")\n",
    "plt.ylabel(\"Value\")\n",
    "plt.legend(bbox_to_anchor=(1.05, 1),loc='upper left')\n",
    "plt.title('covid_RunLengthNonUniformity')\n",
    "\n",
    "#print(np.mean(test_array7, axis=1))"
   ]
  },
  {
   "cell_type": "markdown",
   "id": "e496d37a",
   "metadata": {},
   "source": [
    "# Compare Performances - Simple Network"
   ]
  },
  {
   "cell_type": "code",
   "execution_count": 4,
   "id": "f5d27e20",
   "metadata": {},
   "outputs": [],
   "source": [
    "# class_names = ['non', 'pos']\n",
    "# dict = './covid19/testing/'\n",
    "\n",
    "class_names = ['Non-COVID-19', 'COVID-19']\n",
    "dict = './covid19/wholeset/'"
   ]
  },
  {
   "cell_type": "code",
   "execution_count": 5,
   "id": "7695eead",
   "metadata": {},
   "outputs": [],
   "source": [
    "\n",
    "def load_training():\n",
    "    trainingdata = []\n",
    "    for i in class_names:\n",
    "        path = os.path.join(dict, i)\n",
    "        label_num = class_names.index(i)\n",
    "        for j in os.listdir(path):\n",
    "            img = sitk.ReadImage(dict + i +'/' + j)\n",
    "            trainingdata.append([sitk.GetArrayFromImage(img).reshape(512,512,1),label_num])\n",
    "            \n",
    "    return trainingdata\n",
    "    \n",
    "            \n",
    "    "
   ]
  },
  {
   "cell_type": "code",
   "execution_count": 6,
   "id": "39b54d83",
   "metadata": {},
   "outputs": [],
   "source": [
    "data = load_training()"
   ]
  },
  {
   "cell_type": "code",
   "execution_count": 7,
   "id": "26e042d8",
   "metadata": {},
   "outputs": [
    {
     "data": {
      "text/plain": [
       "8439"
      ]
     },
     "execution_count": 7,
     "metadata": {},
     "output_type": "execute_result"
    }
   ],
   "source": [
    "len(data)"
   ]
  },
  {
   "cell_type": "code",
   "execution_count": 8,
   "id": "00663d3e",
   "metadata": {},
   "outputs": [],
   "source": [
    "# mix the non and pos covid 19\n",
    "random.shuffle(data)"
   ]
  },
  {
   "cell_type": "code",
   "execution_count": 33,
   "id": "5247223e",
   "metadata": {},
   "outputs": [],
   "source": [
    "X =[]\n",
    "Y =[]\n",
    "X_t = []\n",
    "Y_t = []\n",
    "for trainingx, label in data[:4000]:\n",
    "    X.append(trainingx)\n",
    "    Y.append(label)"
   ]
  },
  {
   "cell_type": "code",
   "execution_count": 34,
   "id": "43e0349c",
   "metadata": {},
   "outputs": [],
   "source": [
    "for trainingx, label in data[4000:]:\n",
    "    X_t.append(trainingx)\n",
    "    Y_t.append(label)\n"
   ]
  },
  {
   "cell_type": "code",
   "execution_count": 35,
   "id": "85d68a1a",
   "metadata": {},
   "outputs": [],
   "source": [
    "X = np.array(X)\n",
    "Y = np.array(Y)\n",
    "X_t = np.array(X_t)\n",
    "Y_t = np.array(Y_t)"
   ]
  },
  {
   "cell_type": "code",
   "execution_count": 37,
   "id": "24689a99",
   "metadata": {},
   "outputs": [
    {
     "name": "stdout",
     "output_type": "stream",
     "text": [
      "[1 1 0 1 0 1 1 1 0 1]\n"
     ]
    }
   ],
   "source": [
    "print(Y[:10])"
   ]
  },
  {
   "cell_type": "code",
   "execution_count": 38,
   "id": "06e89950",
   "metadata": {},
   "outputs": [],
   "source": [
    "# creating a simple Network\n",
    "def MakeModel(modelname):\n",
    "    input_layer = keras.Input(shape=(512,512,1))\n",
    "    x = Flatten()(input_layer)\n",
    "    #x = BatchNormalization(axis=1)(x)\n",
    "    x = Dense(128, activation='relu')(x)\n",
    "    x = Dense(128, activation='relu')(x)\n",
    "\n",
    "    out = Dense(2, activation = 'softmax', name= modelname)(x)\n",
    "\n",
    "    model = keras.Model(input_layer, out, name= modelname)\n",
    "    \n",
    "    return model"
   ]
  },
  {
   "cell_type": "code",
   "execution_count": 39,
   "id": "2efd64fc",
   "metadata": {},
   "outputs": [],
   "source": [
    "simpleModel = MakeModel('simpleDLmodel')"
   ]
  },
  {
   "cell_type": "code",
   "execution_count": 40,
   "id": "4b997170",
   "metadata": {},
   "outputs": [],
   "source": [
    "simpleModel.compile(optimizer=tf.keras.optimizers.Adam(\n",
    " learning_rate= 0.0001\n",
    "),\n",
    "              loss=tf.keras.losses.SparseCategoricalCrossentropy(),\n",
    "             metrics=['accuracy']\n",
    "                   )"
   ]
  },
  {
   "cell_type": "code",
   "execution_count": 41,
   "id": "943f0873",
   "metadata": {},
   "outputs": [
    {
     "name": "stdout",
     "output_type": "stream",
     "text": [
      "Epoch 1/20\n",
      "63/63 [==============================] - 3s 36ms/step - loss: 245.8408 - accuracy: 0.8372 - val_loss: 24.3737 - val_accuracy: 0.9223\n",
      "Epoch 2/20\n",
      "63/63 [==============================] - 1s 16ms/step - loss: 43.2687 - accuracy: 0.9135 - val_loss: 9.3793 - val_accuracy: 0.9660\n",
      "Epoch 3/20\n",
      "63/63 [==============================] - 1s 16ms/step - loss: 40.5215 - accuracy: 0.9365 - val_loss: 107.2634 - val_accuracy: 0.6436\n",
      "Epoch 4/20\n",
      "63/63 [==============================] - 1s 17ms/step - loss: 42.7657 - accuracy: 0.9147 - val_loss: 23.7789 - val_accuracy: 0.9595\n",
      "Epoch 5/20\n",
      "63/63 [==============================] - 1s 16ms/step - loss: 33.6352 - accuracy: 0.9445 - val_loss: 11.5800 - val_accuracy: 0.9732\n",
      "Epoch 6/20\n",
      "63/63 [==============================] - 1s 16ms/step - loss: 120.5633 - accuracy: 0.9080 - val_loss: 30.3862 - val_accuracy: 0.9631\n",
      "Epoch 7/20\n",
      "63/63 [==============================] - 1s 16ms/step - loss: 9.1986 - accuracy: 0.9725 - val_loss: 7.9725 - val_accuracy: 0.9788\n",
      "Epoch 8/20\n",
      "63/63 [==============================] - 1s 16ms/step - loss: 4.0049 - accuracy: 0.9825 - val_loss: 6.5275 - val_accuracy: 0.9809\n",
      "Epoch 9/20\n",
      "63/63 [==============================] - 1s 16ms/step - loss: 9.3560 - accuracy: 0.9735 - val_loss: 6.5105 - val_accuracy: 0.9842\n",
      "Epoch 10/20\n",
      "63/63 [==============================] - 1s 16ms/step - loss: 56.4238 - accuracy: 0.9202 - val_loss: 27.1063 - val_accuracy: 0.9655\n",
      "Epoch 11/20\n",
      "63/63 [==============================] - 1s 16ms/step - loss: 10.4688 - accuracy: 0.9670 - val_loss: 100.2623 - val_accuracy: 0.9148\n",
      "Epoch 12/20\n",
      "63/63 [==============================] - 1s 16ms/step - loss: 12.1378 - accuracy: 0.9730 - val_loss: 6.8141 - val_accuracy: 0.9863\n",
      "Epoch 13/20\n",
      "63/63 [==============================] - 1s 17ms/step - loss: 1.0865 - accuracy: 0.9948 - val_loss: 4.9655 - val_accuracy: 0.9827\n",
      "Epoch 14/20\n",
      "63/63 [==============================] - 1s 17ms/step - loss: 3.1068 - accuracy: 0.9877 - val_loss: 10.8444 - val_accuracy: 0.9802\n",
      "Epoch 15/20\n",
      "63/63 [==============================] - 1s 16ms/step - loss: 0.1526 - accuracy: 0.9980 - val_loss: 4.5442 - val_accuracy: 0.9887\n",
      "Epoch 16/20\n",
      "63/63 [==============================] - 1s 16ms/step - loss: 0.6061 - accuracy: 0.9960 - val_loss: 6.9351 - val_accuracy: 0.9856\n",
      "Epoch 17/20\n",
      "63/63 [==============================] - 1s 16ms/step - loss: 1.6506 - accuracy: 0.9930 - val_loss: 4.1511 - val_accuracy: 0.9892\n",
      "Epoch 18/20\n",
      "63/63 [==============================] - 1s 17ms/step - loss: 43.4977 - accuracy: 0.9548 - val_loss: 389.2914 - val_accuracy: 0.8885\n",
      "Epoch 19/20\n",
      "63/63 [==============================] - 1s 16ms/step - loss: 57.6821 - accuracy: 0.9495 - val_loss: 10.0057 - val_accuracy: 0.9838\n",
      "Epoch 20/20\n",
      "63/63 [==============================] - 1s 16ms/step - loss: 0.8240 - accuracy: 0.9948 - val_loss: 23.0485 - val_accuracy: 0.9691\n"
     ]
    }
   ],
   "source": [
    "history_sn = simpleModel.fit(X, Y, \n",
    "                validation_data=([X_t,Y_t]), \n",
    "                batch_size=64,\n",
    "                epochs=20)\n"
   ]
  },
  {
   "cell_type": "code",
   "execution_count": 22,
   "id": "b3da8266",
   "metadata": {},
   "outputs": [],
   "source": [
    "xx = X[7].reshape(1,512,512,1)"
   ]
  },
  {
   "cell_type": "code",
   "execution_count": 24,
   "id": "620dc25d",
   "metadata": {},
   "outputs": [
    {
     "name": "stdout",
     "output_type": "stream",
     "text": [
      "32/32 [==============================] - 0s 1ms/step - loss: 0.0000e+00\n"
     ]
    },
    {
     "data": {
      "text/plain": [
       "0.0"
      ]
     },
     "execution_count": 24,
     "metadata": {},
     "output_type": "execute_result"
    }
   ],
   "source": [
    "simpleModel.evaluate(X_t)"
   ]
  },
  {
   "cell_type": "markdown",
   "id": "5a0f6bae",
   "metadata": {},
   "source": [
    "# Compare Performances - FINs"
   ]
  },
  {
   "cell_type": "code",
   "execution_count": 79,
   "id": "49b1ddd6",
   "metadata": {},
   "outputs": [],
   "source": [
    "# loading FINs\n",
    "# m1 = load_model('covid_SizeZoneNonUniformity.h5')\n",
    "# m2 = load_model('covid_Contrast.h5')\n",
    "# m3 = load_model('covid_LowGrayLevelEmphasis.h5')\n",
    "# m4 = load_model('covid_Skewness.h5')\n",
    "# m5 = load_model('covid_DependenceVariance.h5')\n",
    "# m6= load_model('covid_GrayLevelVariance.h5')\n",
    "# m7 = load_model('covid_Autocorrelation.h5')\n",
    "# m8 = load_model('covid_RunLengthNonUniformity.h5')\n",
    "\n",
    "\n",
    "def MakeModel(modelname):\n",
    "    input_layer = keras.Input(shape=(512,512,1))\n",
    "    l1 = m1(input_layer)\n",
    "    l2 = m2(input_layer)\n",
    "    l3 = m3(input_layer)\n",
    "    l4 = m4(input_layer)\n",
    "    l5 = m5(input_layer)\n",
    "    l6 = m7(input_layer)\n",
    "    l7 = m7(input_layer)\n",
    "    l8 = m8(input_layer)\n",
    "    \n",
    "    #x = Flatten()(input_layer)\n",
    "    n_d = concatenate([l1,l2\n",
    "                       ,l4,l3,l5,l6,l7,l8\n",
    "                      ])\n",
    "    \n",
    "    #x = Flatten()(n_d)\n",
    "    #x = BatchNormalization(axis=1)(x)\n",
    "    x = Dense(128, activation='relu')(n_d)\n",
    "    x = Dense(128, activation='relu')(x)\n",
    "\n",
    "    out = Dense(2, activation = 'softmax', name= modelname)(x)\n",
    "\n",
    "    model = keras.Model(input_layer, out, name= modelname)\n",
    "    \n",
    "    return model"
   ]
  },
  {
   "cell_type": "code",
   "execution_count": 80,
   "id": "76823657",
   "metadata": {},
   "outputs": [],
   "source": [
    "finModel1 = MakeModel('finModel')"
   ]
  },
  {
   "cell_type": "code",
   "execution_count": 81,
   "id": "8f052404",
   "metadata": {},
   "outputs": [],
   "source": [
    "finModel1.compile(optimizer=tf.keras.optimizers.Adam(\n",
    " learning_rate= 0.0001\n",
    "),\n",
    "              loss=tf.keras.losses.SparseCategoricalCrossentropy(),\n",
    "              metrics=['accuracy']\n",
    "                )"
   ]
  },
  {
   "cell_type": "code",
   "execution_count": 72,
   "id": "b886f918",
   "metadata": {},
   "outputs": [
    {
     "name": "stdout",
     "output_type": "stream",
     "text": [
      "Epoch 1/20\n",
      "63/63 [==============================] - 7s 80ms/step - loss: 36.5298 - accuracy: 0.9065 - val_loss: 2.4705 - val_accuracy: 0.9759\n",
      "Epoch 2/20\n",
      "63/63 [==============================] - 4s 57ms/step - loss: 0.5198 - accuracy: 0.9908 - val_loss: 1.9005 - val_accuracy: 0.9867\n",
      "Epoch 3/20\n",
      "63/63 [==============================] - 4s 56ms/step - loss: 0.2702 - accuracy: 0.9937 - val_loss: 1.7436 - val_accuracy: 0.9854\n",
      "Epoch 4/20\n",
      "63/63 [==============================] - 4s 57ms/step - loss: 0.0757 - accuracy: 0.9975 - val_loss: 2.2566 - val_accuracy: 0.9892\n",
      "Epoch 5/20\n",
      "63/63 [==============================] - 4s 57ms/step - loss: 0.0273 - accuracy: 0.9980 - val_loss: 1.9996 - val_accuracy: 0.9901\n",
      "Epoch 6/20\n",
      "63/63 [==============================] - 4s 57ms/step - loss: 0.0186 - accuracy: 0.9995 - val_loss: 1.7840 - val_accuracy: 0.9905\n",
      "Epoch 7/20\n",
      "63/63 [==============================] - 4s 57ms/step - loss: 0.0627 - accuracy: 0.9977 - val_loss: 1.8814 - val_accuracy: 0.9899\n",
      "Epoch 8/20\n",
      "63/63 [==============================] - 4s 57ms/step - loss: 0.0443 - accuracy: 0.9985 - val_loss: 4.4107 - val_accuracy: 0.9838\n",
      "Epoch 9/20\n",
      "63/63 [==============================] - 4s 57ms/step - loss: 0.1871 - accuracy: 0.9985 - val_loss: 1.8721 - val_accuracy: 0.9914\n",
      "Epoch 10/20\n",
      "63/63 [==============================] - 4s 57ms/step - loss: 0.6312 - accuracy: 0.9935 - val_loss: 2.3152 - val_accuracy: 0.9881\n",
      "Epoch 11/20\n",
      "63/63 [==============================] - 4s 56ms/step - loss: 0.1627 - accuracy: 0.9983 - val_loss: 2.9559 - val_accuracy: 0.9905\n",
      "Epoch 12/20\n",
      "63/63 [==============================] - 4s 56ms/step - loss: 0.0298 - accuracy: 0.9990 - val_loss: 2.6630 - val_accuracy: 0.9903\n",
      "Epoch 13/20\n",
      "63/63 [==============================] - 4s 57ms/step - loss: 0.0323 - accuracy: 0.9987 - val_loss: 2.6907 - val_accuracy: 0.9901\n",
      "Epoch 14/20\n",
      "63/63 [==============================] - 4s 57ms/step - loss: 0.0023 - accuracy: 0.9995 - val_loss: 2.7946 - val_accuracy: 0.9905\n",
      "Epoch 15/20\n",
      "63/63 [==============================] - 4s 57ms/step - loss: 0.0051 - accuracy: 0.9995 - val_loss: 2.7374 - val_accuracy: 0.9899\n",
      "Epoch 16/20\n",
      "63/63 [==============================] - 4s 56ms/step - loss: 0.0158 - accuracy: 0.9992 - val_loss: 2.5958 - val_accuracy: 0.9905\n",
      "Epoch 17/20\n",
      "63/63 [==============================] - 4s 56ms/step - loss: 0.0037 - accuracy: 0.9998 - val_loss: 2.5608 - val_accuracy: 0.9910\n",
      "Epoch 18/20\n",
      "63/63 [==============================] - 4s 56ms/step - loss: 0.0208 - accuracy: 0.9987 - val_loss: 2.5602 - val_accuracy: 0.9910\n",
      "Epoch 19/20\n",
      "63/63 [==============================] - 4s 56ms/step - loss: 0.0000e+00 - accuracy: 1.0000 - val_loss: 2.5632 - val_accuracy: 0.9910\n",
      "Epoch 20/20\n",
      "63/63 [==============================] - 4s 57ms/step - loss: 0.0312 - accuracy: 0.9992 - val_loss: 1.9215 - val_accuracy: 0.9932\n"
     ]
    }
   ],
   "source": [
    "history_fin1 = finModel1.fit(X, Y, \n",
    "                validation_data=([X_t,Y_t]), \n",
    "                batch_size=64,\n",
    "                epochs=20)"
   ]
  },
  {
   "cell_type": "raw",
   "id": "4a8de53a",
   "metadata": {},
   "source": [
    "FIN2 If add raw Input as a dimension"
   ]
  },
  {
   "cell_type": "code",
   "execution_count": 62,
   "id": "00e5e934",
   "metadata": {},
   "outputs": [],
   "source": [
    "# loading FINs\n",
    "m1 = load_model('covid_SizeZoneNonUniformity.h5')\n",
    "m2 = load_model('covid_Contrast.h5')\n",
    "m3 = load_model('covid_LowGrayLevelEmphasis.h5')\n",
    "m4 = load_model('covid_Skewness.h5')\n",
    "m5 = load_model('covid_DependenceVariance.h5')\n",
    "m6= load_model('covid_GrayLevelVariance.h5')\n",
    "m7 = load_model('covid_Autocorrelation.h5')\n",
    "m8 = load_model('covid_RunLengthNonUniformity.h5')\n",
    "\n",
    "\n",
    "def MakeModel(modelname):\n",
    "    input_layer = keras.Input(shape=(512,512,1))\n",
    "    l1 = m1(input_layer)\n",
    "    l2 = m2(input_layer)\n",
    "    l3 = m3(input_layer)\n",
    "    l4 = m4(input_layer)\n",
    "    l5 = m5(input_layer)\n",
    "    l6 = m7(input_layer)\n",
    "    l7 = m7(input_layer)\n",
    "    l8 = m8(input_layer)\n",
    "    \n",
    "    x_ori = Flatten()(input_layer)\n",
    "    n_d = concatenate([x_ori, l1,l2\n",
    "                       ,l4,l3,l5,l6,l7,l8\n",
    "                      ])\n",
    "    \n",
    "    #x = Flatten()(n_d)\n",
    "    #x = BatchNormalization(axis=1)(x)\n",
    "    x = Dense(128, activation='relu')(n_d)\n",
    "    x = Dense(128, activation='relu')(x)\n",
    "\n",
    "\n",
    "    out = Dense(2, activation = 'softmax', name= modelname)(x)\n",
    "\n",
    "    model = keras.Model(input_layer, out, name= modelname)\n",
    "    \n",
    "    return model"
   ]
  },
  {
   "cell_type": "code",
   "execution_count": 63,
   "id": "3d3cf8a9",
   "metadata": {},
   "outputs": [
    {
     "name": "stdout",
     "output_type": "stream",
     "text": [
      "Epoch 1/20\n",
      "63/63 [==============================] - 7s 83ms/step - loss: 255.4845 - accuracy: 0.8497 - val_loss: 49.9548 - val_accuracy: 0.9223\n",
      "Epoch 2/20\n",
      "63/63 [==============================] - 4s 59ms/step - loss: 52.5715 - accuracy: 0.8935 - val_loss: 22.0112 - val_accuracy: 0.8833\n",
      "Epoch 3/20\n",
      "63/63 [==============================] - 4s 59ms/step - loss: 24.5969 - accuracy: 0.9317 - val_loss: 37.4470 - val_accuracy: 0.7995\n",
      "Epoch 4/20\n",
      "63/63 [==============================] - 4s 60ms/step - loss: 22.3056 - accuracy: 0.9375 - val_loss: 11.6145 - val_accuracy: 0.9689\n",
      "Epoch 5/20\n",
      "63/63 [==============================] - 4s 59ms/step - loss: 1.9735 - accuracy: 0.9847 - val_loss: 1.9442 - val_accuracy: 0.9811\n",
      "Epoch 6/20\n",
      "63/63 [==============================] - 4s 59ms/step - loss: 32.7168 - accuracy: 0.9563 - val_loss: 6.1335 - val_accuracy: 0.9777\n",
      "Epoch 7/20\n",
      "63/63 [==============================] - 4s 59ms/step - loss: 9.7212 - accuracy: 0.9747 - val_loss: 7.9506 - val_accuracy: 0.9752\n",
      "Epoch 8/20\n",
      "63/63 [==============================] - 4s 59ms/step - loss: 0.7090 - accuracy: 0.9952 - val_loss: 1.8771 - val_accuracy: 0.9903\n",
      "Epoch 9/20\n",
      "63/63 [==============================] - 4s 60ms/step - loss: 2.1776 - accuracy: 0.9860 - val_loss: 10.0900 - val_accuracy: 0.9754\n",
      "Epoch 10/20\n",
      "63/63 [==============================] - 4s 59ms/step - loss: 10.0821 - accuracy: 0.9705 - val_loss: 4.5486 - val_accuracy: 0.9894\n",
      "Epoch 11/20\n",
      "63/63 [==============================] - 4s 59ms/step - loss: 8.9434 - accuracy: 0.9745 - val_loss: 19.4616 - val_accuracy: 0.9736\n",
      "Epoch 12/20\n",
      "63/63 [==============================] - 4s 59ms/step - loss: 3.1828 - accuracy: 0.9895 - val_loss: 7.3651 - val_accuracy: 0.9854\n",
      "Epoch 13/20\n",
      "63/63 [==============================] - 4s 59ms/step - loss: 1.8252 - accuracy: 0.9910 - val_loss: 4.2434 - val_accuracy: 0.9917\n",
      "Epoch 14/20\n",
      "63/63 [==============================] - 4s 60ms/step - loss: 0.2813 - accuracy: 0.9983 - val_loss: 2.7154 - val_accuracy: 0.9935\n",
      "Epoch 15/20\n",
      "63/63 [==============================] - 4s 59ms/step - loss: 0.8694 - accuracy: 0.9950 - val_loss: 3.2973 - val_accuracy: 0.9928\n",
      "Epoch 16/20\n",
      "63/63 [==============================] - 4s 59ms/step - loss: 0.0840 - accuracy: 0.9987 - val_loss: 1.7523 - val_accuracy: 0.9885\n",
      "Epoch 17/20\n",
      "63/63 [==============================] - 4s 59ms/step - loss: 0.4448 - accuracy: 0.9980 - val_loss: 6.6622 - val_accuracy: 0.9876\n",
      "Epoch 18/20\n",
      "63/63 [==============================] - 4s 59ms/step - loss: 0.8986 - accuracy: 0.9945 - val_loss: 5.7686 - val_accuracy: 0.9914\n",
      "Epoch 19/20\n",
      "63/63 [==============================] - 4s 59ms/step - loss: 1.3123 - accuracy: 0.9950 - val_loss: 3.0797 - val_accuracy: 0.9948\n",
      "Epoch 20/20\n",
      "63/63 [==============================] - 4s 59ms/step - loss: 0.0238 - accuracy: 0.9995 - val_loss: 4.5401 - val_accuracy: 0.9932\n"
     ]
    }
   ],
   "source": [
    "finModel2 = MakeModel('finModel')\n",
    "finModel2.compile(optimizer=tf.keras.optimizers.Adam(\n",
    " learning_rate= 0.0001\n",
    "),\n",
    "              loss=tf.keras.losses.SparseCategoricalCrossentropy(),\n",
    "              metrics=['accuracy']\n",
    "                )\n",
    "history_fin2 = finModel2.fit(X, Y, \n",
    "                validation_data=([X_t,Y_t]), \n",
    "                batch_size=64,\n",
    "                epochs=20)"
   ]
  },
  {
   "cell_type": "markdown",
   "id": "0fa0c4db",
   "metadata": {},
   "source": [
    "# Plot Graph"
   ]
  },
  {
   "cell_type": "code",
   "execution_count": 73,
   "id": "fb2d203b",
   "metadata": {},
   "outputs": [
    {
     "data": {
      "image/png": "[encoded data removed]",
      "text/plain": [
       "<Figure size 432x288 with 1 Axes>"
      ]
     },
     "metadata": {
      "needs_background": "light"
     },
     "output_type": "display_data"
    }
   ],
   "source": [
    "\n",
    "\n",
    "plt.plot(history_fin1.history['val_accuracy'])\n",
    "plt.plot(history_fin2.history['val_accuracy'])\n",
    "plt.plot(history_sn.history['val_accuracy'])\n",
    "\n",
    "plt.title('model accuracy')\n",
    "plt.ylabel('accuracy')\n",
    "plt.xlabel('epoch')\n",
    "plt.legend(['FIN','FIN2' ,'Normal NN'], loc='lower right')\n",
    "plt.show()"
   ]
  },
  {
   "cell_type": "code",
   "execution_count": 74,
   "id": "2709a809",
   "metadata": {},
   "outputs": [
    {
     "data": {
      "image/png": "[encoded data removed]",
      "text/plain": [
       "<Figure size 432x288 with 1 Axes>"
      ]
     },
     "metadata": {
      "needs_background": "light"
     },
     "output_type": "display_data"
    }
   ],
   "source": [
    "plt.plot(history_fin.history['val_loss'])\n",
    "plt.plot(history_fin2.history['val_loss'])\n",
    "plt.plot(history_sn.history['val_loss'])\n",
    "plt.title('model loss')\n",
    "plt.ylabel('loss')\n",
    "plt.xlabel('epoch')\n",
    "plt.legend(['FIN','FIN2', 'Normal NN'], loc='upper left')\n",
    "plt.show()"
   ]
  },
  {
   "cell_type": "code",
   "execution_count": null,
   "id": "ec91950d",
   "metadata": {},
   "outputs": [],
   "source": []
  }
 ],
 "metadata": {
  "kernelspec": {
   "display_name": "Python 3 (ipykernel)",
   "language": "python",
   "name": "python3"
  },
  "language_info": {
   "codemirror_mode": {
    "name": "ipython",
    "version": 3
   },
   "file_extension": ".py",
   "mimetype": "text/x-python",
   "name": "python",
   "nbconvert_exporter": "python",
   "pygments_lexer": "ipython3",
   "version": "3.9.12"
  }
 },
 "nbformat": 4,
 "nbformat_minor": 5
}