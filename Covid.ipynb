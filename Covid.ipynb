{
 "cells": [
  {
   "cell_type": "code",
   "execution_count": 2,
   "id": "4288f71c",
   "metadata": {},
   "outputs": [],
   "source": [
    "import numpy as np\n",
    "from numpy import random\n",
    "import random\n",
    "import matplotlib.pyplot as plt\n",
    "from scipy.signal import cwt,ricker\n",
    "from scipy import stats\n",
    "from sklearn.preprocessing import StandardScaler,normalize\n",
    "from sklearn.preprocessing import MinMaxScaler\n",
    "from sklearn.model_selection import KFold\n",
    "from sklearn.linear_model import LogisticRegression\n",
    "import os\n",
    "import tensorflow as tf\n",
    "import tensorflow.keras as keras\n",
    "import tensorflow.keras.optimizers\n",
    "from tensorflow.keras.models import Sequential\n",
    "from keras.callbacks import EarlyStopping,ModelCheckpoint\n",
    "from keras.models import load_model\n",
    "from tensorflow.keras.layers import Flatten,concatenate,Layer,Dense,LSTM,Activation,MaxPooling2D,Dropout,Conv2D,BatchNormalization,Reshape,UpSampling2D,ZeroPadding2D\n",
    "#import nibabel as nib\n",
    "#import pydicom as dicom\n",
    "#from pydicom.pixel_data_handlers.util import apply_voi_lut\n",
    "#import tensorflow_io as tfio\n",
    "import radiomics\n",
    "from radiomics.featureextractor import RadiomicsFeatureExtractor\n",
    "import SimpleITK as sitk\n",
    "import pandas as pd\n"
   ]
  },
  {
   "cell_type": "markdown",
   "id": "6db2e0a6",
   "metadata": {},
   "source": [
    "# Training"
   ]
  },
  {
   "cell_type": "raw",
   "id": "b711c6aa",
   "metadata": {},
   "source": [
    "Section how I extract the real features from the dataset and save them as arrays"
   ]
  },
  {
   "cell_type": "code",
   "execution_count": 2,
   "id": "92ebd050",
   "metadata": {},
   "outputs": [],
   "source": [
    "TF_ENABLE_ONEDNN_OPTS=0"
   ]
  },
  {
   "cell_type": "code",
   "execution_count": 2,
   "id": "2e59cda4",
   "metadata": {},
   "outputs": [],
   "source": [
    "dict = './covid19/kcv/'\n",
    "\n",
    "# Function takes a list of folders, extract features from it, change the extractor inside function and the return dictionary\n",
    "# to run exactly which feature, the key of the return dictionary can be found in mask.ipy and also listed in pyradiomics library\n",
    "def LoadDataFromImages(foldernames):\n",
    "    input_array = []\n",
    "    #output_array=[]\n",
    "    o1=[]\n",
    "    o2=[]\n",
    "    o3=[]\n",
    "    o4=[]\n",
    "    o5=[]\n",
    "\n",
    "    extractor = RadiomicsFeatureExtractor()\n",
    "    # Disable all classes except firstorder\n",
    "    extractor.disableAllFeatures()\n",
    "#     extractor.enableFeaturesByName(firstorder=['Skewness'])  # change here to extract\n",
    "#     extractor.enableFeaturesByName(glcm=['Autocorrelation'])\n",
    "#     extractor.enableFeaturesByName(glrlm=['GrayLevelVariance','RunLengthNonUniformity'])\n",
    "#     extractor.enableFeaturesByName(glszm=['SizeZoneNonUniformity'])\n",
    "\n",
    "    extractor.enableFeaturesByName(glcm=['ClusterShade','DifferenceEntropy',\"JointEntropy\"])  # change here to extract\n",
    "    extractor.enableFeaturesByName(firstorder=['Energy'])\n",
    "    extractor.enableFeaturesByName(glszm=['SizeZoneNonUniformity'])\n",
    "\n",
    "    for i in foldernames:\n",
    "        files  = sorted(os.listdir(dict + i))\n",
    "        for j in files:\n",
    "            im = sitk.ReadImage(dict + i +'/' + j)\n",
    "            \n",
    "            # reshape and fill the input array\n",
    "            input_array.append(sitk.GetArrayFromImage(im).reshape(512,512,1))\n",
    "            \n",
    "            ma_arr = np.ones(im.GetSize()[::-1])  # reverse the order as image is xyz, array is zyx\n",
    "            ma = sitk.GetImageFromArray(ma_arr)\n",
    "            ma.CopyInformation(im)  # Copy geometric info\n",
    "            \n",
    "            # extract features and fill the output array\n",
    "            features = extractor.execute(im, ma)\n",
    "            \n",
    "            #output_array.append(features['original_ngtdm_Strength'])  # change here to extract\n",
    "#             o1.append(features['original_firstorder_Skewness'])\n",
    "#             o2.append(features['original_glcm_Autocorrelation'])\n",
    "#             o3.append(features['original_glrlm_GrayLevelVariance'])\n",
    "#             o4.append(features['original_glrlm_RunLengthNonUniformity'])\n",
    "#             o5.append(features['original_glszm_SizeZoneNonUniformity'])\n",
    "\n",
    "            o1.append(features['original_glcm_ClusterShade'])  # change here to extract\n",
    "            o2.append(features['original_glcm_DifferenceEntropy'])\n",
    "            o3.append(features['original_glcm_JointEntropy'])\n",
    "            o4.append(features['original_firstorder_Energy'])\n",
    "            o5.append(features['original_glszm_SizeZoneNonUniformity'])\n",
    "\n",
    "            \n",
    "    return input_array,o1,o2,o3,o4,o5\n",
    "\n",
    "            "
   ]
  },
  {
   "cell_type": "code",
   "execution_count": 3,
   "id": "61da1570",
   "metadata": {},
   "outputs": [],
   "source": [
    "input_array, o1,o2,o3,o4,o5 = LoadDataFromImages([\"pos\", \"neg\"])"
   ]
  },
  {
   "cell_type": "code",
   "execution_count": 5,
   "id": "cfc91e1a",
   "metadata": {},
   "outputs": [],
   "source": [
    "input_array = np.array(input_array)\n",
    "o1 = np.array(o1)\n",
    "o2 = np.array(o2)\n",
    "o3 = np.array(o3)\n",
    "o4 = np.array(o4)\n",
    "o5 = np.array(o5)\n",
    "\n"
   ]
  },
  {
   "cell_type": "code",
   "execution_count": 6,
   "id": "2a44ede6",
   "metadata": {},
   "outputs": [],
   "source": [
    "# np.save(\"input_arr.npy\",input_array)\n",
    "# np.save(\"o1ar.npy\",o1)\n",
    "# np.save(\"o2ar.npy\",o2)\n",
    "# np.save(\"o3ar.npy\",o3)\n",
    "# np.save(\"o4ar.npy\",o4)\n",
    "# np.save(\"o5ar.npy\",o5)\n",
    "\n",
    "np.save(\"input_arr2.npy\",input_array)\n",
    "np.save(\"o6ar.npy\",o1)\n",
    "np.save(\"o7ar.npy\",o2)\n",
    "np.save(\"o8ar.npy\",o3)\n",
    "np.save(\"o9ar.npy\",o4)\n",
    "np.save(\"o10ar.npy\",o5)"
   ]
  },
  {
   "cell_type": "code",
   "execution_count": 55,
   "id": "63e1b770",
   "metadata": {},
   "outputs": [],
   "source": [
    "skew1 = load_model('SizeZoneNonUniformity1.h5')"
   ]
  },
  {
   "cell_type": "code",
   "execution_count": 187,
   "id": "29709c53",
   "metadata": {},
   "outputs": [
    {
     "name": "stdout",
     "output_type": "stream",
     "text": [
      "2/2 [==============================] - 0s 6ms/step\n"
     ]
    },
    {
     "data": {
      "text/plain": [
       "Text(0.5, 1.0, 'ClusterShade K1 set Performance')"
      ]
     },
     "execution_count": 187,
     "metadata": {},
     "output_type": "execute_result"
    },
    {
     "data": {
      "image/png": "[encoded data removed]",
      "text/plain": [
       "<Figure size 432x288 with 1 Axes>"
      ]
     },
     "metadata": {
      "needs_background": "light"
     },
     "output_type": "display_data"
    }
   ],
   "source": [
    "\n",
    "plt.plot(range(50),feature6_test[1][200:250] ,label='Real Value')\n",
    "plt.plot(range(50),new_model.predict(testgroup[1][200:250])  ,label='Predict Value')\n",
    "plt.xlabel(\"Index of CT image Input\")\n",
    "plt.ylabel(\"Value\")\n",
    "plt.legend(bbox_to_anchor=(1.05, 1),loc='upper left')\n",
    "plt.title('ClusterShade K1 set Performance')\n"
   ]
  },
  {
   "cell_type": "code",
   "execution_count": 98,
   "id": "ba61e17f",
   "metadata": {},
   "outputs": [],
   "source": [
    "# np.save(\"input_arr_test.npy\",input_array)\n",
    "# np.save(\"o1ar_test.npy\",o1)\n",
    "# np.save(\"o2ar_test.npy\",o2)\n",
    "# np.save(\"o3ar_test.npy\",o3)\n",
    "# np.save(\"o4ar_test.npy\",o4)\n",
    "# np.save(\"o5ar_test.npy\",o5)"
   ]
  },
  {
   "cell_type": "code",
   "execution_count": 104,
   "id": "37c6ae90",
   "metadata": {},
   "outputs": [],
   "source": [
    "# np.save(\"input_arr_finet.npy\",input_array)\n",
    "# np.save(\"o1ar_finet.npy\",o1)\n",
    "# np.save(\"o2ar_finet.npy\",o2)\n",
    "# np.save(\"o3ar_finet.npy\",o3)\n",
    "# np.save(\"o4ar_finet.npy\",o4)\n",
    "# np.save(\"o5ar_finet.npy\",o5)"
   ]
  },
  {
   "cell_type": "markdown",
   "id": "e496d37a",
   "metadata": {},
   "source": [
    "# Load the Training and Testing Data"
   ]
  },
  {
   "cell_type": "code",
   "execution_count": 2,
   "id": "f5d27e20",
   "metadata": {},
   "outputs": [],
   "source": [
    "\n",
    "# label index 0 is positive, 1 is negative\n",
    "class_names = ['pos', 'neg']\n",
    "dict = './covid19/kcv/'"
   ]
  },
  {
   "cell_type": "code",
   "execution_count": 3,
   "id": "7695eead",
   "metadata": {},
   "outputs": [],
   "source": [
    "\n",
    "def load_training():\n",
    "    trainingdata = []\n",
    "    for i in class_names:\n",
    "        path = os.path.join(dict, i)\n",
    "        label_num = class_names.index(i)\n",
    "        for j in sorted(os.listdir(path)):\n",
    "            img = sitk.ReadImage(dict + i +'/' + j)\n",
    "            trainingdata.append([sitk.GetArrayFromImage(img).reshape(512,512,1),label_num])\n",
    "            \n",
    "    return trainingdata\n",
    "    \n",
    "            \n",
    "    "
   ]
  },
  {
   "cell_type": "code",
   "execution_count": 4,
   "id": "39b54d83",
   "metadata": {},
   "outputs": [],
   "source": [
    "data= load_training()"
   ]
  },
  {
   "cell_type": "code",
   "execution_count": 6,
   "id": "425f84e4",
   "metadata": {},
   "outputs": [],
   "source": [
    "X =[]\n",
    "Y =[]\n",
    "\n",
    "for trainingx, label in data:\n",
    " \n",
    "    X.append(trainingx)\n",
    "    Y.append(label)\n"
   ]
  },
  {
   "cell_type": "code",
   "execution_count": 7,
   "id": "83b7010c",
   "metadata": {},
   "outputs": [],
   "source": [
    "# load input images and output features:\n",
    "#data = np.load('input_arr.npy')\n",
    "\n",
    "feature_arr1 = np.load('o1ar.npy')  # original_firstorder_Skewness\n",
    "feature_arr2 = np.load('o2ar.npy')  # original_glcm_Autocorrelation\n",
    "feature_arr3 = np.load('o3ar.npy')  # original_glrlm_GrayLevelVariance\n",
    "feature_arr4 = np.load('o4ar.npy')  # original_glrlm_RunLengthNonUniformity\n",
    "feature_arr5 = np.load('o5ar.npy')  # original_glszm_SizeZoneNonUniformity\n",
    "\n",
    "feature_arr6 = np.load('o6ar.npy')\n",
    "feature_arr7 = np.load('o7ar.npy')\n",
    "feature_arr8 = np.load('o8ar.npy')\n",
    "feature_arr9 = np.load('o9ar.npy')\n",
    "\n"
   ]
  },
  {
   "cell_type": "code",
   "execution_count": 10,
   "id": "4fc39e9b",
   "metadata": {},
   "outputs": [],
   "source": [
    "# apply k fold cross validation, k=10\n",
    "kfold = KFold(10,shuffle=True,random_state=1)\n",
    "\n",
    "traingroup = []\n",
    "testgroup=[]\n",
    "\n",
    "feature1_train= []\n",
    "feature2_train= []\n",
    "feature3_train= []\n",
    "feature4_train= []\n",
    "feature5_train= []\n",
    "feature6_train= []\n",
    "feature7_train= []\n",
    "feature8_train= []\n",
    "feature9_train= []\n",
    "\n",
    "feature1_test= []\n",
    "feature2_test= []\n",
    "feature3_test= []\n",
    "feature4_test= []\n",
    "feature5_test= []\n",
    "feature6_test= []\n",
    "feature7_test= []\n",
    "feature8_test= []\n",
    "feature9_test= []\n",
    "\n",
    "output_label_train = []\n",
    "output_label_test = []\n",
    "\n",
    "\n",
    "\n",
    "\n",
    "# split data to 10 train and test set\n",
    "for train, test in kfold.split(X):\n",
    "    #print('train: %s, test: %s' % (train, test))\n",
    "    per_train_group = []\n",
    "    per_test_group=[]\n",
    "    \n",
    "    per_feature1_train = []\n",
    "    per_feature2_train = []\n",
    "    per_feature3_train = []\n",
    "    per_feature4_train = []\n",
    "    per_feature5_train = []\n",
    "    per_feature6_train = []\n",
    "    per_feature7_train = []\n",
    "    per_feature8_train = []\n",
    "    per_feature9_train = []\n",
    "    \n",
    "    per_feature1_test = []\n",
    "    per_feature2_test = []\n",
    "    per_feature3_test = []\n",
    "    per_feature4_test = []\n",
    "    per_feature5_test = []\n",
    "    per_feature6_test = []\n",
    "    per_feature7_test = []\n",
    "    per_feature8_test = []\n",
    "    per_feature9_test = []\n",
    "    \n",
    "    per_label_train =[]\n",
    "    per_label_test = []\n",
    "    \n",
    "    for i in train:\n",
    "        per_train_group.append(X[i])\n",
    "        per_label_train.append(Y[i])\n",
    "        per_feature1_train.append(feature_arr1[i])\n",
    "        per_feature2_train.append(feature_arr2[i])\n",
    "        per_feature3_train.append(feature_arr3[i])\n",
    "        per_feature4_train.append(feature_arr4[i])\n",
    "        per_feature5_train.append(feature_arr5[i])\n",
    "        per_feature6_train.append(feature_arr6[i])\n",
    "        per_feature7_train.append(feature_arr7[i])\n",
    "        per_feature8_train.append(feature_arr8[i])\n",
    "        per_feature9_train.append(feature_arr9[i])\n",
    "    for i in test:\n",
    "        per_test_group.append(X[i])\n",
    "        per_label_test.append(Y[i])\n",
    "        per_feature1_test.append(feature_arr1[i])\n",
    "        per_feature2_test.append(feature_arr2[i])\n",
    "        per_feature3_test.append(feature_arr3[i])\n",
    "        per_feature4_test.append(feature_arr4[i])\n",
    "        per_feature5_test.append(feature_arr5[i])\n",
    "        per_feature6_test.append(feature_arr6[i])\n",
    "        per_feature7_test.append(feature_arr7[i])\n",
    "        per_feature8_test.append(feature_arr8[i])\n",
    "        per_feature9_test.append(feature_arr9[i])\n",
    "        \n",
    "        \n",
    "    traingroup.append(per_train_group)\n",
    "    testgroup.append(per_test_group)\n",
    "    \n",
    "    feature1_train.append(per_feature1_train)\n",
    "    feature2_train.append(per_feature2_train)\n",
    "    feature3_train.append(per_feature3_train)\n",
    "    feature4_train.append(per_feature4_train)\n",
    "    feature5_train.append(per_feature5_train)\n",
    "    feature6_train.append(per_feature6_train)\n",
    "    feature7_train.append(per_feature7_train)\n",
    "    feature8_train.append(per_feature8_train)\n",
    "    feature9_train.append(per_feature9_train)\n",
    "    \n",
    "    feature1_test.append(per_feature1_test)\n",
    "    feature2_test.append(per_feature2_test)\n",
    "    feature3_test.append(per_feature3_test)\n",
    "    feature4_test.append(per_feature4_test)\n",
    "    feature5_test.append(per_feature5_test)\n",
    "    feature6_test.append(per_feature6_test)\n",
    "    feature7_test.append(per_feature7_test)\n",
    "    feature8_test.append(per_feature8_test)\n",
    "    feature9_test.append(per_feature9_test)\n",
    "    \n",
    "    output_label_train.append(per_label_train)\n",
    "    output_label_test.append(per_label_test)\n",
    "\n",
    "        "
   ]
  },
  {
   "cell_type": "code",
   "execution_count": 11,
   "id": "68557892",
   "metadata": {},
   "outputs": [],
   "source": [
    "#convert them into numpy arrays\n",
    "traingroup = np.array(traingroup)\n",
    "testgroup= np.array(testgroup)\n",
    "\n",
    "feature1_train= np.array(feature1_train)\n",
    "feature2_train= np.array(feature2_train)\n",
    "feature3_train= np.array(feature3_train)\n",
    "feature4_train= np.array(feature4_train)\n",
    "feature5_train= np.array(feature5_train)\n",
    "feature6_train= np.array(feature6_train)\n",
    "feature7_train= np.array(feature7_train)\n",
    "feature8_train= np.array(feature8_train)\n",
    "feature9_train= np.array(feature9_train)\n",
    "\n",
    "feature1_test= np.array(feature1_test)\n",
    "feature2_test= np.array(feature2_test)\n",
    "feature3_test= np.array(feature3_test)\n",
    "feature4_test= np.array(feature4_test)\n",
    "feature5_test= np.array(feature5_test)\n",
    "feature6_test= np.array(feature6_test)\n",
    "feature7_test= np.array(feature7_test)\n",
    "feature8_test= np.array(feature8_test)\n",
    "feature9_test= np.array(feature9_test)\n",
    "\n",
    "output_label_train = np.array(output_label_train)\n",
    "output_label_test = np.array(output_label_test)\n"
   ]
  },
  {
   "cell_type": "raw",
   "id": "95b6725f",
   "metadata": {},
   "source": [
    "to save the data array for convinance"
   ]
  },
  {
   "cell_type": "code",
   "execution_count": 15,
   "id": "49df4131",
   "metadata": {},
   "outputs": [],
   "source": [
    "# np.save('t1',traingroup)\n",
    "# np.save('t2',testgroup)\n",
    "\n",
    "# np.save('t3',feature1_train)\n",
    "# np.save('t4',feature2_train)\n",
    "# np.save('t5',feature3_train)\n",
    "# np.save('t6',feature4_train)\n",
    "# np.save('t7',feature5_train)\n",
    "\n",
    "np.save('t15',feature6_train)\n",
    "np.save('t16',feature7_train)\n",
    "np.save('t17',feature8_train)\n",
    "np.save('t18',feature9_train)\n",
    "\n",
    "# np.save('t8',feature1_test)\n",
    "# np.save('t9',feature2_test)\n",
    "# np.save('t10',feature3_test)\n",
    "# np.save('t11',feature4_test)\n",
    "# np.save('t12',feature5_test)\n",
    "\n",
    "np.save('t19',feature6_test)\n",
    "np.save('t20',feature7_test)\n",
    "np.save('t21',feature8_test)\n",
    "np.save('t22',feature9_test)\n",
    "\n",
    "# np.save('t13',output_label_train)\n",
    "# np.save('t14',output_label_test)"
   ]
  },
  {
   "cell_type": "code",
   "execution_count": 3,
   "id": "a1be9c7f",
   "metadata": {},
   "outputs": [],
   "source": [
    "traingroup = np.load('t1.npy')\n",
    "testgroup= np.load('t2.npy')\n",
    "\n",
    "feature1_train= np.load('t3.npy')\n",
    "feature2_train= np.load('t4.npy')\n",
    "feature3_train= np.load('t5.npy')\n",
    "feature4_train= np.load('t6.npy')\n",
    "feature5_train= np.load('t7.npy')\n",
    "feature6_train= np.load('t15.npy')\n",
    "feature7_train= np.load('t16.npy')\n",
    "feature8_train= np.load('t17.npy')\n",
    "feature9_train= np.load('t18.npy')\n",
    "\n",
    "feature1_test= np.load('t8.npy')\n",
    "feature2_test= np.load('t9.npy')\n",
    "feature3_test= np.load('t10.npy')\n",
    "feature4_test= np.load('t11.npy')\n",
    "feature5_test= np.load('t12.npy')\n",
    "feature6_test= np.load('t19.npy')\n",
    "feature7_test= np.load('t20.npy')\n",
    "feature8_test= np.load('t21.npy')\n",
    "feature9_test= np.load('t22.npy')\n",
    "\n",
    "\n",
    "\n",
    "\n",
    "\n",
    "output_label_train = np.load('t13.npy')\n",
    "output_label_test = np.load('t14.npy')"
   ]
  },
  {
   "cell_type": "code",
   "execution_count": 4,
   "id": "1a07bf00",
   "metadata": {},
   "outputs": [],
   "source": [
    "from sklearn.model_selection import train_test_split\n",
    "\n",
    "\n",
    "def split_training_val(input_group):\n",
    "    train = []\n",
    "    val = []\n",
    "    for i in input_group:\n",
    "        i_train, i_val = train_test_split(i, test_size=0.1,random_state=1, shuffle=True)\n",
    "        train.append(i_train)\n",
    "        val.append(i_val)\n",
    "    return np.array(train), np.array(val)\n",
    "\n",
    "traingroup, valgroup = split_training_val(traingroup)\n",
    "feature1_train, feature1_val = split_training_val(feature1_train)\n",
    "feature2_train, feature2_val = split_training_val(feature2_train)\n",
    "feature3_train, feature3_val = split_training_val(feature3_train)\n",
    "feature5_train, feature5_val = split_training_val(feature5_train)\n",
    "feature6_train, feature6_val = split_training_val(feature6_train)\n",
    "feature7_train, feature7_val = split_training_val(feature7_train)\n",
    "output_label_train, output_label_val = split_training_val(output_label_train)\n"
   ]
  },
  {
   "cell_type": "code",
   "execution_count": 60,
   "id": "423022af",
   "metadata": {},
   "outputs": [],
   "source": [
    "# clear GPU session\n",
    "tf.keras.backend.clear_session()"
   ]
  },
  {
   "cell_type": "code",
   "execution_count": 73,
   "id": "110584b1",
   "metadata": {},
   "outputs": [
    {
     "name": "stderr",
     "output_type": "stream",
     "text": [
      "2022-08-06 06:41:33.317428: I tensorflow/core/common_runtime/gpu/gpu_device.cc:1532] Created device /job:localhost/replica:0/task:0/device:GPU:0 with 10794 MB memory:  -> device: 0, name: Tesla K80, pci bus id: 0000:0b:00.0, compute capability: 3.7\n"
     ]
    }
   ],
   "source": [
    "config = tf.compat.v1.ConfigProto()\n",
    "config.gpu_options.allow_growth = True\n",
    "session = tf.compat.v1.Session(config=config)"
   ]
  },
  {
   "cell_type": "code",
   "execution_count": 3,
   "id": "12fd42b3",
   "metadata": {},
   "outputs": [],
   "source": [
    "gpus = tf.config.experimental.list_physical_devices('GPU')\n",
    "tf.config.experimental.set_memory_growth(gpus[0], True)"
   ]
  },
  {
   "cell_type": "markdown",
   "id": "4df06a84",
   "metadata": {},
   "source": [
    "# Regular Neural network with Random initialization"
   ]
  },
  {
   "cell_type": "code",
   "execution_count": 36,
   "id": "06e89950",
   "metadata": {},
   "outputs": [],
   "source": [
    "roundnum = 9\n",
    "# creating a simple Network\n",
    "def MakeModel(modelname):\n",
    "    input_layer = keras.Input(shape=(512,512,1))\n",
    "    #x = Flatten()(input_layer)\n",
    "    #x = BatchNormalization(axis=1)(x)\n",
    "    x = Conv2D(64,(3,3), strides=(1, 1), activation='relu')(input_layer)\n",
    "    pool1 = MaxPooling2D(pool_size=(2, 2))(x)\n",
    "    x1 = Conv2D(64,(3,3), strides=(1, 1), activation='relu')(pool1)\n",
    "    pool2 = MaxPooling2D(pool_size=(2, 2))(x1)\n",
    "\n",
    "\n",
    "    flat = Flatten()(pool2)\n",
    "    d1 = Dense(147, activation='relu',kernel_initializer = tf.keras.initializers.GlorotNormal())(flat)\n",
    "    #d2 = Dense(32, activation='relu',kernel_initializer = tf.keras.initializers.GlorotNormal())(d1)\n",
    "    out = Dense(1, activation = 'sigmoid', name= modelname)(d1)\n",
    "\n",
    "    model = keras.Model(input_layer, out, name= modelname)\n",
    "    \n",
    "    return model"
   ]
  },
  {
   "cell_type": "code",
   "execution_count": 37,
   "id": "2efd64fc",
   "metadata": {},
   "outputs": [],
   "source": [
    "RNNModel = MakeModel('RNNModel')"
   ]
  },
  {
   "cell_type": "code",
   "execution_count": 38,
   "id": "0e9c7c4a",
   "metadata": {},
   "outputs": [
    {
     "name": "stdout",
     "output_type": "stream",
     "text": [
      "Model: \"RNNModel\"\n",
      "_________________________________________________________________\n",
      " Layer (type)                Output Shape              Param #   \n",
      "=================================================================\n",
      " input_5 (InputLayer)        [(None, 512, 512, 1)]     0         \n",
      "                                                                 \n",
      " conv2d_8 (Conv2D)           (None, 510, 510, 64)      640       \n",
      "                                                                 \n",
      " max_pooling2d_8 (MaxPooling  (None, 255, 255, 64)     0         \n",
      " 2D)                                                             \n",
      "                                                                 \n",
      " conv2d_9 (Conv2D)           (None, 253, 253, 64)      36928     \n",
      "                                                                 \n",
      " max_pooling2d_9 (MaxPooling  (None, 126, 126, 64)     0         \n",
      " 2D)                                                             \n",
      "                                                                 \n",
      " flatten_4 (Flatten)         (None, 1016064)           0         \n",
      "                                                                 \n",
      " dense_2 (Dense)             (None, 147)               149361555 \n",
      "                                                                 \n",
      " RNNModel (Dense)            (None, 1)                 148       \n",
      "                                                                 \n",
      "=================================================================\n",
      "Total params: 149,399,271\n",
      "Trainable params: 149,399,271\n",
      "Non-trainable params: 0\n",
      "_________________________________________________________________\n"
     ]
    }
   ],
   "source": [
    "RNNModel.summary()"
   ]
  },
  {
   "cell_type": "code",
   "execution_count": 39,
   "id": "4b997170",
   "metadata": {},
   "outputs": [],
   "source": [
    "RNNModel.compile(optimizer=tf.keras.optimizers.Adam(\n",
    " #learning_rate= 0.001\n",
    "),\n",
    "              loss=tf.keras.losses.BinaryCrossentropy()\n",
    "                 ,\n",
    "              metrics=['accuracy',tf.keras.metrics.AUC(    \n",
    " )]\n",
    "                   )"
   ]
  },
  {
   "cell_type": "code",
   "execution_count": 40,
   "id": "a97a7d04",
   "metadata": {},
   "outputs": [],
   "source": [
    "filename='RNNs.csv'\n",
    "history_logger=tf.keras.callbacks.CSVLogger(filename, separator=\",\", append=True)\n",
    "mm_save = ModelCheckpoint('rnn.hdf5', save_best_only=True, monitor='val_loss', mode='min')"
   ]
  },
  {
   "cell_type": "code",
   "execution_count": 41,
   "id": "943f0873",
   "metadata": {},
   "outputs": [
    {
     "name": "stdout",
     "output_type": "stream",
     "text": [
      "Epoch 1/20\n",
      "102/102 [==============================] - 22s 209ms/step - loss: 56.2693 - accuracy: 0.9628 - auc_4: 0.9170 - val_loss: 0.0338 - val_accuracy: 0.9931 - val_auc_4: 0.9907\n",
      "Epoch 2/20\n",
      "102/102 [==============================] - 21s 205ms/step - loss: 0.0124 - accuracy: 0.9969 - auc_4: 0.9982 - val_loss: 0.0449 - val_accuracy: 0.9889 - val_auc_4: 0.9870\n",
      "Epoch 3/20\n",
      "102/102 [==============================] - 21s 206ms/step - loss: 0.0020 - accuracy: 0.9994 - auc_4: 1.0000 - val_loss: 0.0161 - val_accuracy: 0.9972 - val_auc_4: 0.9936\n",
      "Epoch 4/20\n",
      "102/102 [==============================] - 21s 206ms/step - loss: 1.3075e-04 - accuracy: 1.0000 - auc_4: 1.0000 - val_loss: 0.0360 - val_accuracy: 0.9931 - val_auc_4: 0.9877\n",
      "Epoch 5/20\n",
      "102/102 [==============================] - 21s 206ms/step - loss: 1.9274e-05 - accuracy: 1.0000 - auc_4: 1.0000 - val_loss: 0.0371 - val_accuracy: 0.9931 - val_auc_4: 0.9877\n"
     ]
    }
   ],
   "source": [
    "history_rnn = RNNModel.fit(traingroup[roundnum], output_label_train[roundnum], \n",
    "                validation_data=([valgroup[roundnum],output_label_val[roundnum]]), \n",
    "                batch_size=64,\n",
    "                epochs=20,\n",
    "                          callbacks=[history_logger,tf.keras.callbacks.EarlyStopping(patience=2),mm_save],\n",
    "                          shuffle = True)\n"
   ]
  },
  {
   "cell_type": "code",
   "execution_count": 43,
   "id": "b1486571",
   "metadata": {},
   "outputs": [
    {
     "name": "stdout",
     "output_type": "stream",
     "text": [
      "25/25 [==============================] - 1s 37ms/step - loss: 0.0333 - accuracy: 0.9887 - auc_4: 0.9955\n"
     ]
    },
    {
     "data": {
      "text/plain": [
       "[0.03327498957514763, 0.9887499809265137, 0.9954721331596375]"
      ]
     },
     "execution_count": 43,
     "metadata": {},
     "output_type": "execute_result"
    }
   ],
   "source": [
    "RNNModel.evaluate(testgroup[roundnum], output_label_test[roundnum])"
   ]
  },
  {
   "cell_type": "code",
   "execution_count": 14,
   "id": "56bea345",
   "metadata": {},
   "outputs": [
    {
     "name": "stdout",
     "output_type": "stream",
     "text": [
      "1/1 [==============================] - 0s 134ms/step\n"
     ]
    },
    {
     "data": {
      "text/plain": [
       "array([[0.11376595]], dtype=float32)"
      ]
     },
     "execution_count": 14,
     "metadata": {},
     "output_type": "execute_result"
    }
   ],
   "source": [
    "# the folder name by label\n",
    "class_names = ['pos','neg']\n",
    "\n",
    "# the image dictionary we are loading\n",
    "dict = './covid19/kcv/'\n",
    "\n",
    "def load_image( imageName ):\n",
    "    trainingdata = []\n",
    "    for i in class_names:\n",
    "        path = os.path.join(dict, i)\n",
    "        label_num = class_names.index(i)\n",
    "        try:\n",
    "            img = sitk.ReadImage(dict + i +'/' + imageName)\n",
    "            trainingdata.append([sitk.GetArrayFromImage(img).reshape(512,512,1),label_num])\n",
    "        except:\n",
    "            pass\n",
    "            \n",
    "    return trainingdata\n",
    "\n",
    "singleImage = load_image('Non-COVID-19_118.png')\n",
    "\n",
    "image = singleImage[0][0]\n",
    "label = singleImage[0][1]\n",
    "image = np.array(image)\n",
    "inputimage = image.reshape(1,512,512,1)\n",
    "\n",
    "RNNModel.predict(inputimage)"
   ]
  },
  {
   "cell_type": "code",
   "execution_count": 30,
   "id": "3573a80e",
   "metadata": {},
   "outputs": [],
   "source": [
    "RNNModel.save('rnnSample.h5')"
   ]
  },
  {
   "cell_type": "markdown",
   "id": "5a0f6bae",
   "metadata": {},
   "source": [
    "# Simple models with raw features"
   ]
  },
  {
   "cell_type": "code",
   "execution_count": 151,
   "id": "33637b93",
   "metadata": {},
   "outputs": [],
   "source": [
    "testgroup_num = 9\n",
    "features_train = np.stack((feature1_train[testgroup_num],feature2_train[testgroup_num],feature3_train[testgroup_num], feature5_train[testgroup_num], feature6_train[testgroup_num], feature7_train[testgroup_num]),axis=1)\n",
    "features_test = np.stack((feature1_test[testgroup_num],feature2_test[testgroup_num],feature3_test[testgroup_num], feature5_test[testgroup_num], feature6_test[testgroup_num], feature7_test[testgroup_num]),axis=1)\n",
    "features_val = np.stack((feature1_val[testgroup_num],feature2_val[testgroup_num],feature3_val[testgroup_num], feature5_val[testgroup_num], feature6_val[testgroup_num], feature7_val[testgroup_num]),axis=1)"
   ]
  },
  {
   "cell_type": "code",
   "execution_count": 152,
   "id": "49b1ddd6",
   "metadata": {},
   "outputs": [],
   "source": [
    "\n",
    "\n",
    "def MakeModel(modelname):\n",
    "    input_layer = keras.Input(shape=(6))\n",
    "\n",
    "    \n",
    "    #x = Flatten()(n_d)\n",
    "    #x = BatchNormalization(axis=1)(x)\n",
    "    x = Dense(5096, activation='relu',kernel_initializer = tf.keras.initializers.GlorotNormal())(input_layer)\n",
    "    x = Dense(5096, activation='relu',kernel_initializer = tf.keras.initializers.GlorotNormal())(x)\n",
    "    x = Dense(5096, activation='relu',kernel_initializer = tf.keras.initializers.GlorotNormal())(x)\n",
    "    x = Dense(5096, activation='relu',kernel_initializer = tf.keras.initializers.GlorotNormal())(x)\n",
    "    x = Dense(5096, activation='relu',kernel_initializer = tf.keras.initializers.GlorotNormal())(x)\n",
    "    x = Dense(2048, activation='relu',kernel_initializer = tf.keras.initializers.GlorotNormal())(x)\n",
    "    x = Dense(2048, activation='relu',kernel_initializer = tf.keras.initializers.GlorotNormal())(x)\n",
    "    x = Dense(2048, activation='relu',kernel_initializer = tf.keras.initializers.GlorotNormal())(x)\n",
    "    x = Dense(2048, activation='relu',kernel_initializer = tf.keras.initializers.GlorotNormal())(x)\n",
    "    x = Dense(2048, activation='relu',kernel_initializer = tf.keras.initializers.GlorotNormal())(x)\n",
    "    x = Dense(2048, activation='relu',kernel_initializer = tf.keras.initializers.GlorotNormal())(x)\n",
    "    x = Dense(2048, activation='relu',kernel_initializer = tf.keras.initializers.GlorotNormal())(x)\n",
    "    x = Dense(2048, activation='relu',kernel_initializer = tf.keras.initializers.GlorotNormal())(x)\n",
    "    x = Dense(2048, activation='relu',kernel_initializer = tf.keras.initializers.GlorotNormal())(x)\n",
    "    x = Dense(1024, activation='relu',kernel_initializer = tf.keras.initializers.GlorotNormal())(x)\n",
    "\n",
    "\n",
    "    out = Dense(1, activation = 'sigmoid', name= modelname)(x)\n",
    "\n",
    "    model = keras.Model(input_layer, out, name= modelname)\n",
    "    \n",
    "    return model"
   ]
  },
  {
   "cell_type": "code",
   "execution_count": 153,
   "id": "76823657",
   "metadata": {},
   "outputs": [],
   "source": [
    "rawFeatureModel = MakeModel('rawFeatures')"
   ]
  },
  {
   "cell_type": "code",
   "execution_count": 154,
   "id": "75d22bc8",
   "metadata": {},
   "outputs": [
    {
     "name": "stdout",
     "output_type": "stream",
     "text": [
      "Model: \"rawFeatures\"\n",
      "_________________________________________________________________\n",
      " Layer (type)                Output Shape              Param #   \n",
      "=================================================================\n",
      " input_19 (InputLayer)       [(None, 6)]               0         \n",
      "                                                                 \n",
      " dense_227 (Dense)           (None, 5096)              35672     \n",
      "                                                                 \n",
      " dense_228 (Dense)           (None, 5096)              25974312  \n",
      "                                                                 \n",
      " dense_229 (Dense)           (None, 5096)              25974312  \n",
      "                                                                 \n",
      " dense_230 (Dense)           (None, 5096)              25974312  \n",
      "                                                                 \n",
      " dense_231 (Dense)           (None, 5096)              25974312  \n",
      "                                                                 \n",
      " dense_232 (Dense)           (None, 2048)              10438656  \n",
      "                                                                 \n",
      " dense_233 (Dense)           (None, 2048)              4196352   \n",
      "                                                                 \n",
      " dense_234 (Dense)           (None, 2048)              4196352   \n",
      "                                                                 \n",
      " dense_235 (Dense)           (None, 2048)              4196352   \n",
      "                                                                 \n",
      " dense_236 (Dense)           (None, 2048)              4196352   \n",
      "                                                                 \n",
      " dense_237 (Dense)           (None, 2048)              4196352   \n",
      "                                                                 \n",
      " dense_238 (Dense)           (None, 2048)              4196352   \n",
      "                                                                 \n",
      " dense_239 (Dense)           (None, 2048)              4196352   \n",
      "                                                                 \n",
      " dense_240 (Dense)           (None, 2048)              4196352   \n",
      "                                                                 \n",
      " dense_241 (Dense)           (None, 1024)              2098176   \n",
      "                                                                 \n",
      " rawFeatures (Dense)         (None, 1)                 1025      \n",
      "                                                                 \n",
      "=================================================================\n",
      "Total params: 150,041,593\n",
      "Trainable params: 150,041,593\n",
      "Non-trainable params: 0\n",
      "_________________________________________________________________\n"
     ]
    }
   ],
   "source": [
    "rawFeatureModel.summary()"
   ]
  },
  {
   "cell_type": "code",
   "execution_count": 155,
   "id": "ce05aa44",
   "metadata": {},
   "outputs": [],
   "source": [
    "filename='expraw.csv'\n",
    "history_logger=tf.keras.callbacks.CSVLogger(filename, separator=\",\", append=True)\n",
    "mm_save = ModelCheckpoint('raw.hdf5', save_best_only=True, monitor='val_loss', mode='min')"
   ]
  },
  {
   "cell_type": "code",
   "execution_count": 156,
   "id": "8f052404",
   "metadata": {},
   "outputs": [],
   "source": [
    "rawFeatureModel.compile(optimizer=tf.keras.optimizers.Adam(\n",
    " #learning_rate= 0.0001\n",
    "),\n",
    "              loss=tf.keras.losses.BinaryCrossentropy(),\n",
    "             metrics=['accuracy',tf.keras.metrics.AUC(  \n",
    ")]\n",
    "                )"
   ]
  },
  {
   "cell_type": "code",
   "execution_count": 157,
   "id": "b886f918",
   "metadata": {},
   "outputs": [
    {
     "name": "stdout",
     "output_type": "stream",
     "text": [
      "Epoch 1/20\n",
      "102/102 [==============================] - 2s 16ms/step - loss: 56.3262 - accuracy: 0.8366 - auc_18: 0.5734 - val_loss: 0.3833 - val_accuracy: 0.8861 - val_auc_18: 0.5739\n",
      "Epoch 2/20\n",
      "102/102 [==============================] - 1s 13ms/step - loss: 0.3582 - accuracy: 0.8904 - auc_18: 0.6139 - val_loss: 0.3536 - val_accuracy: 0.8861 - val_auc_18: 0.5807\n",
      "Epoch 3/20\n",
      "102/102 [==============================] - 1s 13ms/step - loss: 0.3371 - accuracy: 0.8904 - auc_18: 0.6273 - val_loss: 0.3229 - val_accuracy: 0.8861 - val_auc_18: 0.6131\n",
      "Epoch 4/20\n",
      "102/102 [==============================] - 1s 13ms/step - loss: 0.2958 - accuracy: 0.9096 - auc_18: 0.6680 - val_loss: 0.2795 - val_accuracy: 0.9194 - val_auc_18: 0.7183\n",
      "Epoch 5/20\n",
      "102/102 [==============================] - 1s 13ms/step - loss: 0.8421 - accuracy: 0.8750 - auc_18: 0.6179 - val_loss: 0.3754 - val_accuracy: 0.8861 - val_auc_18: 0.5832\n",
      "Epoch 6/20\n",
      "102/102 [==============================] - 1s 13ms/step - loss: 0.3113 - accuracy: 0.9048 - auc_18: 0.6228 - val_loss: 0.2901 - val_accuracy: 0.9236 - val_auc_18: 0.6048\n"
     ]
    }
   ],
   "source": [
    "history_rawFeature= rawFeatureModel.fit(features_train, output_label_train[testgroup_num], \n",
    "                validation_data=([features_val,output_label_val[testgroup_num]]), \n",
    "                batch_size=64,\n",
    "                epochs=20,\n",
    "                                       callbacks=[history_logger,tf.keras.callbacks.EarlyStopping(patience=2),mm_save\n",
    "])"
   ]
  },
  {
   "cell_type": "code",
   "execution_count": 158,
   "id": "3bf1bd84",
   "metadata": {},
   "outputs": [
    {
     "name": "stdout",
     "output_type": "stream",
     "text": [
      "25/25 [==============================] - 0s 3ms/step - loss: 0.3145 - accuracy: 0.9062 - auc_18: 0.6884\n"
     ]
    },
    {
     "data": {
      "text/plain": [
       "[0.3145337998867035, 0.90625, 0.6884169578552246]"
      ]
     },
     "execution_count": 158,
     "metadata": {},
     "output_type": "execute_result"
    }
   ],
   "source": [
    "rawFeatureModel.evaluate(features_test,output_label_test[testgroup_num] )"
   ]
  },
  {
   "cell_type": "code",
   "execution_count": 36,
   "id": "89d0b6c9",
   "metadata": {},
   "outputs": [],
   "source": [
    "rawFeatureModel.save('RawFeature.h5')"
   ]
  },
  {
   "cell_type": "markdown",
   "id": "738b8c32",
   "metadata": {},
   "source": [
    "# FINs"
   ]
  },
  {
   "cell_type": "raw",
   "id": "4f9da32e",
   "metadata": {},
   "source": [
    "Fine-Tune witth images, load the real extracted features from fine-tune dataset, and fine-tune the model"
   ]
  },
  {
   "cell_type": "code",
   "execution_count": 2,
   "id": "3aa3bac9",
   "metadata": {},
   "outputs": [],
   "source": [
    "#             o1.append(features['original_firstorder_Skewness'])\n",
    "#             o2.append(features['original_glcm_Autocorrelation'])\n",
    "#             o3.append(features['original_glrlm_GrayLevelVariance'])\n",
    "#             o4.append(features['original_glrlm_RunLengthNonUniformity'])\n",
    "#             o5.append(features['original_glszm_SizeZoneNonUniformity'])"
   ]
  },
  {
   "cell_type": "code",
   "execution_count": 77,
   "id": "69f37543",
   "metadata": {},
   "outputs": [],
   "source": [
    "inp = np.load('t1.npy')\n",
    "oup = np.load('t15.npy')"
   ]
  },
  {
   "cell_type": "code",
   "execution_count": 177,
   "id": "cd9799f3",
   "metadata": {},
   "outputs": [],
   "source": [
    "input_array = inp[9]\n",
    "output_array = oup[9]"
   ]
  },
  {
   "cell_type": "code",
   "execution_count": 178,
   "id": "a7035eed",
   "metadata": {},
   "outputs": [],
   "source": [
    "base_model =  load_model(\"radiomics_glcm_ClusterShade.h5\")"
   ]
  },
  {
   "cell_type": "code",
   "execution_count": 179,
   "id": "ea0c3522",
   "metadata": {},
   "outputs": [
    {
     "name": "stdout",
     "output_type": "stream",
     "text": [
      "Model: \"ClusterShade\"\n",
      "_________________________________________________________________\n",
      " Layer (type)                Output Shape              Param #   \n",
      "=================================================================\n",
      " input_5 (InputLayer)        [(None, 512, 512, 1)]     0         \n",
      "                                                                 \n",
      " flatten_4 (Flatten)         (None, 262144)            0         \n",
      "                                                                 \n",
      " batch_normalization_4 (Batc  (None, 262144)           1048576   \n",
      " hNormalization)                                                 \n",
      "                                                                 \n",
      " dense_26 (Dense)            (None, 64)                16777280  \n",
      "                                                                 \n",
      " dense_27 (Dense)            (None, 64)                4160      \n",
      "                                                                 \n",
      " dense_28 (Dense)            (None, 64)                4160      \n",
      "                                                                 \n",
      " dense_29 (Dense)            (None, 64)                4160      \n",
      "                                                                 \n",
      " dense_30 (Dense)            (None, 64)                4160      \n",
      "                                                                 \n",
      " dense_31 (Dense)            (None, 64)                4160      \n",
      "                                                                 \n",
      " dense_32 (Dense)            (None, 64)                4160      \n",
      "                                                                 \n",
      " dense_33 (Dense)            (None, 64)                4160      \n",
      "                                                                 \n",
      " ClusterShade (Dense)        (None, 1)                 65        \n",
      "                                                                 \n",
      "=================================================================\n",
      "Total params: 17,855,041\n",
      "Trainable params: 17,330,753\n",
      "Non-trainable params: 524,288\n",
      "_________________________________________________________________\n"
     ]
    }
   ],
   "source": [
    "base_model.summary()"
   ]
  },
  {
   "cell_type": "code",
   "execution_count": 180,
   "id": "12d0ca18",
   "metadata": {},
   "outputs": [],
   "source": [
    "# how many layers for saving\n",
    "newlayers = base_model.layers[9].output\n",
    "n1 = Dense(64, activation='relu',name = '1')(newlayers)\n",
    "out = Dense(1, activation='linear',name='2')(n1)\n",
    "new_model = keras.Model(base_model.input, outputs = out)"
   ]
  },
  {
   "cell_type": "code",
   "execution_count": 181,
   "id": "681dea38",
   "metadata": {},
   "outputs": [
    {
     "name": "stdout",
     "output_type": "stream",
     "text": [
      "Model: \"model_17\"\n",
      "_________________________________________________________________\n",
      " Layer (type)                Output Shape              Param #   \n",
      "=================================================================\n",
      " input_5 (InputLayer)        [(None, 512, 512, 1)]     0         \n",
      "                                                                 \n",
      " flatten_4 (Flatten)         (None, 262144)            0         \n",
      "                                                                 \n",
      " batch_normalization_4 (Batc  (None, 262144)           1048576   \n",
      " hNormalization)                                                 \n",
      "                                                                 \n",
      " dense_26 (Dense)            (None, 64)                16777280  \n",
      "                                                                 \n",
      " dense_27 (Dense)            (None, 64)                4160      \n",
      "                                                                 \n",
      " dense_28 (Dense)            (None, 64)                4160      \n",
      "                                                                 \n",
      " dense_29 (Dense)            (None, 64)                4160      \n",
      "                                                                 \n",
      " dense_30 (Dense)            (None, 64)                4160      \n",
      "                                                                 \n",
      " dense_31 (Dense)            (None, 64)                4160      \n",
      "                                                                 \n",
      " dense_32 (Dense)            (None, 64)                4160      \n",
      "                                                                 \n",
      " 1 (Dense)                   (None, 64)                4160      \n",
      "                                                                 \n",
      " 2 (Dense)                   (None, 1)                 65        \n",
      "                                                                 \n",
      "=================================================================\n",
      "Total params: 17,855,041\n",
      "Trainable params: 17,330,753\n",
      "Non-trainable params: 524,288\n",
      "_________________________________________________________________\n"
     ]
    }
   ],
   "source": [
    "new_model.summary()"
   ]
  },
  {
   "cell_type": "code",
   "execution_count": 182,
   "id": "457f7b94",
   "metadata": {},
   "outputs": [],
   "source": [
    "for i in range(len(base_model.layers)): \n",
    "    keras.layers.trainable = True   # True--> fine tine, False-->frozen"
   ]
  },
  {
   "cell_type": "code",
   "execution_count": 183,
   "id": "702d1951",
   "metadata": {},
   "outputs": [],
   "source": [
    "tensorboard_callback = tf.keras.callbacks.TensorBoard(\n",
    "    log_dir='logs/ClusterShade10', histogram_freq=1, profile_batch = 0\n",
    ")\n",
    "\n",
    "#https://github.com/tensorflow/tensorflow/issues/39755"
   ]
  },
  {
   "cell_type": "code",
   "execution_count": 184,
   "id": "7c08be74",
   "metadata": {},
   "outputs": [],
   "source": [
    "new_model.compile(optimizer=tf.keras.optimizers.Adam(\n",
    " learning_rate= 0.001\n",
    "), loss=\"mse\")"
   ]
  },
  {
   "cell_type": "code",
   "execution_count": 185,
   "id": "6a56cb39",
   "metadata": {},
   "outputs": [
    {
     "name": "stdout",
     "output_type": "stream",
     "text": [
      "Epoch 1/20\n",
      "113/113 [==============================] - 1s 8ms/step - loss: 565363.2500\n",
      "Epoch 2/20\n",
      "113/113 [==============================] - 1s 7ms/step - loss: 6723.8462\n",
      "Epoch 3/20\n",
      "113/113 [==============================] - 1s 7ms/step - loss: 6719.5942\n",
      "Epoch 4/20\n",
      "113/113 [==============================] - 1s 7ms/step - loss: 5954.1206\n",
      "Epoch 5/20\n",
      "113/113 [==============================] - 1s 7ms/step - loss: 4340.8633\n",
      "Epoch 6/20\n",
      "113/113 [==============================] - 1s 7ms/step - loss: 3840.9402\n",
      "Epoch 7/20\n",
      "113/113 [==============================] - 1s 7ms/step - loss: 3808.8867\n",
      "Epoch 8/20\n",
      "113/113 [==============================] - 1s 7ms/step - loss: 4475.1118\n",
      "Epoch 9/20\n",
      "113/113 [==============================] - 1s 7ms/step - loss: 3362.8826\n",
      "Epoch 10/20\n",
      "113/113 [==============================] - 1s 7ms/step - loss: 4179.9741\n",
      "Epoch 11/20\n",
      "113/113 [==============================] - 1s 7ms/step - loss: 2477.0598\n",
      "Epoch 12/20\n",
      "113/113 [==============================] - 1s 8ms/step - loss: 2470.4719\n",
      "Epoch 13/20\n",
      "113/113 [==============================] - 1s 7ms/step - loss: 2404.8528\n",
      "Epoch 14/20\n",
      "113/113 [==============================] - 1s 7ms/step - loss: 2521.7595\n",
      "Epoch 15/20\n",
      "113/113 [==============================] - 1s 7ms/step - loss: 2546.4741\n",
      "Epoch 16/20\n",
      "113/113 [==============================] - 1s 7ms/step - loss: 2022.8678\n",
      "Epoch 17/20\n",
      "113/113 [==============================] - 1s 7ms/step - loss: 1825.1796\n",
      "Epoch 18/20\n",
      "113/113 [==============================] - 1s 7ms/step - loss: 1978.5476\n",
      "Epoch 19/20\n",
      "113/113 [==============================] - 1s 7ms/step - loss: 1937.4862\n",
      "Epoch 20/20\n",
      "113/113 [==============================] - 1s 7ms/step - loss: 1637.3079\n"
     ]
    },
    {
     "data": {
      "text/plain": [
       "<keras.callbacks.History at 0x2b897f381160>"
      ]
     },
     "execution_count": 185,
     "metadata": {},
     "output_type": "execute_result"
    }
   ],
   "source": [
    "new_model.fit(input_array, output_array, \n",
    "              epochs=20, \n",
    "          batch_size=64,\n",
    "                shuffle=True\n",
    "             # ,callbacks = tensorboard_callback\n",
    "            )"
   ]
  },
  {
   "cell_type": "code",
   "execution_count": 186,
   "id": "1c00a439",
   "metadata": {},
   "outputs": [],
   "source": [
    "new_model.save(\"./ClusterShade10.h5\")"
   ]
  },
  {
   "cell_type": "raw",
   "id": "01859365",
   "metadata": {},
   "source": [
    "Training Fins Performance"
   ]
  },
  {
   "cell_type": "code",
   "execution_count": 5,
   "id": "2ddab00b",
   "metadata": {},
   "outputs": [],
   "source": [
    "expN = 9"
   ]
  },
  {
   "cell_type": "code",
   "execution_count": 6,
   "id": "39d0c56c",
   "metadata": {},
   "outputs": [
    {
     "name": "stderr",
     "output_type": "stream",
     "text": [
      "2022-10-21 13:27:35.219370: I tensorflow/core/platform/cpu_feature_guard.cc:193] This TensorFlow binary is optimized with oneAPI Deep Neural Network Library (oneDNN) to use the following CPU instructions in performance-critical operations:  AVX2 AVX512F AVX512_VNNI FMA\n",
      "To enable them in other operations, rebuild TensorFlow with the appropriate compiler flags.\n",
      "2022-10-21 13:27:38.234472: I tensorflow/core/common_runtime/gpu/gpu_device.cc:1532] Created device /job:localhost/replica:0/task:0/device:GPU:0 with 30987 MB memory:  -> device: 0, name: Tesla V100S-PCIE-32GB, pci bus id: 0000:3d:00.0, compute capability: 7.0\n"
     ]
    }
   ],
   "source": [
    "#Make the model using the Fins\n",
    "\n",
    "# loading FINs\n",
    "m1 = load_model('Skewness'+ str(expN+1) +'.h5')\n",
    "m2 = load_model('Autocorrelation'+ str(expN+1) +'.h5')\n",
    "m3 = load_model('GrayLevelVariance'+ str(expN+1) +'.h5')\n",
    "#m4 = load_model('RunLengthNonUniformity5.h5')\n",
    "m5 = load_model('SizeZoneNonUniformity'+ str(expN+1) +'.h5')\n",
    "m6 = load_model('ClusterShade'+ str(expN+1) +'.h5')\n",
    "m7 = load_model('DifferenceEntropy'+ str(expN+1) +'.h5')\n",
    "# m8 = load_model('Energy1.h5')\n",
    "\n",
    "m1._name = 'feature1'\n",
    "m2._name = 'feature2'\n",
    "m3._name = 'feature3'\n",
    "#m4._name = 'feature4'\n",
    "m5._name = 'feature5'\n",
    "m6._name = 'feature6'\n",
    "m7._name = 'feature7'\n",
    "# m8._name = 'feature8'\n",
    "\n",
    "def MakeModel(modelname):\n",
    "    input_layer = keras.Input(shape=(512,512,1))\n",
    "    \n",
    "    l1 = m1(input_layer)\n",
    "    l2 = m2(input_layer)\n",
    "    l3 = m3(input_layer)\n",
    " #   l4 = m4(input_layer)\n",
    "    l5 = m5(input_layer)\n",
    "    l6 = m6(input_layer)\n",
    "    l7 = m7(input_layer)\n",
    "#     l8 = m8(input_layer)\n",
    "    \n",
    "    x = Conv2D(64,(3,3), strides=(1, 1), activation='relu')(input_layer)\n",
    "    pool1 = MaxPooling2D(pool_size=(2, 2))(x)\n",
    "    x1 = Conv2D(64,(3,3), strides=(1, 1), activation='relu')(pool1)\n",
    "    pool2 = MaxPooling2D(pool_size=(2, 2))(x1)\n",
    "    \n",
    "    flat = Flatten()(pool2)\n",
    "    \n",
    "#     c1 = Dense(64, activation='relu',kernel_initializer = tf.keras.initializers.GlorotNormal()\n",
    "#              ,name='dense_C_1')(flat)\n",
    "    \n",
    " #   c2 = Dense(32, activation='relu',kernel_initializer = tf.keras.initializers.GlorotNormal()\n",
    "#       ,name='dense_C_2')(c1)\n",
    "    \n",
    "    n_d = concatenate([l1\n",
    "                       ,l2\n",
    "                       ,l3\n",
    "                     #   ,l4\n",
    "                       ,l5, l6,l7\n",
    "                      #  ,l8 \n",
    "                        , flat\n",
    "                      # ,c1\n",
    "                      ])\n",
    "\n",
    "\n",
    "    d1 = Dense(32, activation='relu',kernel_initializer = tf.keras.initializers.GlorotNormal()\n",
    "         ,name='dense_N_1')(n_d)\n",
    "    \n",
    "    d2 = Dense(32, activation='relu',kernel_initializer = tf.keras.initializers.GlorotNormal()\n",
    "     ,name='dense_N_2')(d1)\n",
    "    d2 = Dense(32, activation='relu',kernel_initializer = tf.keras.initializers.GlorotNormal()\n",
    "     ,name='dense_N_3')(d2)\n",
    "    \n",
    "\n",
    "    out = Dense(1, activation = 'sigmoid', name= modelname)(d2)\n",
    "\n",
    "    model = keras.Model(input_layer, out, name= modelname)\n",
    "    \n",
    "    return model"
   ]
  },
  {
   "cell_type": "code",
   "execution_count": 7,
   "id": "5a889a56",
   "metadata": {},
   "outputs": [],
   "source": [
    "FinModel = MakeModel('Fin')"
   ]
  },
  {
   "cell_type": "code",
   "execution_count": 8,
   "id": "cf94aa9b",
   "metadata": {},
   "outputs": [
    {
     "name": "stdout",
     "output_type": "stream",
     "text": [
      "Model: \"Fin\"\n",
      "__________________________________________________________________________________________________\n",
      " Layer (type)                   Output Shape         Param #     Connected to                     \n",
      "==================================================================================================\n",
      " input_1 (InputLayer)           [(None, 512, 512, 1  0           []                               \n",
      "                                )]                                                                \n",
      "                                                                                                  \n",
      " conv2d (Conv2D)                (None, 510, 510, 64  640         ['input_1[0][0]']                \n",
      "                                )                                                                 \n",
      "                                                                                                  \n",
      " max_pooling2d (MaxPooling2D)   (None, 255, 255, 64  0           ['conv2d[0][0]']                 \n",
      "                                )                                                                 \n",
      "                                                                                                  \n",
      " conv2d_1 (Conv2D)              (None, 253, 253, 64  36928       ['max_pooling2d[0][0]']          \n",
      "                                )                                                                 \n",
      "                                                                                                  \n",
      " max_pooling2d_1 (MaxPooling2D)  (None, 126, 126, 64  0          ['conv2d_1[0][0]']               \n",
      "                                )                                                                 \n",
      "                                                                                                  \n",
      " feature1 (Functional)          (None, 1)            17842561    ['input_1[0][0]']                \n",
      "                                                                                                  \n",
      " feature2 (Functional)          (None, 1)            34669313    ['input_1[0][0]']                \n",
      "                                                                                                  \n",
      " feature3 (Functional)          (None, 1)            9443585     ['input_1[0][0]']                \n",
      "                                                                                                  \n",
      " feature5 (Functional)          (None, 1)            16785665    ['input_1[0][0]']                \n",
      "                                                                                                  \n",
      " feature6 (Functional)          (None, 1)            17855041    ['input_1[0][0]']                \n",
      "                                                                                                  \n",
      " feature7 (Functional)          (None, 1)            17850881    ['input_1[0][0]']                \n",
      "                                                                                                  \n",
      " flatten (Flatten)              (None, 1016064)      0           ['max_pooling2d_1[0][0]']        \n",
      "                                                                                                  \n",
      " concatenate (Concatenate)      (None, 1016070)      0           ['feature1[0][0]',               \n",
      "                                                                  'feature2[0][0]',               \n",
      "                                                                  'feature3[0][0]',               \n",
      "                                                                  'feature5[0][0]',               \n",
      "                                                                  'feature6[0][0]',               \n",
      "                                                                  'feature7[0][0]',               \n",
      "                                                                  'flatten[0][0]']                \n",
      "                                                                                                  \n",
      " dense_N_1 (Dense)              (None, 32)           32514272    ['concatenate[0][0]']            \n",
      "                                                                                                  \n",
      " dense_N_2 (Dense)              (None, 32)           1056        ['dense_N_1[0][0]']              \n",
      "                                                                                                  \n",
      " dense_N_3 (Dense)              (None, 32)           1056        ['dense_N_2[0][0]']              \n",
      "                                                                                                  \n",
      " Fin (Dense)                    (None, 1)            33          ['dense_N_3[0][0]']              \n",
      "                                                                                                  \n",
      "==================================================================================================\n",
      "Total params: 147,001,031\n",
      "Trainable params: 144,379,591\n",
      "Non-trainable params: 2,621,440\n",
      "__________________________________________________________________________________________________\n"
     ]
    }
   ],
   "source": [
    "FinModel.summary()"
   ]
  },
  {
   "cell_type": "code",
   "execution_count": 9,
   "id": "26b6c66b",
   "metadata": {},
   "outputs": [],
   "source": [
    "filename='expFIN'+ str(expN+1) +'.csv'\n",
    "history_logger=tf.keras.callbacks.CSVLogger(filename, separator=\",\", append=True)\n",
    "mm_save = ModelCheckpoint('fin.hdf5', save_best_only=True, monitor='val_loss', mode='min')"
   ]
  },
  {
   "cell_type": "code",
   "execution_count": 10,
   "id": "671f89ca",
   "metadata": {},
   "outputs": [],
   "source": [
    "FinModel.compile(optimizer=tf.keras.optimizers.Adam(\n",
    "     #learning_rate= 0.01\n",
    "),\n",
    "              loss=tf.keras.losses.BinaryCrossentropy(),\n",
    "             metrics=['accuracy',tf.keras.metrics.AUC()]\n",
    "                   )"
   ]
  },
  {
   "cell_type": "code",
   "execution_count": 11,
   "id": "f332793f",
   "metadata": {},
   "outputs": [
    {
     "name": "stdout",
     "output_type": "stream",
     "text": [
      "Epoch 1/20\n"
     ]
    },
    {
     "name": "stderr",
     "output_type": "stream",
     "text": [
      "2022-10-21 13:27:56.803310: I tensorflow/stream_executor/cuda/cuda_dnn.cc:384] Loaded cuDNN version 8100\n"
     ]
    },
    {
     "name": "stdout",
     "output_type": "stream",
     "text": [
      "102/102 [==============================] - 36s 210ms/step - loss: 24.1433 - accuracy: 0.9117 - auc: 0.7815 - val_loss: 0.5101 - val_accuracy: 0.9653 - val_auc: 0.9416\n",
      "Epoch 2/20\n",
      "102/102 [==============================] - 20s 199ms/step - loss: 0.0606 - accuracy: 0.9929 - auc: 0.9910 - val_loss: 0.0404 - val_accuracy: 0.9931 - val_auc: 0.9815\n",
      "Epoch 3/20\n",
      "102/102 [==============================] - 20s 200ms/step - loss: 8.5094e-04 - accuracy: 0.9995 - auc: 1.0000 - val_loss: 0.0445 - val_accuracy: 0.9931 - val_auc: 0.9817\n",
      "Epoch 4/20\n",
      "102/102 [==============================] - 20s 201ms/step - loss: 1.3961e-04 - accuracy: 1.0000 - auc: 1.0000 - val_loss: 0.0389 - val_accuracy: 0.9944 - val_auc: 0.9817\n",
      "Epoch 5/20\n",
      "102/102 [==============================] - 20s 200ms/step - loss: 3.0380e-04 - accuracy: 1.0000 - auc: 1.0000 - val_loss: 0.0223 - val_accuracy: 0.9958 - val_auc: 0.9937\n",
      "Epoch 6/20\n",
      "102/102 [==============================] - 21s 202ms/step - loss: 0.0012 - accuracy: 0.9994 - auc: 1.0000 - val_loss: 0.0571 - val_accuracy: 0.9917 - val_auc: 0.9756\n",
      "Epoch 7/20\n",
      "102/102 [==============================] - 21s 201ms/step - loss: 1.3420e-04 - accuracy: 1.0000 - auc: 1.0000 - val_loss: 0.0366 - val_accuracy: 0.9944 - val_auc: 0.9878\n"
     ]
    }
   ],
   "source": [
    "history_fin = FinModel.fit(traingroup[expN], output_label_train[expN], \n",
    "                validation_data=([valgroup[expN],output_label_val[expN]]), \n",
    "                batch_size=64,\n",
    "                epochs=20, callbacks=[history_logger, tf.keras.callbacks.EarlyStopping(patience=2),mm_save],\n",
    "                          shuffle = True)"
   ]
  },
  {
   "cell_type": "code",
   "execution_count": 12,
   "id": "17492ffe",
   "metadata": {},
   "outputs": [
    {
     "name": "stdout",
     "output_type": "stream",
     "text": [
      "25/25 [==============================] - 1s 36ms/step - loss: 0.0141 - accuracy: 0.9962 - auc: 0.9956\n"
     ]
    },
    {
     "data": {
      "text/plain": [
       "[0.01409409660845995, 0.9962499737739563, 0.9955751895904541]"
      ]
     },
     "execution_count": 12,
     "metadata": {},
     "output_type": "execute_result"
    }
   ],
   "source": [
    "FinModel.evaluate(testgroup[expN],output_label_test[expN])"
   ]
  },
  {
   "cell_type": "code",
   "execution_count": 17,
   "id": "69e81cec",
   "metadata": {},
   "outputs": [],
   "source": [
    "# hist_df = pd.DataFrame(history_fin.history) \n",
    "# hist_csv_file = 'history_fin.csv'\n",
    "# with open(hist_csv_file, mode='w') as f:\n",
    "#     hist_df.to_csv(f)"
   ]
  },
  {
   "cell_type": "raw",
   "id": "628b03a9",
   "metadata": {},
   "source": [
    "testing the performance of Fin for a single image"
   ]
  },
  {
   "cell_type": "code",
   "execution_count": 14,
   "id": "809f27c4",
   "metadata": {},
   "outputs": [
    {
     "name": "stdout",
     "output_type": "stream",
     "text": [
      "1/1 [==============================] - 0s 33ms/step\n"
     ]
    },
    {
     "data": {
      "text/plain": [
       "array([[5.6536526e-05, 9.9994349e-01]], dtype=float32)"
      ]
     },
     "execution_count": 14,
     "metadata": {},
     "output_type": "execute_result"
    }
   ],
   "source": [
    "# the folder name by label\n",
    "class_names = ['pos','neg']\n",
    "\n",
    "# the image dictionary we are loading\n",
    "dict = './covid19/kcv/'\n",
    "\n",
    "def load_image( imageName ):\n",
    "    trainingdata = []\n",
    "    for i in class_names:\n",
    "        path = os.path.join(dict, i)\n",
    "        label_num = class_names.index(i)\n",
    "        try:\n",
    "            img = sitk.ReadImage(dict + i +'/' + imageName)\n",
    "            trainingdata.append([sitk.GetArrayFromImage(img).reshape(512,512,1),label_num])\n",
    "        except:\n",
    "            pass\n",
    "            \n",
    "    return trainingdata\n",
    "\n",
    "singleImage = load_image('Non-COVID-19_042.png')\n",
    "\n",
    "image = singleImage[0][0]\n",
    "label = singleImage[0][1]\n",
    "image = np.array(image)\n",
    "inputimage = image.reshape(1,512,512,1)\n",
    "\n",
    "FinModel.predict(inputimage)"
   ]
  },
  {
   "cell_type": "code",
   "execution_count": null,
   "id": "ec91950d",
   "metadata": {},
   "outputs": [],
   "source": []
  }
 ],
 "metadata": {
  "kernelspec": {
   "display_name": "Python 3 (ipykernel)",
   "language": "python",
   "name": "python3"
  },
  "language_info": {
   "codemirror_mode": {
    "name": "ipython",
    "version": 3
   },
   "file_extension": ".py",
   "mimetype": "text/x-python",
   "name": "python",
   "nbconvert_exporter": "python",
   "pygments_lexer": "ipython3",
   "version": "3.9.12"
  }
 },
 "nbformat": 4,
 "nbformat_minor": 5
}
