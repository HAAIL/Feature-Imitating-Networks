{
 "cells": [
  {
   "cell_type": "code",
   "execution_count": 1,
   "id": "4288f71c",
   "metadata": {},
   "outputs": [],
   "source": [
    "import numpy as np\n",
    "from numpy import random\n",
    "import random\n",
    "import matplotlib.pyplot as plt\n",
    "from scipy.signal import cwt,ricker\n",
    "from scipy import stats\n",
    "from sklearn.preprocessing import StandardScaler,normalize\n",
    "from sklearn.preprocessing import MinMaxScaler\n",
    "from sklearn.model_selection import KFold\n",
    "import os\n",
    "import tensorflow as tf\n",
    "import tensorflow.keras as keras\n",
    "import tensorflow.keras.optimizers\n",
    "from tensorflow.keras.models import Sequential\n",
    "from keras.callbacks import EarlyStopping\n",
    "from keras.models import load_model\n",
    "from tensorflow.keras.layers import Flatten,concatenate,Layer,Dense,LSTM,Activation,MaxPooling2D,Dropout,Conv2D,BatchNormalization,Reshape,UpSampling2D,ZeroPadding2D\n",
    "import nibabel as nib\n",
    "import pydicom as dicom\n",
    "from pydicom.pixel_data_handlers.util import apply_voi_lut\n",
    "import tensorflow_io as tfio\n",
    "import radiomics\n",
    "from radiomics.featureextractor import RadiomicsFeatureExtractor\n",
    "import SimpleITK as sitk\n",
    "import pandas as pd\n"
   ]
  },
  {
   "cell_type": "markdown",
   "id": "6db2e0a6",
   "metadata": {},
   "source": [
    "# Training"
   ]
  },
  {
   "cell_type": "code",
   "execution_count": 4,
   "id": "92ebd050",
   "metadata": {},
   "outputs": [],
   "source": [
    "#TF_ENABLE_ONEDNN_OPTS=0"
   ]
  },
  {
   "cell_type": "code",
   "execution_count": 39,
   "id": "2e59cda4",
   "metadata": {},
   "outputs": [],
   "source": [
    "dict = './covid19/kcv/'\n",
    "\n",
    "# Function takes a list of folders, extract features from it, change the extractor inside function and the return dictionary\n",
    "# to run exactly which feature, the key of the return dictionary can be found in mask.ipy and also listed in pyradiomics library\n",
    "def LoadDataFromImages(foldernames):\n",
    "    input_array = []\n",
    "    #output_array=[]\n",
    "    o1=[]\n",
    "    o2=[]\n",
    "    o3=[]\n",
    "    o4=[]\n",
    "    o5=[]\n",
    "\n",
    "    extractor = RadiomicsFeatureExtractor()\n",
    "    # Disable all classes except firstorder\n",
    "    extractor.disableAllFeatures()\n",
    "    extractor.enableFeaturesByName(firstorder=['Skewness'])  # change here to extract\n",
    "    extractor.enableFeaturesByName(glcm=['Autocorrelation'])\n",
    "    extractor.enableFeaturesByName(glrlm=['GrayLevelVariance','RunLengthNonUniformity'])\n",
    "    extractor.enableFeaturesByName(glszm=['SizeZoneNonUniformity'])\n",
    "\n",
    "    for i in foldernames:\n",
    "        files  = os.listdir(dict + i)\n",
    "        for j in files:\n",
    "            im = sitk.ReadImage(dict + i +'/' + j)\n",
    "            \n",
    "            # reshape and fill the input array\n",
    "            input_array.append(sitk.GetArrayFromImage(im).reshape(512,512,1))\n",
    "            \n",
    "            ma_arr = np.ones(im.GetSize()[::-1])  # reverse the order as image is xyz, array is zyx\n",
    "            ma = sitk.GetImageFromArray(ma_arr)\n",
    "            ma.CopyInformation(im)  # Copy geometric info\n",
    "            \n",
    "            # extract features and fill the output array\n",
    "            features = extractor.execute(im, ma)\n",
    "            \n",
    "            #output_array.append(features['original_ngtdm_Strength'])  # change here to extract\n",
    "            o1.append(features['original_firstorder_Skewness'])\n",
    "            o2.append(features['original_glcm_Autocorrelation'])\n",
    "            o3.append(features['original_glrlm_GrayLevelVariance'])\n",
    "            o4.append(features['original_glrlm_RunLengthNonUniformity'])\n",
    "            o5.append(features['original_glszm_SizeZoneNonUniformity'])\n",
    "\n",
    "            \n",
    "    return input_array,o1,o2,o3,o4,o5\n",
    "\n",
    "            "
   ]
  },
  {
   "cell_type": "code",
   "execution_count": 40,
   "id": "61da1570",
   "metadata": {},
   "outputs": [],
   "source": [
    "input_array, o1,o2,o3,o4,o5 = LoadDataFromImages([\"pos\", \"neg\"])"
   ]
  },
  {
   "cell_type": "code",
   "execution_count": 41,
   "id": "cfc91e1a",
   "metadata": {},
   "outputs": [],
   "source": [
    "input_array = np.array(input_array)\n",
    "o1 = np.array(o1)\n",
    "o2 = np.array(o2)\n",
    "o3 = np.array(o3)\n",
    "o4 = np.array(o4)\n",
    "o5 = np.array(o5)\n",
    "\n"
   ]
  },
  {
   "cell_type": "code",
   "execution_count": 42,
   "id": "2a44ede6",
   "metadata": {},
   "outputs": [],
   "source": [
    "np.save(\"input_arr.npy\",input_array)\n",
    "np.save(\"o1ar.npy\",o1)\n",
    "np.save(\"o2ar.npy\",o2)\n",
    "np.save(\"o3ar.npy\",o3)\n",
    "np.save(\"o4ar.npy\",o4)\n",
    "np.save(\"o5ar.npy\",o5)"
   ]
  },
  {
   "cell_type": "code",
   "execution_count": 98,
   "id": "ba61e17f",
   "metadata": {},
   "outputs": [],
   "source": [
    "# np.save(\"input_arr_test.npy\",input_array)\n",
    "# np.save(\"o1ar_test.npy\",o1)\n",
    "# np.save(\"o2ar_test.npy\",o2)\n",
    "# np.save(\"o3ar_test.npy\",o3)\n",
    "# np.save(\"o4ar_test.npy\",o4)\n",
    "# np.save(\"o5ar_test.npy\",o5)"
   ]
  },
  {
   "cell_type": "code",
   "execution_count": 104,
   "id": "37c6ae90",
   "metadata": {},
   "outputs": [],
   "source": [
    "np.save(\"input_arr_finet.npy\",input_array)\n",
    "np.save(\"o1ar_finet.npy\",o1)\n",
    "np.save(\"o2ar_finet.npy\",o2)\n",
    "np.save(\"o3ar_finet.npy\",o3)\n",
    "np.save(\"o4ar_finet.npy\",o4)\n",
    "np.save(\"o5ar_finet.npy\",o5)"
   ]
  },
  {
   "cell_type": "code",
   "execution_count": 11,
   "id": "9248782e",
   "metadata": {},
   "outputs": [
    {
     "name": "stderr",
     "output_type": "stream",
     "text": [
      "2022-08-01 17:25:25.974959: I tensorflow/core/platform/cpu_feature_guard.cc:193] This TensorFlow binary is optimized with oneAPI Deep Neural Network Library (oneDNN) to use the following CPU instructions in performance-critical operations:  AVX2 FMA\n",
      "To enable them in other operations, rebuild TensorFlow with the appropriate compiler flags.\n",
      "2022-08-01 17:25:28.126631: I tensorflow/core/common_runtime/gpu/gpu_device.cc:1532] Created device /job:localhost/replica:0/task:0/device:GPU:0 with 10794 MB memory:  -> device: 0, name: Tesla K80, pci bus id: 0000:0a:00.0, compute capability: 3.7\n"
     ]
    }
   ],
   "source": [
    "config = tf.compat.v1.ConfigProto()\n",
    "config.gpu_options.allow_growth = True\n",
    "session = tf.compat.v1.Session(config=config)"
   ]
  },
  {
   "cell_type": "code",
   "execution_count": 33,
   "id": "cb35ee1d",
   "metadata": {},
   "outputs": [],
   "source": [
    "def MakeModel(modelname):\n",
    "    input_layer = keras.Input(shape=(512,512,1))\n",
    "    x = Flatten()(input_layer)\n",
    "    x = BatchNormalization(axis=1)(x)\n",
    "    x = Dense(128, activation='relu')(x)\n",
    "    x = Dense(64, activation='relu')(x)\n",
    "    x = Dense(64, activation='relu')(x)\n",
    "    x = Dense(64, activation='relu')(x)\n",
    "    x = Dense(64, activation='relu')(x)\n",
    "    out = Dense(1, activation = 'linear', name= modelname)(x)\n",
    "    model = keras.Model(input_layer, out, name= modelname)\n",
    "    \n",
    "    return model"
   ]
  },
  {
   "cell_type": "code",
   "execution_count": 34,
   "id": "7f71f73e",
   "metadata": {},
   "outputs": [],
   "source": [
    "model = MakeModel('covid_RunLengthNonUniformity')"
   ]
  },
  {
   "cell_type": "code",
   "execution_count": 35,
   "id": "44fc4339",
   "metadata": {},
   "outputs": [],
   "source": [
    "model.compile(optimizer=tf.keras.optimizers.Adam(\n",
    " #learning_rate= 0.0001\n",
    "), loss=\"mse\", metrics='mae')"
   ]
  },
  {
   "cell_type": "code",
   "execution_count": 83,
   "id": "ca14b72c",
   "metadata": {},
   "outputs": [],
   "source": [
    "model.fit(input_array, o4, \n",
    "              epochs=20, \n",
    "          batch_size=64,\n",
    "                shuffle=True\n",
    "            )"
   ]
  },
  {
   "cell_type": "code",
   "execution_count": 40,
   "id": "ed63810a",
   "metadata": {},
   "outputs": [],
   "source": [
    "model.save(\"./covid_RunLengthNonUniformity.h5\")"
   ]
  },
  {
   "cell_type": "code",
   "execution_count": 275,
   "id": "03dc929e",
   "metadata": {},
   "outputs": [],
   "source": [
    "dict = './covid19/testing/'\n",
    "\n",
    "input_array_t = []\n",
    "output_array_t = []\n",
    "\n",
    "input_array_t, output_array_t = LoadDataFromImages([\n",
    "                                                    'non'\n",
    "\n",
    "                                                   ])"
   ]
  },
  {
   "cell_type": "code",
   "execution_count": 276,
   "id": "ff01d4af",
   "metadata": {},
   "outputs": [],
   "source": [
    "input_array_t = np.array(input_array_t)\n",
    "output_array_t = np.array(output_array_t)"
   ]
  },
  {
   "cell_type": "code",
   "execution_count": 279,
   "id": "e640cc0e",
   "metadata": {},
   "outputs": [
    {
     "name": "stdout",
     "output_type": "stream",
     "text": [
      "10/10 [==============================] - 0s 12ms/step\n"
     ]
    },
    {
     "data": {
      "text/plain": [
       "Text(0.5, 1.0, 'fine_tuned_SizeZoneNonUniformity')"
      ]
     },
     "execution_count": 279,
     "metadata": {},
     "output_type": "execute_result"
    },
    {
     "data": {
      "image/png": "[encoded data removed]",
      "text/plain": [
       "<Figure size 432x288 with 1 Axes>"
      ]
     },
     "metadata": {
      "needs_background": "light"
     },
     "output_type": "display_data"
    }
   ],
   "source": [
    "plt.plot(range(50),output_array_t[0:50] ,label='Real Value')\n",
    "plt.plot(range(50),new_model.predict(input_array_t)[0:50]  ,label='Predict Value')\n",
    "plt.xlabel(\"Index of image Input\")\n",
    "plt.ylabel(\"Value\")\n",
    "plt.legend(bbox_to_anchor=(1.05, 1),loc='upper left')\n",
    "plt.title('fine_tuned_SizeZoneNonUniformity')\n",
    "\n",
    "#print(np.mean(test_array7, axis=1))"
   ]
  },
  {
   "cell_type": "markdown",
   "id": "e496d37a",
   "metadata": {},
   "source": [
    "# Load the Training and Testing Data"
   ]
  },
  {
   "cell_type": "code",
   "execution_count": 2,
   "id": "f5d27e20",
   "metadata": {},
   "outputs": [],
   "source": [
    "# class_names = ['non', 'pos']\n",
    "# dict = './covid19/testing/'\n",
    "\n",
    "class_names = ['pos', 'neg']\n",
    "dict = './covid19/kcv/'"
   ]
  },
  {
   "cell_type": "code",
   "execution_count": 3,
   "id": "7695eead",
   "metadata": {},
   "outputs": [],
   "source": [
    "\n",
    "def load_training():\n",
    "    trainingdata = []\n",
    "    for i in class_names:\n",
    "        path = os.path.join(dict, i)\n",
    "        label_num = class_names.index(i)\n",
    "        for j in os.listdir(path):\n",
    "            img = sitk.ReadImage(dict + i +'/' + j)\n",
    "            trainingdata.append([sitk.GetArrayFromImage(img).reshape(512,512,1),label_num])\n",
    "            \n",
    "    return trainingdata\n",
    "    \n",
    "            \n",
    "    "
   ]
  },
  {
   "cell_type": "code",
   "execution_count": 4,
   "id": "39b54d83",
   "metadata": {},
   "outputs": [],
   "source": [
    "data= load_training()"
   ]
  },
  {
   "cell_type": "code",
   "execution_count": 5,
   "id": "88855fd8",
   "metadata": {},
   "outputs": [
    {
     "data": {
      "text/plain": [
       "8000"
      ]
     },
     "execution_count": 5,
     "metadata": {},
     "output_type": "execute_result"
    }
   ],
   "source": [
    "len(data)"
   ]
  },
  {
   "cell_type": "code",
   "execution_count": 6,
   "id": "425f84e4",
   "metadata": {},
   "outputs": [],
   "source": [
    "X =[]\n",
    "Y =[]\n",
    "\n",
    "for trainingx, label in data:\n",
    "    X.append(trainingx)\n",
    "    Y.append(label)"
   ]
  },
  {
   "cell_type": "code",
   "execution_count": 7,
   "id": "83b7010c",
   "metadata": {},
   "outputs": [],
   "source": [
    "# load input images and output features:\n",
    "#data = np.load('input_arr.npy')\n",
    "\n",
    "feature_arr1 = np.load('o1ar.npy')  # original_firstorder_Skewness\n",
    "feature_arr2 = np.load('o2ar.npy')  # original_glcm_Autocorrelation\n",
    "feature_arr3 = np.load('o3ar.npy')  # original_glrlm_GrayLevelVariance\n",
    "feature_arr4 = np.load('o4ar.npy')  # original_glrlm_RunLengthNonUniformity\n",
    "feature_arr5 = np.load('o5ar.npy')  # original_glszm_SizeZoneNonUniformity\n",
    "\n"
   ]
  },
  {
   "cell_type": "code",
   "execution_count": 8,
   "id": "4fc39e9b",
   "metadata": {},
   "outputs": [],
   "source": [
    "# apply k fold cross validation, k=10\n",
    "kfold = KFold(10,shuffle=True,random_state=1)\n",
    "\n",
    "traingroup = []\n",
    "testgroup=[]\n",
    "\n",
    "feature1_train= []\n",
    "feature2_train= []\n",
    "feature3_train= []\n",
    "feature4_train= []\n",
    "feature5_train= []\n",
    "\n",
    "feature1_test= []\n",
    "feature2_test= []\n",
    "feature3_test= []\n",
    "feature4_test= []\n",
    "feature5_test= []\n",
    "\n",
    "output_label_train = []\n",
    "output_label_test = []\n",
    "\n",
    "\n",
    "\n",
    "\n",
    "# split data to 10 train and test set\n",
    "for train, test in kfold.split(X):\n",
    "    #print('train: %s, test: %s' % (train, test))\n",
    "    per_train_group = []\n",
    "    per_test_group=[]\n",
    "    \n",
    "    per_feature1_train = []\n",
    "    per_feature2_train = []\n",
    "    per_feature3_train = []\n",
    "    per_feature4_train = []\n",
    "    per_feature5_train = []\n",
    "    \n",
    "    per_feature1_test = []\n",
    "    per_feature2_test = []\n",
    "    per_feature3_test = []\n",
    "    per_feature4_test = []\n",
    "    per_feature5_test = []\n",
    "    \n",
    "    per_label_train =[]\n",
    "    per_label_test = []\n",
    "    \n",
    "    for i in train:\n",
    "        per_train_group.append(X[i])\n",
    "        per_label_train.append(Y[i])\n",
    "        per_feature1_train.append(feature_arr1[i])\n",
    "        per_feature2_train.append(feature_arr2[i])\n",
    "        per_feature3_train.append(feature_arr3[i])\n",
    "        per_feature4_train.append(feature_arr4[i])\n",
    "        per_feature5_train.append(feature_arr5[i])\n",
    "    for i in test:\n",
    "        per_test_group.append(X[i])\n",
    "        per_label_test.append(Y[i])\n",
    "        per_feature1_test.append(feature_arr1[i])\n",
    "        per_feature2_test.append(feature_arr2[i])\n",
    "        per_feature3_test.append(feature_arr3[i])\n",
    "        per_feature4_test.append(feature_arr4[i])\n",
    "        per_feature5_test.append(feature_arr5[i])\n",
    "        \n",
    "        \n",
    "    traingroup.append(per_train_group)\n",
    "    testgroup.append(per_test_group)\n",
    "    \n",
    "    feature1_train.append(per_feature1_train)\n",
    "    feature2_train.append(per_feature2_train)\n",
    "    feature3_train.append(per_feature3_train)\n",
    "    feature4_train.append(per_feature4_train)\n",
    "    feature5_train.append(per_feature5_train)\n",
    "    \n",
    "    feature1_test.append(per_feature1_test)\n",
    "    feature2_test.append(per_feature2_test)\n",
    "    feature3_test.append(per_feature3_test)\n",
    "    feature4_test.append(per_feature4_test)\n",
    "    feature5_test.append(per_feature5_test)\n",
    "    \n",
    "    output_label_train.append(per_label_train)\n",
    "    output_label_test.append(per_label_test)\n",
    "\n",
    "        "
   ]
  },
  {
   "cell_type": "code",
   "execution_count": 9,
   "id": "68557892",
   "metadata": {},
   "outputs": [],
   "source": [
    "#convert them into numpy arrays\n",
    "traingroup = np.array(traingroup)\n",
    "testgroup= np.array(testgroup)\n",
    "\n",
    "feature1_train= np.array(feature1_train)\n",
    "feature2_train= np.array(feature2_train)\n",
    "feature3_train= np.array(feature3_train)\n",
    "feature4_train= np.array(feature4_train)\n",
    "feature5_train= np.array(feature5_train)\n",
    "\n",
    "feature1_test= np.array(feature1_test)\n",
    "feature2_test= np.array(feature2_test)\n",
    "feature3_test= np.array(feature3_test)\n",
    "feature4_test= np.array(feature4_test)\n",
    "feature5_test= np.array(feature5_test)\n",
    "\n",
    "output_label_train = np.array(output_label_train)\n",
    "output_label_test = np.array(output_label_test)\n"
   ]
  },
  {
   "cell_type": "code",
   "execution_count": 28,
   "id": "423022af",
   "metadata": {},
   "outputs": [],
   "source": [
    "# clear GPU session\n",
    "tf.keras.backend.clear_session()"
   ]
  },
  {
   "cell_type": "markdown",
   "id": "4df06a84",
   "metadata": {},
   "source": [
    "# Regular Neural network with Random initialization"
   ]
  },
  {
   "cell_type": "code",
   "execution_count": 80,
   "id": "06e89950",
   "metadata": {},
   "outputs": [],
   "source": [
    "# creating a simple Network\n",
    "def MakeModel(modelname):\n",
    "    input_layer = keras.Input(shape=(512,512,1))\n",
    "    x = Flatten()(input_layer)\n",
    "    #x = BatchNormalization(axis=1)(x)\n",
    "    x = Dense(128, activation='relu')(x)\n",
    "    x = Dense(128, activation='relu')(x)\n",
    "\n",
    "    out = Dense(2, activation = 'softmax', name= modelname)(x)\n",
    "\n",
    "    model = keras.Model(input_layer, out, name= modelname)\n",
    "    \n",
    "    return model"
   ]
  },
  {
   "cell_type": "code",
   "execution_count": 86,
   "id": "2efd64fc",
   "metadata": {},
   "outputs": [],
   "source": [
    "RNNModel = MakeModel('RNNModel')"
   ]
  },
  {
   "cell_type": "code",
   "execution_count": 87,
   "id": "0e9c7c4a",
   "metadata": {},
   "outputs": [
    {
     "name": "stdout",
     "output_type": "stream",
     "text": [
      "Model: \"RNNModel\"\n",
      "_________________________________________________________________\n",
      " Layer (type)                Output Shape              Param #   \n",
      "=================================================================\n",
      " input_2 (InputLayer)        [(None, 512, 512, 1)]     0         \n",
      "                                                                 \n",
      " flatten_1 (Flatten)         (None, 262144)            0         \n",
      "                                                                 \n",
      " dense_2 (Dense)             (None, 128)               33554560  \n",
      "                                                                 \n",
      " dense_3 (Dense)             (None, 128)               16512     \n",
      "                                                                 \n",
      " RNNModel (Dense)            (None, 2)                 258       \n",
      "                                                                 \n",
      "=================================================================\n",
      "Total params: 33,571,330\n",
      "Trainable params: 33,571,330\n",
      "Non-trainable params: 0\n",
      "_________________________________________________________________\n"
     ]
    }
   ],
   "source": [
    "RNNModel.summary()"
   ]
  },
  {
   "cell_type": "code",
   "execution_count": 88,
   "id": "4b997170",
   "metadata": {},
   "outputs": [],
   "source": [
    "RNNModel.compile(optimizer=tf.keras.optimizers.Adam(\n",
    " learning_rate= 0.001\n",
    "),\n",
    "              loss=tf.keras.losses.SparseCategoricalCrossentropy(),\n",
    "             metrics=['accuracy']\n",
    "                   )"
   ]
  },
  {
   "cell_type": "code",
   "execution_count": 89,
   "id": "a97a7d04",
   "metadata": {},
   "outputs": [],
   "source": [
    "filename='history_rnn.csv'\n",
    "history_logger=tf.keras.callbacks.CSVLogger(filename, separator=\",\", append=True)"
   ]
  },
  {
   "cell_type": "code",
   "execution_count": 90,
   "id": "943f0873",
   "metadata": {},
   "outputs": [
    {
     "name": "stdout",
     "output_type": "stream",
     "text": [
      "Epoch 1/10\n",
      "113/113 [==============================] - 4s 31ms/step - loss: 1785.6620 - accuracy: 0.8656 - val_loss: 126.5008 - val_accuracy: 0.8825\n",
      "Epoch 2/10\n",
      "113/113 [==============================] - 3s 29ms/step - loss: 141.2975 - accuracy: 0.9367 - val_loss: 60.1298 - val_accuracy: 0.9625\n",
      "Epoch 3/10\n",
      "113/113 [==============================] - 3s 28ms/step - loss: 435.4829 - accuracy: 0.8946 - val_loss: 543.3359 - val_accuracy: 0.8913\n",
      "Epoch 4/10\n",
      "113/113 [==============================] - 3s 30ms/step - loss: 73.3840 - accuracy: 0.9425 - val_loss: 5.8307 - val_accuracy: 0.9775\n",
      "Epoch 5/10\n",
      "113/113 [==============================] - 3s 28ms/step - loss: 123.0409 - accuracy: 0.9382 - val_loss: 114.3696 - val_accuracy: 0.9450\n",
      "Epoch 6/10\n",
      "113/113 [==============================] - 3s 28ms/step - loss: 76.5389 - accuracy: 0.9303 - val_loss: 26.0958 - val_accuracy: 0.9650\n",
      "Epoch 7/10\n",
      "113/113 [==============================] - 3s 28ms/step - loss: 14.7973 - accuracy: 0.9749 - val_loss: 5.5689 - val_accuracy: 0.9837\n",
      "Epoch 8/10\n",
      "113/113 [==============================] - 3s 28ms/step - loss: 4.5117 - accuracy: 0.9840 - val_loss: 5.2786 - val_accuracy: 0.9850\n",
      "Epoch 9/10\n",
      "113/113 [==============================] - 3s 30ms/step - loss: 6.5659 - accuracy: 0.9801 - val_loss: 10.5418 - val_accuracy: 0.9775\n",
      "Epoch 10/10\n",
      "113/113 [==============================] - 3s 28ms/step - loss: 6.3845 - accuracy: 0.9847 - val_loss: 2.2005 - val_accuracy: 0.9887\n"
     ]
    }
   ],
   "source": [
    "history_rnn = RNNModel.fit(traingroup[9], output_label_train[9], \n",
    "                validation_data=([testgroup[9],output_label_test[9]]), \n",
    "                batch_size=64,\n",
    "                epochs=10,\n",
    "                          callbacks=[history_logger])\n"
   ]
  },
  {
   "cell_type": "markdown",
   "id": "5a0f6bae",
   "metadata": {},
   "source": [
    "# Simple models with raw features"
   ]
  },
  {
   "cell_type": "code",
   "execution_count": 96,
   "id": "33637b93",
   "metadata": {},
   "outputs": [],
   "source": [
    "features_train = np.stack((feature1_train,feature2_train,feature3_train,feature4_train, feature5_train),axis=2)\n",
    "features_test = np.stack((feature1_test,feature2_test,feature3_test,feature4_test, feature5_test),axis=2)"
   ]
  },
  {
   "cell_type": "code",
   "execution_count": 97,
   "id": "0955784d",
   "metadata": {},
   "outputs": [
    {
     "data": {
      "text/plain": [
       "(10, 7200, 5)"
      ]
     },
     "execution_count": 97,
     "metadata": {},
     "output_type": "execute_result"
    }
   ],
   "source": [
    "features_train.shape"
   ]
  },
  {
   "cell_type": "code",
   "execution_count": 168,
   "id": "49b1ddd6",
   "metadata": {},
   "outputs": [],
   "source": [
    "\n",
    "\n",
    "def MakeModel(modelname):\n",
    "    input_layer = keras.Input(shape=(5))\n",
    "\n",
    "    \n",
    "    #x = Flatten()(n_d)\n",
    "    #x = BatchNormalization(axis=1)(x)\n",
    "    x = Dense(128, activation='relu')(input_layer)\n",
    "    x = Dense(128, activation='relu')(x)\n",
    "\n",
    "    out = Dense(2, activation = 'softmax', name= modelname)(x)\n",
    "\n",
    "    model = keras.Model(input_layer, out, name= modelname)\n",
    "    \n",
    "    return model"
   ]
  },
  {
   "cell_type": "code",
   "execution_count": 169,
   "id": "76823657",
   "metadata": {},
   "outputs": [],
   "source": [
    "rawFeatureModel = MakeModel('rawFeatures')"
   ]
  },
  {
   "cell_type": "code",
   "execution_count": 170,
   "id": "75d22bc8",
   "metadata": {},
   "outputs": [
    {
     "name": "stdout",
     "output_type": "stream",
     "text": [
      "Model: \"rawFeatures\"\n",
      "_________________________________________________________________\n",
      " Layer (type)                Output Shape              Param #   \n",
      "=================================================================\n",
      " input_16 (InputLayer)       [(None, 5)]               0         \n",
      "                                                                 \n",
      " dense_34 (Dense)            (None, 128)               768       \n",
      "                                                                 \n",
      " dense_35 (Dense)            (None, 128)               16512     \n",
      "                                                                 \n",
      " rawFeatures (Dense)         (None, 2)                 258       \n",
      "                                                                 \n",
      "=================================================================\n",
      "Total params: 17,538\n",
      "Trainable params: 17,538\n",
      "Non-trainable params: 0\n",
      "_________________________________________________________________\n"
     ]
    }
   ],
   "source": [
    "rawFeatureModel.summary()"
   ]
  },
  {
   "cell_type": "code",
   "execution_count": 171,
   "id": "ce05aa44",
   "metadata": {},
   "outputs": [],
   "source": [
    "filename='history_rawfeature.csv'\n",
    "history_logger=tf.keras.callbacks.CSVLogger(filename, separator=\",\", append=True)"
   ]
  },
  {
   "cell_type": "code",
   "execution_count": 172,
   "id": "8f052404",
   "metadata": {},
   "outputs": [],
   "source": [
    "rawFeatureModel.compile(optimizer=tf.keras.optimizers.Adam(\n",
    " learning_rate= 0.001\n",
    "),\n",
    "              loss=tf.keras.losses.SparseCategoricalCrossentropy(),\n",
    "              metrics=['accuracy']\n",
    "                )"
   ]
  },
  {
   "cell_type": "code",
   "execution_count": 173,
   "id": "b886f918",
   "metadata": {},
   "outputs": [
    {
     "name": "stdout",
     "output_type": "stream",
     "text": [
      "Epoch 1/10\n",
      "113/113 [==============================] - 1s 4ms/step - loss: 76.3602 - accuracy: 0.8490 - val_loss: 18.5163 - val_accuracy: 0.8975\n",
      "Epoch 2/10\n",
      "113/113 [==============================] - 0s 2ms/step - loss: 28.6335 - accuracy: 0.8947 - val_loss: 8.3127 - val_accuracy: 0.8813\n",
      "Epoch 3/10\n",
      "113/113 [==============================] - 0s 3ms/step - loss: 44.4648 - accuracy: 0.8856 - val_loss: 226.4645 - val_accuracy: 0.8587\n",
      "Epoch 4/10\n",
      "113/113 [==============================] - 0s 3ms/step - loss: 34.4202 - accuracy: 0.8947 - val_loss: 29.7210 - val_accuracy: 0.8788\n",
      "Epoch 5/10\n",
      "113/113 [==============================] - 0s 2ms/step - loss: 45.5129 - accuracy: 0.8833 - val_loss: 17.4786 - val_accuracy: 0.8975\n",
      "Epoch 6/10\n",
      "113/113 [==============================] - 0s 2ms/step - loss: 27.9457 - accuracy: 0.8929 - val_loss: 12.4996 - val_accuracy: 0.9187\n",
      "Epoch 7/10\n",
      "113/113 [==============================] - 0s 2ms/step - loss: 33.8535 - accuracy: 0.8953 - val_loss: 20.2594 - val_accuracy: 0.6612\n",
      "Epoch 8/10\n",
      "113/113 [==============================] - 0s 2ms/step - loss: 34.5816 - accuracy: 0.8901 - val_loss: 118.8536 - val_accuracy: 0.8600\n",
      "Epoch 9/10\n",
      "113/113 [==============================] - 0s 2ms/step - loss: 19.5841 - accuracy: 0.8999 - val_loss: 24.3470 - val_accuracy: 0.6388\n",
      "Epoch 10/10\n",
      "113/113 [==============================] - 0s 2ms/step - loss: 32.9402 - accuracy: 0.8993 - val_loss: 6.8478 - val_accuracy: 0.8425\n"
     ]
    }
   ],
   "source": [
    "history_rawFeature= rawFeatureModel.fit(features_train[9], output_label_train[9], \n",
    "                validation_data=([features_test[9],output_label_test[9]]), \n",
    "                batch_size=64,\n",
    "                epochs=10,\n",
    "                                       callbacks=[history_logger])"
   ]
  },
  {
   "cell_type": "markdown",
   "id": "738b8c32",
   "metadata": {},
   "source": [
    "# FINs"
   ]
  },
  {
   "cell_type": "raw",
   "id": "4f9da32e",
   "metadata": {},
   "source": [
    "Fine-Tune witth images"
   ]
  },
  {
   "cell_type": "code",
   "execution_count": 255,
   "id": "cd9799f3",
   "metadata": {},
   "outputs": [],
   "source": [
    "input_array = np.load('input_arr_finet.npy')\n",
    "output_array = np.load('o1ar_finet.npy')"
   ]
  },
  {
   "cell_type": "code",
   "execution_count": 256,
   "id": "a7035eed",
   "metadata": {},
   "outputs": [],
   "source": [
    "base_model =  load_model(\"radiomics_Skewness.h5\")"
   ]
  },
  {
   "cell_type": "code",
   "execution_count": 257,
   "id": "ea0c3522",
   "metadata": {},
   "outputs": [
    {
     "name": "stdout",
     "output_type": "stream",
     "text": [
      "Model: \"Skewness\"\n",
      "_________________________________________________________________\n",
      " Layer (type)                Output Shape              Param #   \n",
      "=================================================================\n",
      " input_2 (InputLayer)        [(None, 512, 512, 1)]     0         \n",
      "                                                                 \n",
      " flatten_1 (Flatten)         (None, 262144)            0         \n",
      "                                                                 \n",
      " batch_normalization_1 (Batc  (None, 262144)           1048576   \n",
      " hNormalization)                                                 \n",
      "                                                                 \n",
      " dense_4 (Dense)             (None, 64)                16777280  \n",
      "                                                                 \n",
      " dense_5 (Dense)             (None, 64)                4160      \n",
      "                                                                 \n",
      " dense_6 (Dense)             (None, 64)                4160      \n",
      "                                                                 \n",
      " dense_7 (Dense)             (None, 64)                4160      \n",
      "                                                                 \n",
      " dense_8 (Dense)             (None, 64)                4160      \n",
      "                                                                 \n",
      " Skewness (Dense)            (None, 1)                 65        \n",
      "                                                                 \n",
      "=================================================================\n",
      "Total params: 17,842,561\n",
      "Trainable params: 17,318,273\n",
      "Non-trainable params: 524,288\n",
      "_________________________________________________________________\n"
     ]
    }
   ],
   "source": [
    "base_model.summary()"
   ]
  },
  {
   "cell_type": "code",
   "execution_count": 258,
   "id": "12d0ca18",
   "metadata": {},
   "outputs": [],
   "source": [
    "# how many layers for saving\n",
    "newlayers = base_model.layers[6].output\n",
    "n1 = Dense(64, activation='relu',name = '1')(newlayers)\n",
    "out = Dense(1, activation='linear',name='2')(n1)\n",
    "new_model = keras.Model(base_model.input, outputs = out)"
   ]
  },
  {
   "cell_type": "code",
   "execution_count": 259,
   "id": "681dea38",
   "metadata": {},
   "outputs": [
    {
     "name": "stdout",
     "output_type": "stream",
     "text": [
      "Model: \"model_15\"\n",
      "_________________________________________________________________\n",
      " Layer (type)                Output Shape              Param #   \n",
      "=================================================================\n",
      " input_2 (InputLayer)        [(None, 512, 512, 1)]     0         \n",
      "                                                                 \n",
      " flatten_1 (Flatten)         (None, 262144)            0         \n",
      "                                                                 \n",
      " batch_normalization_1 (Batc  (None, 262144)           1048576   \n",
      " hNormalization)                                                 \n",
      "                                                                 \n",
      " dense_4 (Dense)             (None, 64)                16777280  \n",
      "                                                                 \n",
      " dense_5 (Dense)             (None, 64)                4160      \n",
      "                                                                 \n",
      " dense_6 (Dense)             (None, 64)                4160      \n",
      "                                                                 \n",
      " dense_7 (Dense)             (None, 64)                4160      \n",
      "                                                                 \n",
      " 1 (Dense)                   (None, 64)                4160      \n",
      "                                                                 \n",
      " 2 (Dense)                   (None, 1)                 65        \n",
      "                                                                 \n",
      "=================================================================\n",
      "Total params: 17,842,561\n",
      "Trainable params: 17,318,273\n",
      "Non-trainable params: 524,288\n",
      "_________________________________________________________________\n"
     ]
    }
   ],
   "source": [
    "new_model.summary()"
   ]
  },
  {
   "cell_type": "code",
   "execution_count": 260,
   "id": "457f7b94",
   "metadata": {},
   "outputs": [],
   "source": [
    "for i in range(len(base_model.layers)): \n",
    "    keras.layers.trainable = True   # True--> fine tine, False-->frozen"
   ]
  },
  {
   "cell_type": "code",
   "execution_count": 269,
   "id": "7c08be74",
   "metadata": {},
   "outputs": [],
   "source": [
    "new_model.compile(optimizer=tf.keras.optimizers.Adam(\n",
    " learning_rate= 0.00001\n",
    "), loss=\"mse\")"
   ]
  },
  {
   "cell_type": "code",
   "execution_count": 270,
   "id": "6a56cb39",
   "metadata": {},
   "outputs": [
    {
     "name": "stdout",
     "output_type": "stream",
     "text": [
      "Epoch 1/100\n",
      "7/7 [==============================] - 1s 35ms/step - loss: 0.0875\n",
      "Epoch 2/100\n",
      "7/7 [==============================] - 0s 31ms/step - loss: 0.1135\n",
      "Epoch 3/100\n",
      "7/7 [==============================] - 0s 29ms/step - loss: 0.0765\n",
      "Epoch 4/100\n",
      "7/7 [==============================] - 0s 27ms/step - loss: 0.0544\n",
      "Epoch 5/100\n",
      "7/7 [==============================] - 0s 27ms/step - loss: 0.0716\n",
      "Epoch 6/100\n",
      "7/7 [==============================] - 0s 27ms/step - loss: 0.0537\n",
      "Epoch 7/100\n",
      "7/7 [==============================] - 0s 27ms/step - loss: 0.0689\n",
      "Epoch 8/100\n",
      "7/7 [==============================] - 0s 27ms/step - loss: 0.0619\n",
      "Epoch 9/100\n",
      "7/7 [==============================] - 0s 27ms/step - loss: 0.0545\n",
      "Epoch 10/100\n",
      "7/7 [==============================] - 0s 27ms/step - loss: 0.0469\n",
      "Epoch 11/100\n",
      "7/7 [==============================] - 0s 27ms/step - loss: 0.0386\n",
      "Epoch 12/100\n",
      "7/7 [==============================] - 0s 27ms/step - loss: 0.0482\n",
      "Epoch 13/100\n",
      "7/7 [==============================] - 0s 27ms/step - loss: 0.0462\n",
      "Epoch 14/100\n",
      "7/7 [==============================] - 0s 27ms/step - loss: 0.0331\n",
      "Epoch 15/100\n",
      "7/7 [==============================] - 0s 27ms/step - loss: 0.0572\n",
      "Epoch 16/100\n",
      "7/7 [==============================] - 0s 27ms/step - loss: 0.0633\n",
      "Epoch 17/100\n",
      "7/7 [==============================] - 0s 27ms/step - loss: 0.0447\n",
      "Epoch 18/100\n",
      "7/7 [==============================] - 0s 27ms/step - loss: 0.0627\n",
      "Epoch 19/100\n",
      "7/7 [==============================] - 0s 27ms/step - loss: 0.0478\n",
      "Epoch 20/100\n",
      "7/7 [==============================] - 0s 27ms/step - loss: 0.0590\n",
      "Epoch 21/100\n",
      "7/7 [==============================] - 0s 27ms/step - loss: 0.0645\n",
      "Epoch 22/100\n",
      "7/7 [==============================] - 0s 27ms/step - loss: 0.0514\n",
      "Epoch 23/100\n",
      "7/7 [==============================] - 0s 27ms/step - loss: 0.0462\n",
      "Epoch 24/100\n",
      "7/7 [==============================] - 0s 27ms/step - loss: 0.0479\n",
      "Epoch 25/100\n",
      "7/7 [==============================] - 0s 27ms/step - loss: 0.0435\n",
      "Epoch 26/100\n",
      "7/7 [==============================] - 0s 27ms/step - loss: 0.0449\n",
      "Epoch 27/100\n",
      "7/7 [==============================] - 0s 27ms/step - loss: 0.0525\n",
      "Epoch 28/100\n",
      "7/7 [==============================] - 0s 27ms/step - loss: 0.0423\n",
      "Epoch 29/100\n",
      "7/7 [==============================] - 0s 27ms/step - loss: 0.0563\n",
      "Epoch 30/100\n",
      "7/7 [==============================] - 0s 27ms/step - loss: 0.0387\n",
      "Epoch 31/100\n",
      "7/7 [==============================] - 0s 27ms/step - loss: 0.0393\n",
      "Epoch 32/100\n",
      "7/7 [==============================] - 0s 27ms/step - loss: 0.0409\n",
      "Epoch 33/100\n",
      "7/7 [==============================] - 0s 27ms/step - loss: 0.0537\n",
      "Epoch 34/100\n",
      "7/7 [==============================] - 0s 27ms/step - loss: 0.0392\n",
      "Epoch 35/100\n",
      "7/7 [==============================] - 0s 27ms/step - loss: 0.0329\n",
      "Epoch 36/100\n",
      "7/7 [==============================] - 0s 27ms/step - loss: 0.0381\n",
      "Epoch 37/100\n",
      "7/7 [==============================] - 0s 27ms/step - loss: 0.0370\n",
      "Epoch 38/100\n",
      "7/7 [==============================] - 0s 27ms/step - loss: 0.0589\n",
      "Epoch 39/100\n",
      "7/7 [==============================] - 0s 27ms/step - loss: 0.0472\n",
      "Epoch 40/100\n",
      "7/7 [==============================] - 0s 28ms/step - loss: 0.0527\n",
      "Epoch 41/100\n",
      "7/7 [==============================] - 0s 27ms/step - loss: 0.0396\n",
      "Epoch 42/100\n",
      "7/7 [==============================] - 0s 27ms/step - loss: 0.0710\n",
      "Epoch 43/100\n",
      "7/7 [==============================] - 0s 27ms/step - loss: 0.0635\n",
      "Epoch 44/100\n",
      "7/7 [==============================] - 0s 27ms/step - loss: 0.0503\n",
      "Epoch 45/100\n",
      "7/7 [==============================] - 0s 27ms/step - loss: 0.0453\n",
      "Epoch 46/100\n",
      "7/7 [==============================] - 0s 27ms/step - loss: 0.0324\n",
      "Epoch 47/100\n",
      "7/7 [==============================] - 0s 27ms/step - loss: 0.0450\n",
      "Epoch 48/100\n",
      "7/7 [==============================] - 0s 27ms/step - loss: 0.0637\n",
      "Epoch 49/100\n",
      "7/7 [==============================] - 0s 27ms/step - loss: 0.0803\n",
      "Epoch 50/100\n",
      "7/7 [==============================] - 0s 27ms/step - loss: 0.0494\n",
      "Epoch 51/100\n",
      "7/7 [==============================] - 0s 27ms/step - loss: 0.0414\n",
      "Epoch 52/100\n",
      "7/7 [==============================] - 0s 27ms/step - loss: 0.0549\n",
      "Epoch 53/100\n",
      "7/7 [==============================] - 0s 27ms/step - loss: 0.0350\n",
      "Epoch 54/100\n",
      "7/7 [==============================] - 0s 27ms/step - loss: 0.0677\n",
      "Epoch 55/100\n",
      "7/7 [==============================] - 0s 27ms/step - loss: 0.0336\n",
      "Epoch 56/100\n",
      "7/7 [==============================] - 0s 27ms/step - loss: 0.0366\n",
      "Epoch 57/100\n",
      "7/7 [==============================] - 0s 27ms/step - loss: 0.0321\n",
      "Epoch 58/100\n",
      "7/7 [==============================] - 0s 28ms/step - loss: 0.0394\n",
      "Epoch 59/100\n",
      "7/7 [==============================] - 0s 27ms/step - loss: 0.0355\n",
      "Epoch 60/100\n",
      "7/7 [==============================] - 0s 27ms/step - loss: 0.0341\n",
      "Epoch 61/100\n",
      "7/7 [==============================] - 0s 27ms/step - loss: 0.0387\n",
      "Epoch 62/100\n",
      "7/7 [==============================] - 0s 27ms/step - loss: 0.0385\n",
      "Epoch 63/100\n",
      "7/7 [==============================] - 0s 27ms/step - loss: 0.0376\n",
      "Epoch 64/100\n",
      "7/7 [==============================] - 0s 27ms/step - loss: 0.0592\n",
      "Epoch 65/100\n",
      "7/7 [==============================] - 0s 27ms/step - loss: 0.0294\n",
      "Epoch 66/100\n",
      "7/7 [==============================] - 0s 27ms/step - loss: 0.0333\n",
      "Epoch 67/100\n",
      "7/7 [==============================] - 0s 27ms/step - loss: 0.0344\n",
      "Epoch 68/100\n",
      "7/7 [==============================] - 0s 27ms/step - loss: 0.0330\n",
      "Epoch 69/100\n",
      "7/7 [==============================] - 0s 27ms/step - loss: 0.0524\n",
      "Epoch 70/100\n",
      "7/7 [==============================] - 0s 27ms/step - loss: 0.0362\n",
      "Epoch 71/100\n",
      "7/7 [==============================] - 0s 27ms/step - loss: 0.0317\n",
      "Epoch 72/100\n",
      "7/7 [==============================] - 0s 27ms/step - loss: 0.0415\n",
      "Epoch 73/100\n",
      "7/7 [==============================] - 0s 27ms/step - loss: 0.0379\n",
      "Epoch 74/100\n",
      "7/7 [==============================] - 0s 27ms/step - loss: 0.0463\n",
      "Epoch 75/100\n",
      "7/7 [==============================] - 0s 27ms/step - loss: 0.0543\n",
      "Epoch 76/100\n",
      "7/7 [==============================] - 0s 27ms/step - loss: 0.0283\n",
      "Epoch 77/100\n",
      "7/7 [==============================] - 0s 28ms/step - loss: 0.0338\n",
      "Epoch 78/100\n",
      "7/7 [==============================] - 0s 27ms/step - loss: 0.0514\n",
      "Epoch 79/100\n",
      "7/7 [==============================] - 0s 27ms/step - loss: 0.0337\n",
      "Epoch 80/100\n",
      "7/7 [==============================] - 0s 27ms/step - loss: 0.0357\n",
      "Epoch 81/100\n",
      "7/7 [==============================] - 0s 27ms/step - loss: 0.0336\n",
      "Epoch 82/100\n",
      "7/7 [==============================] - 0s 27ms/step - loss: 0.0426\n",
      "Epoch 83/100\n",
      "7/7 [==============================] - 0s 27ms/step - loss: 0.0396\n",
      "Epoch 84/100\n",
      "7/7 [==============================] - 0s 27ms/step - loss: 0.0363\n",
      "Epoch 85/100\n",
      "7/7 [==============================] - 0s 27ms/step - loss: 0.0443\n",
      "Epoch 86/100\n",
      "7/7 [==============================] - 0s 27ms/step - loss: 0.0347\n",
      "Epoch 87/100\n",
      "7/7 [==============================] - 0s 27ms/step - loss: 0.0233\n",
      "Epoch 88/100\n",
      "7/7 [==============================] - 0s 27ms/step - loss: 0.0384\n",
      "Epoch 89/100\n",
      "7/7 [==============================] - 0s 27ms/step - loss: 0.0289\n",
      "Epoch 90/100\n",
      "7/7 [==============================] - 0s 27ms/step - loss: 0.0278\n",
      "Epoch 91/100\n",
      "7/7 [==============================] - 0s 27ms/step - loss: 0.0409\n",
      "Epoch 92/100\n",
      "7/7 [==============================] - 0s 27ms/step - loss: 0.0379\n",
      "Epoch 93/100\n",
      "7/7 [==============================] - 0s 27ms/step - loss: 0.0480\n",
      "Epoch 94/100\n",
      "7/7 [==============================] - 0s 27ms/step - loss: 0.1114\n",
      "Epoch 95/100\n",
      "7/7 [==============================] - 0s 27ms/step - loss: 0.0393\n",
      "Epoch 96/100\n",
      "7/7 [==============================] - 0s 27ms/step - loss: 0.0423\n",
      "Epoch 97/100\n",
      "7/7 [==============================] - 0s 26ms/step - loss: 0.0443\n",
      "Epoch 98/100\n",
      "7/7 [==============================] - 0s 27ms/step - loss: 0.0302\n",
      "Epoch 99/100\n",
      "7/7 [==============================] - 0s 27ms/step - loss: 0.0301\n",
      "Epoch 100/100\n",
      "7/7 [==============================] - 0s 26ms/step - loss: 0.0466\n"
     ]
    },
    {
     "data": {
      "text/plain": [
       "<keras.callbacks.History at 0x2b00ebc5e700>"
      ]
     },
     "execution_count": 270,
     "metadata": {},
     "output_type": "execute_result"
    }
   ],
   "source": [
    "new_model.fit(input_array, output_array, \n",
    "              epochs=100, \n",
    "          batch_size=64,\n",
    "                shuffle=True\n",
    "            )"
   ]
  },
  {
   "cell_type": "code",
   "execution_count": 272,
   "id": "1c00a439",
   "metadata": {},
   "outputs": [],
   "source": [
    "new_model.save(\"./finetune_Skewness.h5\")"
   ]
  },
  {
   "cell_type": "raw",
   "id": "01859365",
   "metadata": {},
   "source": [
    "Training Fins Performance"
   ]
  },
  {
   "cell_type": "code",
   "execution_count": 18,
   "id": "39d0c56c",
   "metadata": {},
   "outputs": [],
   "source": [
    "#Make the model using the Fins\n",
    "\n",
    "# loading FINs\n",
    "m1 = load_model('finetune_Skewness.h5')\n",
    "m2 = load_model('finetune_Autocorrelation.h5')\n",
    "m3 = load_model('finetune_GrayLevelVariance.h5')\n",
    "m4 = load_model('finetune_RunLengthNonUniformity.h5')\n",
    "m5 = load_model('finetune_SizeZoneNonUniformity.h5')\n",
    "\n",
    "\n",
    "def MakeModel(modelname):\n",
    "    input_layer = keras.Input(shape=(512,512,1))\n",
    "    \n",
    "    l1 = m1(input_layer)\n",
    "    l2 = m2(input_layer)\n",
    "    l3 = m3(input_layer)\n",
    "    l4 = m4(input_layer)\n",
    "    l5 = m5(input_layer)\n",
    "\n",
    "    \n",
    "    n_d = concatenate([l1,l2\n",
    "                       ,l4,l3,l5\n",
    "                      ])\n",
    "    x = Dense(128, activation='relu')(n_d)\n",
    "    x = Dense(128, activation='relu')(x)\n",
    "\n",
    "    out = Dense(2, activation = 'softmax', name= modelname)(x)\n",
    "\n",
    "    model = keras.Model(input_layer, out, name= modelname)\n",
    "    \n",
    "    return model"
   ]
  },
  {
   "cell_type": "code",
   "execution_count": 19,
   "id": "5a889a56",
   "metadata": {},
   "outputs": [],
   "source": [
    "FinModel = MakeModel('Fin')"
   ]
  },
  {
   "cell_type": "code",
   "execution_count": 20,
   "id": "cf94aa9b",
   "metadata": {},
   "outputs": [
    {
     "name": "stdout",
     "output_type": "stream",
     "text": [
      "Model: \"Fin\"\n",
      "__________________________________________________________________________________________________\n",
      " Layer (type)                   Output Shape         Param #     Connected to                     \n",
      "==================================================================================================\n",
      " input_2 (InputLayer)           [(None, 512, 512, 1  0           []                               \n",
      "                                )]                                                                \n",
      "                                                                                                  \n",
      " model_15 (Functional)          (None, 1)            17842561    ['input_2[0][0]']                \n",
      "                                                                                                  \n",
      " model_14 (Functional)          (None, 1)            34669313    ['input_2[0][0]']                \n",
      "                                                                                                  \n",
      " model_8 (Functional)           (None, 1)            34714561    ['input_2[0][0]']                \n",
      "                                                                                                  \n",
      " model_10 (Functional)          (None, 1)            9443585     ['input_2[0][0]']                \n",
      "                                                                                                  \n",
      " model_6 (Functional)           (None, 1)            68486913    ['input_2[0][0]']                \n",
      "                                                                                                  \n",
      " concatenate_1 (Concatenate)    (None, 5)            0           ['model_15[0][0]',               \n",
      "                                                                  'model_14[0][0]',               \n",
      "                                                                  'model_8[0][0]',                \n",
      "                                                                  'model_10[0][0]',               \n",
      "                                                                  'model_6[0][0]']                \n",
      "                                                                                                  \n",
      " dense_2 (Dense)                (None, 128)          768         ['concatenate_1[0][0]']          \n",
      "                                                                                                  \n",
      " dense_3 (Dense)                (None, 128)          16512       ['dense_2[0][0]']                \n",
      "                                                                                                  \n",
      " Fin (Dense)                    (None, 2)            258         ['dense_3[0][0]']                \n",
      "                                                                                                  \n",
      "==================================================================================================\n",
      "Total params: 165,174,471\n",
      "Trainable params: 162,553,031\n",
      "Non-trainable params: 2,621,440\n",
      "__________________________________________________________________________________________________\n"
     ]
    }
   ],
   "source": [
    "FinModel.summary()"
   ]
  },
  {
   "cell_type": "code",
   "execution_count": 21,
   "id": "26b6c66b",
   "metadata": {},
   "outputs": [],
   "source": [
    "filename='history_fin.csv'\n",
    "history_logger=tf.keras.callbacks.CSVLogger(filename, separator=\",\", append=True)"
   ]
  },
  {
   "cell_type": "code",
   "execution_count": 22,
   "id": "671f89ca",
   "metadata": {},
   "outputs": [],
   "source": [
    "FinModel.compile(optimizer=tf.keras.optimizers.Adam(\n",
    " learning_rate= 0.001\n",
    "),\n",
    "              loss=tf.keras.losses.SparseCategoricalCrossentropy(),\n",
    "             metrics=['accuracy']\n",
    "                   )"
   ]
  },
  {
   "cell_type": "code",
   "execution_count": null,
   "id": "f332793f",
   "metadata": {},
   "outputs": [],
   "source": [
    "history_fin = FinModel.fit(traingroup[4], output_label_train[4], \n",
    "                validation_data=([testgroup[4],output_label_test[4]]), \n",
    "                batch_size=64,\n",
    "                epochs=10, callbacks=[history_logger])"
   ]
  },
  {
   "cell_type": "code",
   "execution_count": 17,
   "id": "69e81cec",
   "metadata": {},
   "outputs": [],
   "source": [
    "# hist_df = pd.DataFrame(history_fin.history) \n",
    "# hist_csv_file = 'history_fin.csv'\n",
    "# with open(hist_csv_file, mode='w') as f:\n",
    "#     hist_df.to_csv(f)"
   ]
  },
  {
   "cell_type": "markdown",
   "id": "0fa0c4db",
   "metadata": {},
   "source": [
    "# Plot Graph"
   ]
  },
  {
   "cell_type": "code",
   "execution_count": 73,
   "id": "fb2d203b",
   "metadata": {},
   "outputs": [
    {
     "data": {
      "image/png": "[encoded data removed]",
      "text/plain": [
       "<Figure size 432x288 with 1 Axes>"
      ]
     },
     "metadata": {
      "needs_background": "light"
     },
     "output_type": "display_data"
    }
   ],
   "source": [
    "\n",
    "\n",
    "plt.plot(history_fin1.history['val_accuracy'])\n",
    "plt.plot(history_fin2.history['val_accuracy'])\n",
    "plt.plot(history_sn.history['val_accuracy'])\n",
    "\n",
    "plt.title('model accuracy')\n",
    "plt.ylabel('accuracy')\n",
    "plt.xlabel('epoch')\n",
    "plt.legend(['FIN','FIN2' ,'Normal NN'], loc='lower right')\n",
    "plt.show()"
   ]
  },
  {
   "cell_type": "code",
   "execution_count": 74,
   "id": "2709a809",
   "metadata": {},
   "outputs": [
    {
     "data": {
      "image/png": "[encoded data removed]",
      "text/plain": [
       "<Figure size 432x288 with 1 Axes>"
      ]
     },
     "metadata": {
      "needs_background": "light"
     },
     "output_type": "display_data"
    }
   ],
   "source": [
    "plt.plot(history_fin.history['val_loss'])\n",
    "plt.plot(history_fin2.history['val_loss'])\n",
    "plt.plot(history_sn.history['val_loss'])\n",
    "plt.title('model loss')\n",
    "plt.ylabel('loss')\n",
    "plt.xlabel('epoch')\n",
    "plt.legend(['FIN','FIN2', 'Normal NN'], loc='upper left')\n",
    "plt.show()"
   ]
  },
  {
   "cell_type": "code",
   "execution_count": null,
   "id": "ec91950d",
   "metadata": {},
   "outputs": [],
   "source": []
  }
 ],
 "metadata": {
  "kernelspec": {
   "display_name": "Python 3 (ipykernel)",
   "language": "python",
   "name": "python3"
  },
  "language_info": {
   "codemirror_mode": {
    "name": "ipython",
    "version": 3
   },
   "file_extension": ".py",
   "mimetype": "text/x-python",
   "name": "python",
   "nbconvert_exporter": "python",
   "pygments_lexer": "ipython3",
   "version": "3.9.12"
  }
 },
 "nbformat": 4,
 "nbformat_minor": 5
}
