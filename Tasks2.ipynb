{
 "cells": [
  {
   "cell_type": "code",
   "execution_count": 30,
   "id": "9494204b",
   "metadata": {},
   "outputs": [],
   "source": [
    "import numpy as np\n",
    "from numpy import random\n",
    "import matplotlib.pyplot as plt\n",
    "from scipy.signal import cwt,ricker\n",
    "from scipy import stats\n",
    "from sklearn.preprocessing import StandardScaler,normalize\n",
    "import tensorflow as tf\n",
    "import tensorflow.keras as keras\n",
    "import tensorflow.keras.optimizers\n",
    "from tensorflow.keras.models import Sequential\n",
    "from keras.callbacks import EarlyStopping\n",
    "from keras.models import load_model\n",
    "from tensorflow.keras.layers import Flatten,concatenate,Layer,Dense,LSTM,Activation,MaxPooling2D,Dropout,Conv2D,BatchNormalization,Reshape,UpSampling2D,ZeroPadding2D"
   ]
  },
  {
   "cell_type": "code",
   "execution_count": 31,
   "id": "4e4151bb",
   "metadata": {},
   "outputs": [],
   "source": [
    "random.seed(1314)\n",
    "\n",
    "def Mean(data):\n",
    "    return np.mean(data,axis=1)\n",
    "\n",
    "def Std(data):\n",
    "    return np.std(data,axis=1)\n",
    "\n",
    "def Var(data):\n",
    "    return np.var(data,axis=1)"
   ]
  },
  {
   "cell_type": "markdown",
   "id": "f2bfeeab",
   "metadata": {},
   "source": [
    "Preset Data"
   ]
  },
  {
   "cell_type": "code",
   "execution_count": 32,
   "id": "2ff2bb36",
   "metadata": {},
   "outputs": [],
   "source": [
    "random_data = np.random.randint(10, size=(1000,100, 1) )"
   ]
  },
  {
   "cell_type": "markdown",
   "id": "a9835d3a",
   "metadata": {},
   "source": [
    "# Mean"
   ]
  },
  {
   "cell_type": "code",
   "execution_count": 51,
   "id": "52c9196f",
   "metadata": {},
   "outputs": [],
   "source": [
    "feature_data = Mean(random_data)"
   ]
  },
  {
   "cell_type": "code",
   "execution_count": 52,
   "id": "fbf25cbb",
   "metadata": {},
   "outputs": [],
   "source": [
    "mean_model = Sequential([\n",
    "    keras.layers.Flatten(input_shape=(100,1)),\n",
    "    #keras.layers.Dense(128,activation= 'relu'),\n",
    "    keras.layers.Dense(64,activation= 'relu'),\n",
    "    keras.layers.Dense(32,activation= 'relu'),\n",
    "    keras.layers.Dense(16,activation= 'relu'),\n",
    "    keras.layers.Dense(8,activation= 'relu'),\n",
    "    keras.layers.Dense(4,activation= 'relu'),\n",
    "    keras.layers.Dense(2,activation= 'relu'),\n",
    "    keras.layers.Dense(1,activation= 'linear')\n",
    "    \n",
    "])\n",
    "\n",
    "mean_model.compile(optimizer=\"adam\", loss=\"mean_squared_error\")\n"
   ]
  },
  {
   "cell_type": "code",
   "execution_count": 53,
   "id": "0462f327",
   "metadata": {},
   "outputs": [
    {
     "name": "stdout",
     "output_type": "stream",
     "text": [
      "Epoch 1/50\n",
      "32/32 [==============================] - 1s 4ms/step - loss: 5.6364\n",
      "Epoch 2/50\n",
      "32/32 [==============================] - 0s 3ms/step - loss: 0.2019\n",
      "Epoch 3/50\n",
      "32/32 [==============================] - 0s 2ms/step - loss: 0.1077\n",
      "Epoch 4/50\n",
      "32/32 [==============================] - 0s 3ms/step - loss: 0.0862\n",
      "Epoch 5/50\n",
      "32/32 [==============================] - 0s 2ms/step - loss: 0.0661\n",
      "Epoch 6/50\n",
      "32/32 [==============================] - 0s 2ms/step - loss: 0.0521\n",
      "Epoch 7/50\n",
      "32/32 [==============================] - 0s 2ms/step - loss: 0.0403\n",
      "Epoch 8/50\n",
      "32/32 [==============================] - 0s 2ms/step - loss: 0.0333\n",
      "Epoch 9/50\n",
      "32/32 [==============================] - 0s 2ms/step - loss: 0.0278\n",
      "Epoch 10/50\n",
      "32/32 [==============================] - 0s 2ms/step - loss: 0.0214\n",
      "Epoch 11/50\n",
      "32/32 [==============================] - 0s 3ms/step - loss: 0.0187\n",
      "Epoch 12/50\n",
      "32/32 [==============================] - 0s 3ms/step - loss: 0.0139\n",
      "Epoch 13/50\n",
      "32/32 [==============================] - 0s 3ms/step - loss: 0.0134\n",
      "Epoch 14/50\n",
      "32/32 [==============================] - 0s 2ms/step - loss: 0.0107\n",
      "Epoch 15/50\n",
      "32/32 [==============================] - 0s 2ms/step - loss: 0.0085\n",
      "Epoch 16/50\n",
      "32/32 [==============================] - 0s 2ms/step - loss: 0.0094\n",
      "Epoch 17/50\n",
      "32/32 [==============================] - 0s 3ms/step - loss: 0.0062\n",
      "Epoch 18/50\n",
      "32/32 [==============================] - 0s 2ms/step - loss: 0.0051\n",
      "Epoch 19/50\n",
      "32/32 [==============================] - 0s 4ms/step - loss: 0.0047\n",
      "Epoch 20/50\n",
      "32/32 [==============================] - 0s 2ms/step - loss: 0.0037\n",
      "Epoch 21/50\n",
      "32/32 [==============================] - 0s 2ms/step - loss: 0.0034\n",
      "Epoch 22/50\n",
      "32/32 [==============================] - 0s 2ms/step - loss: 0.0029\n",
      "Epoch 23/50\n",
      "32/32 [==============================] - 0s 3ms/step - loss: 0.0029\n",
      "Epoch 24/50\n",
      "32/32 [==============================] - 0s 2ms/step - loss: 0.0026\n",
      "Epoch 25/50\n",
      "32/32 [==============================] - 0s 2ms/step - loss: 0.0020\n",
      "Epoch 26/50\n",
      "32/32 [==============================] - 0s 2ms/step - loss: 0.0022\n",
      "Epoch 27/50\n",
      "32/32 [==============================] - 0s 2ms/step - loss: 0.0017\n",
      "Epoch 28/50\n",
      "32/32 [==============================] - 0s 2ms/step - loss: 0.0016\n",
      "Epoch 29/50\n",
      "32/32 [==============================] - 0s 2ms/step - loss: 0.0016\n",
      "Epoch 30/50\n",
      "32/32 [==============================] - 0s 2ms/step - loss: 0.0013\n",
      "Epoch 31/50\n",
      "32/32 [==============================] - 0s 2ms/step - loss: 0.0011\n",
      "Epoch 32/50\n",
      "32/32 [==============================] - 0s 3ms/step - loss: 0.0012\n",
      "Epoch 33/50\n",
      "32/32 [==============================] - 0s 2ms/step - loss: 0.0011\n",
      "Epoch 34/50\n",
      "32/32 [==============================] - 0s 2ms/step - loss: 0.0010\n",
      "Epoch 35/50\n",
      "32/32 [==============================] - 0s 2ms/step - loss: 8.8156e-04\n",
      "Epoch 36/50\n",
      "32/32 [==============================] - 0s 2ms/step - loss: 7.8192e-04\n",
      "Epoch 37/50\n",
      "32/32 [==============================] - 0s 4ms/step - loss: 7.7355e-04\n",
      "Epoch 38/50\n",
      "32/32 [==============================] - 0s 2ms/step - loss: 6.8998e-04\n",
      "Epoch 39/50\n",
      "32/32 [==============================] - 0s 2ms/step - loss: 7.3780e-04\n",
      "Epoch 40/50\n",
      "32/32 [==============================] - 0s 4ms/step - loss: 7.2398e-04\n",
      "Epoch 41/50\n",
      "32/32 [==============================] - 0s 2ms/step - loss: 5.9162e-04\n",
      "Epoch 42/50\n",
      "32/32 [==============================] - 0s 6ms/step - loss: 5.4352e-04\n",
      "Epoch 43/50\n",
      "32/32 [==============================] - 0s 2ms/step - loss: 5.7743e-04\n",
      "Epoch 44/50\n",
      "32/32 [==============================] - 0s 3ms/step - loss: 4.5250e-04\n",
      "Epoch 45/50\n",
      "32/32 [==============================] - 0s 4ms/step - loss: 4.5203e-04\n",
      "Epoch 46/50\n",
      "32/32 [==============================] - 0s 2ms/step - loss: 4.4572e-04\n",
      "Epoch 47/50\n",
      "32/32 [==============================] - 0s 3ms/step - loss: 4.3899e-04\n",
      "Epoch 48/50\n",
      "32/32 [==============================] - 0s 3ms/step - loss: 4.5045e-04\n",
      "Epoch 49/50\n",
      "32/32 [==============================] - 0s 4ms/step - loss: 3.6467e-04\n",
      "Epoch 50/50\n",
      "32/32 [==============================] - 0s 4ms/step - loss: 5.5234e-04\n"
     ]
    },
    {
     "data": {
      "text/plain": [
       "<tensorflow.python.keras.callbacks.History at 0x7fb64c39e250>"
      ]
     },
     "execution_count": 53,
     "metadata": {},
     "output_type": "execute_result"
    }
   ],
   "source": [
    "mean_model.fit(random_data, feature_data, epochs= 50)"
   ]
  },
  {
   "cell_type": "code",
   "execution_count": 54,
   "id": "479f9225",
   "metadata": {},
   "outputs": [
    {
     "data": {
      "text/plain": [
       "[<matplotlib.lines.Line2D at 0x7fb64c1ed940>,\n",
       " <matplotlib.lines.Line2D at 0x7fb64c1ed970>]"
      ]
     },
     "execution_count": 54,
     "metadata": {},
     "output_type": "execute_result"
    },
    {
     "data": {
      "image/png": "[encoded data removed]",
      "text/plain": [
       "<Figure size 432x288 with 1 Axes>"
      ]
     },
     "metadata": {
      "needs_background": "light"
     },
     "output_type": "display_data"
    }
   ],
   "source": [
    "Predirect_arr = np.random.randint(10, size=(30,100, 1))\n",
    "plt.plot(range(30),np.mean(Predirect_arr, axis=1),range(30),mean_model.predict(Predirect_arr))"
   ]
  },
  {
   "cell_type": "code",
   "execution_count": null,
   "id": "bf47de80",
   "metadata": {},
   "outputs": [],
   "source": []
  }
 ],
 "metadata": {
  "kernelspec": {
   "display_name": "Python [conda env:root] *",
   "language": "python",
   "name": "conda-root-py"
  },
  "language_info": {
   "codemirror_mode": {
    "name": "ipython",
    "version": 3
   },
   "file_extension": ".py",
   "mimetype": "text/x-python",
   "name": "python",
   "nbconvert_exporter": "python",
   "pygments_lexer": "ipython3",
   "version": "3.8.8"
  }
 },
 "nbformat": 4,
 "nbformat_minor": 5
}
