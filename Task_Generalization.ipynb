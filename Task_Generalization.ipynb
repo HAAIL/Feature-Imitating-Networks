{
 "cells": [
  {
   "cell_type": "code",
   "execution_count": 2,
   "id": "76461518",
   "metadata": {},
   "outputs": [],
   "source": [
    "import numpy as np\n",
    "from numpy import random\n",
    "import random\n",
    "import matplotlib.pyplot as plt\n",
    "from scipy.signal import cwt,ricker\n",
    "from scipy import stats\n",
    "from sklearn.preprocessing import StandardScaler,normalize\n",
    "from sklearn.preprocessing import MinMaxScaler\n",
    "import tensorflow as tf\n",
    "import tensorflow.keras as keras\n",
    "import tensorflow.keras.optimizers\n",
    "from tensorflow.keras.layers import Input\n",
    "from tensorflow.keras.models import Sequential, Model\n",
    "from keras.callbacks import EarlyStopping\n",
    "from keras.models import load_model\n",
    "from tensorflow.keras.layers import Flatten,concatenate,Layer,Dense,LSTM,Activation,MaxPooling2D,Dropout,Conv2D,BatchNormalization,Reshape,UpSampling2D,ZeroPadding2D"
   ]
  },
  {
   "cell_type": "code",
   "execution_count": 3,
   "id": "218be5f9",
   "metadata": {},
   "outputs": [],
   "source": [
    "random.seed(1314)\n",
    "\n",
    "def Mean(data):\n",
    "    return np.mean(data,axis=1)\n",
    "\n",
    "def Std(data):\n",
    "    return np.std(data,axis=1)\n",
    "\n",
    "def Var(data):\n",
    "    return np.var(data,axis=1)\n"
   ]
  },
  {
   "cell_type": "code",
   "execution_count": 61,
   "id": "898b645a",
   "metadata": {},
   "outputs": [],
   "source": [
    "random_data1 = (np.random.normal(10,4,200000)).reshape(20000,10,1)\n",
    "random_data2 = (np.random.normal(80,20,200000)).reshape(20000,10,1)\n",
    "random_data3 = (np.random.normal(200,60,200000)).reshape(20000,10,1)\n",
    "random_data4 = (np.random.normal(400,80,200000)).reshape(20000,10,1)\n",
    "random_data5 = (np.random.normal(100,40,200000)).reshape(20000,10,1)\n",
    "random_data6 = (np.random.normal(300,80,200000)).reshape(20000,10,1)\n",
    "random_data7 = (np.random.normal(450,110,200000)).reshape(20000,10,1)\n",
    "random_data8 = (np.random.normal(600,300,200000)).reshape(20000,10,1)\n",
    "random_data9 = (np.random.normal(500,200,200000)).reshape(20000,10,1)\n",
    "random_data_stdweight = np.random.uniform(0,1000, size=(10000,50, 1))\n",
    "\n",
    "dd = np.concatenate( (random_data1,random_data2) )\n",
    "dd = np.concatenate( (dd,random_data3) )\n",
    "dd = np.concatenate( (dd,random_data4) )\n",
    "dd = np.concatenate( (dd,random_data5) )\n",
    "dd = np.concatenate( (dd,random_data6) )\n",
    "dd = np.concatenate( (dd,random_data7) )\n",
    "dd = np.concatenate( (dd,random_data8) )\n",
    "dd = np.concatenate( (dd,random_data9) )\n",
    "\n",
    "\n",
    "\n",
    "np.random.shuffle(dd)\n",
    "f_mdd = Mean(dd)\n",
    "f_dd = Std(dd)\n",
    "#print(dd.shape)\n",
    "\n",
    "# random_data1 = (np.random.normal(10,5,10000)).reshape(1000,10,1)\n",
    "# random_data2 = (np.random.normal(50,50,10000)).reshape(1000,10,1)\n",
    "# random_data3 = (np.random.normal(100,100,10000)).reshape(1000,10,1)\n",
    "# random_data4 = (np.random.normal(500,200,10000)).reshape(1000,10,1)\n",
    "# random_data5 = (np.random.normal(1000,200,10000)).reshape(1000,10,1)\n",
    "# random_data6 = (np.random.normal(5000,1000,10000)).reshape(1000,10,1)\n",
    "# random_data7 = (np.random.normal(10000,2500,10000)).reshape(1000,10,1)\n",
    "# random_data8 = (np.random.normal(50000,5000,10000)).reshape(1000,10,1)\n",
    "# random_data9 = (np.random.normal(100000,20000,10000)).reshape(1000,10,1)\n",
    "\n",
    "#data = np.concatenate((random_data1,random_data2),axis=0)"
   ]
  },
  {
   "cell_type": "code",
   "execution_count": 61,
   "id": "bf7ec4ae",
   "metadata": {},
   "outputs": [],
   "source": [
    "#random_data1 = (np.random.normal(1000,20,200000)).reshape(20000,10,1)"
   ]
  },
  {
   "cell_type": "code",
   "execution_count": 62,
   "id": "1f84ff4e",
   "metadata": {},
   "outputs": [],
   "source": [
    "# random_data10 = (np.random.normal(1000900,800000,100000)).reshape(2000,50,1)\n",
    "# feature_data10 = Mean(random_data10)\n",
    "# plt.plot(np.random.normal(1000,10,200))"
   ]
  },
  {
   "cell_type": "code",
   "execution_count": 165,
   "id": "8146c212",
   "metadata": {},
   "outputs": [],
   "source": [
    "feature_data1 = Mean(random_data1)\n",
    "feature_data2 = Mean(random_data2)\n",
    "feature_data3 = Mean(random_data3)\n",
    "feature_data4 = Mean(random_data4)\n",
    "feature_data5 = Mean(random_data5)\n",
    "feature_data6 = Mean(random_data6)\n",
    "feature_data7 = Mean(random_data7)\n",
    "feature_data8 = Mean(random_data8)\n",
    "feature_data9 = Mean(random_data9)\n"
   ]
  },
  {
   "cell_type": "markdown",
   "id": "3612ab5b",
   "metadata": {},
   "source": [
    "# Mean LSTM Model"
   ]
  },
  {
   "cell_type": "code",
   "execution_count": 108,
   "id": "65a3b975",
   "metadata": {},
   "outputs": [],
   "source": [
    "mean_LSTMmodel= None\n",
    "mean_LSTMmodel = Sequential()\n",
    "\n",
    "mean_LSTMmodel.add(LSTM(32,input_shape=(10,1),activation='relu', return_sequences = False))\n",
    "#mean_LSTMmodel.add(Dropout(0.2))\n",
    "#mean_LSTMmodel.add(LSTM(128,activation='relu',return_sequences = True))\n",
    "#mean_LSTMmodel.add(Dropout(0.5))\n",
    "#mean_LSTMmodel.add(LSTM(16,activation='relu',return_sequences = False))\n",
    "# mean_LSTMmodel.add(LSTM(32,activation='relu',return_sequences = True))\n",
    "# mean_LSTMmodel.add(LSTM(32,activation='relu',return_sequences = True))\n",
    "# mean_LSTMmodel.add(LSTM(128,activation='relu',return_sequences = True))\n",
    "# mean_LSTMmodel.add(Dropout(0.2))\n",
    "#mean_LSTMmodel.add(LSTM(32,activation='relu',return_sequences = False))\n",
    "#mean_LSTMmodel.add(Dense(128, activation ='relu'))\n",
    "#mean_LSTMmodel.add(Dense(64, activation ='relu'))\n",
    "\n",
    "#mean_LSTMmodel.add(Dense(64, activation ='relu'))\n",
    "mean_LSTMmodel.add(Dense(16, activation ='relu'))\n",
    "#mean_LSTMmodel.add(Dense(32, activation ='relu'))\n",
    "mean_LSTMmodel.add(Dense(1, activation ='linear'))\n",
    "\n",
    "\n"
   ]
  },
  {
   "cell_type": "code",
   "execution_count": 109,
   "id": "a0358f81",
   "metadata": {},
   "outputs": [],
   "source": [
    "mean_LSTMmodel.compile(optimizer=\"adam\", loss=\"mean_squared_error\")"
   ]
  },
  {
   "cell_type": "code",
   "execution_count": 174,
   "id": "1870f6cd",
   "metadata": {
    "scrolled": true
   },
   "outputs": [],
   "source": [
    "#mean_LSTMmodel.fit(random_data1, feature_data1, epochs= 1000)\n",
    "#mean_LSTMmodel.fit(random_data2, feature_data2, epochs= 1000)\n",
    "#mean_LSTMmodel.fit(random_data3, feature_data3, epochs= 1000)\n",
    "#mean_LSTMmodel.fit(random_data4, feature_data4, epochs= 1000)\n",
    "#mean_LSTMmodel.fit(random_data5, feature_data5, epochs= 1000)\n",
    "#mean_LSTMmodel.fit(random_data6, feature_data6, epochs= 1000)\n",
    "#mean_LSTMmodel.fit(random_data7, feature_data7, epochs= 1000)\n",
    "#mean_LSTMmodel.fit(random_data8, feature_data8, epochs= 1000)\n",
    "#mean_LSTMmodel.fit(random_data9, feature_data9, epochs= 1000)\n",
    "#mean_LSTMmodel.fit(random_data10, feature_data10, epochs= 1000)"
   ]
  },
  {
   "cell_type": "code",
   "execution_count": 6,
   "id": "de619630",
   "metadata": {},
   "outputs": [],
   "source": [
    "Predirect_arr1 = np.random.uniform(100, size=(30,10, 1))\n",
    "Predirect_arr2 = (np.random.normal(10,4,300)).reshape(30,10,1)\n",
    "Predirect_arr3 = (np.random.normal(50,10,300)).reshape(30,10,1)\n",
    "Predirect_arr4 = (np.random.normal(100,40,300)).reshape(30,10,1)\n",
    "Predirect_arr5 = (np.random.normal(500,250,300)).reshape(30,10,1)\n",
    "Predirect_arr6 = np.random.uniform(500, size=(30,10, 1))\n",
    "Predirect_arr7 = (np.random.normal(1000900,800000,300)).reshape(30,10,1)\n",
    "\n",
    "std_predict1 = Std(Predirect_arr1)\n",
    "\n",
    "\n",
    "# Predirect_arr1 = np.random.uniform(100, size=(30,50, 1))\n",
    "# Predirect_arr2 = (np.random.normal(10,4,1500)).reshape(30,50,1)\n",
    "# Predirect_arr3 = (np.random.normal(50,10,1500)).reshape(30,50,1)\n",
    "# Predirect_arr4 = (np.random.normal(100,40,1500)).reshape(30,50,1)\n",
    "# Predirect_arr5 = (np.random.normal(500,250,1500)).reshape(30,50,1)\n",
    "# Predirect_arr6 = np.random.uniform(500, size=(30,50, 1))\n",
    "# Predirect_arr7 = (np.random.normal(1000900,800000,1500)).reshape(30,50,1)\n",
    "\n",
    "#print(np.mean(Predirect_arr7, axis=1))\n",
    "#print(mean_LSTMmodel.predict(Predirect_arr7))\n",
    "# plt.plot(range(30),np.mean(Predirect_arr1, axis=1),range(30), mean_LSTMmodel.predict(Predirect_arr1))\n",
    "# plt.plot(range(30),np.mean(Predirect_arr2, axis=1),range(30), mean_LSTMmodel.predict(Predirect_arr2))\n",
    "# plt.plot(range(30),np.mean(Predirect_arr3, axis=1),range(30), mean_LSTMmodel.predict(Predirect_arr3))\n",
    "#plt.plot(range(30),np.mean(Predirect_arr4, axis=1),range(30), mean_LSTMmodel.predict(Predirect_arr4))\n",
    "#plt.plot(range(30),np.mean(Predirect_arr5, axis=1),range(30), mean_LSTMmodel.predict(Predirect_arr5))\n",
    "#plt.plot(range(30),np.mean(Predirect_arr6, axis=1),range(30), mean_LSTMmodel.predict(Predirect_arr6))\n",
    "#plt.plot(range(30),np.mean(Predirect_arr7, axis=1),range(30), mean_LSTMmodel.predict(Predirect_arr7))"
   ]
  },
  {
   "cell_type": "code",
   "execution_count": 31,
   "id": "6f63a03a",
   "metadata": {},
   "outputs": [
    {
     "ename": "NameError",
     "evalue": "name 'mean_LSTMmodel' is not defined",
     "output_type": "error",
     "traceback": [
      "\u001b[0;31m---------------------------------------------------------------------------\u001b[0m",
      "\u001b[0;31mNameError\u001b[0m                                 Traceback (most recent call last)",
      "Input \u001b[0;32mIn [31]\u001b[0m, in \u001b[0;36m<cell line: 8>\u001b[0;34m()\u001b[0m\n\u001b[1;32m      6\u001b[0m np\u001b[38;5;241m.\u001b[39mrandom\u001b[38;5;241m.\u001b[39mshuffle(random_data_diff )\n\u001b[1;32m      7\u001b[0m random_data_diff \u001b[38;5;241m=\u001b[39m random_data_diff\u001b[38;5;241m.\u001b[39mreshape(\u001b[38;5;241m40\u001b[39m,\u001b[38;5;241m10\u001b[39m,\u001b[38;5;241m1\u001b[39m)\n\u001b[0;32m----> 8\u001b[0m plt\u001b[38;5;241m.\u001b[39mplot(\u001b[38;5;28mrange\u001b[39m(\u001b[38;5;241m40\u001b[39m),np\u001b[38;5;241m.\u001b[39mmean(random_data_diff, axis\u001b[38;5;241m=\u001b[39m\u001b[38;5;241m1\u001b[39m),\u001b[38;5;28mrange\u001b[39m(\u001b[38;5;241m40\u001b[39m), \u001b[43mmean_LSTMmodel\u001b[49m\u001b[38;5;241m.\u001b[39mpredict(random_data_diff))\n",
      "\u001b[0;31mNameError\u001b[0m: name 'mean_LSTMmodel' is not defined"
     ]
    }
   ],
   "source": [
    "# data set that has large difference\n",
    "random_data_rand1 = np.random.uniform(0,50, size=(200))\n",
    "random_data_rand2 = np.random.uniform(800000,1000000, size=(200))\n",
    "\n",
    "random_data_diff = np.concatenate((random_data_rand1 ,random_data_rand2))\n",
    "np.random.shuffle(random_data_diff )\n",
    "random_data_diff = random_data_diff.reshape(40,10,1)\n",
    "plt.plot(range(40),np.mean(random_data_diff, axis=1),range(40), mean_LSTMmodel.predict(random_data_diff))"
   ]
  },
  {
   "cell_type": "code",
   "execution_count": 173,
   "id": "1037ad25",
   "metadata": {},
   "outputs": [],
   "source": [
    "#mean_LSTMmodel.save(\"./LSTMfinalMean.h5\")"
   ]
  },
  {
   "cell_type": "markdown",
   "id": "29d19e05",
   "metadata": {},
   "source": [
    "# STD Model"
   ]
  },
  {
   "cell_type": "code",
   "execution_count": 214,
   "id": "a92f7483",
   "metadata": {},
   "outputs": [
    {
     "name": "stdout",
     "output_type": "stream",
     "text": [
      "(10000, 10, 1)\n"
     ]
    }
   ],
   "source": [
    "low_float = list(range(1,200))\n",
    "#random_data1 = (np.random.normal(20,6,200000)).reshape(20000,10,1)\n",
    "#sample1 = random.choices(low_float, k = 10)\n",
    "random_data1 = []\n",
    "for i in range(10000):\n",
    "    random_data1.append(random.choices(low_float, k = 10))\n",
    "random_data1 = np.array(random_data1)\n",
    "random_data1 = random_data1.reshape(10000,10,1)\n",
    "\n",
    "\n",
    "std_data1 = Std(random_data1)\n",
    "mean_data1 = Mean(random_data1)\n",
    "# std_data2 = Std(random_data2)\n",
    "# std_data3 = Std(random_data3)\n",
    "# std_data4 = Std(random_data4)\n",
    "# std_data5 = Std(random_data5)\n",
    "# std_data6 = Std(random_data6)\n",
    "# std_data7 = Std(random_data7)\n",
    "# std_data8 = Std(random_data8)\n",
    "# std_data9 = Std(random_data9)\n",
    "# std_data10 = Std(random_data10)\n",
    "#std_data_stdweight = Std(random_data_stdweight)\n",
    "print(random_data1.shape)"
   ]
  },
  {
   "cell_type": "code",
   "execution_count": 15,
   "id": "8da8aebc",
   "metadata": {},
   "outputs": [],
   "source": [
    "std_LSTMmodel= None\n",
    "\n",
    "std_LSTMmodel = Sequential()\n",
    "\n",
    "std_LSTMmodel.add(LSTM(128,input_shape=(10,1),activation='relu', return_sequences = False))\n",
    "\n",
    "\n",
    "std_LSTMmodel.add(Dropout(0.0001))\n",
    "\n",
    "\n",
    "\n",
    "std_LSTMmodel.add(Dense(1, activation ='linear'))\n",
    "\n",
    "\n",
    "\n",
    "\n",
    "# std_LSTMmodel = Sequential()\n",
    "\n",
    "# std_LSTMmodel.add(LSTM(64,input_shape=(50,1),activation='relu', return_sequences = False))\n",
    "\n",
    "# std_LSTMmodel.add(Dropout(0.2))\n",
    "# std_LSTMmodel.add(Dense(16, activation ='relu'))\n",
    "# std_LSTMmodel.add(Dropout(0.2))\n",
    "# std_LSTMmodel.add(Dense(1, activation ='linear'))\n"
   ]
  },
  {
   "cell_type": "code",
   "execution_count": 16,
   "id": "9c7fad5a",
   "metadata": {},
   "outputs": [],
   "source": [
    "#clipvalue=0.0001\n",
    "optimizer = keras.optimizers.Adam()\n",
    "std_LSTMmodel.compile(optimizer=optimizer, loss=\"mse\")"
   ]
  },
  {
   "cell_type": "code",
   "execution_count": 17,
   "id": "29ab43bd",
   "metadata": {},
   "outputs": [],
   "source": [
    "#std_LSTMmodel = load_model('./LSTMfinalStdverynice.h5')"
   ]
  },
  {
   "cell_type": "code",
   "execution_count": 30,
   "id": "37aea0b3",
   "metadata": {},
   "outputs": [],
   "source": [
    "#checkpoint = keras.callbacks.ModelCheckpoint('./LSTMfinalStd106.h5', save_freq='epoch' ) \n",
    "\n",
    "#std_LSTMmodel.fit(dd, f_dd, epochs=500, batch_size=128, callbacks=[checkpoint])\n",
    "\n",
    "#std_LSTMmodel.fit(random_data_diff, std_random_data_diff, epochs=500, batch_size=64)\n",
    "#std_LSTMmodel.fit(dd, f_dd, epochs=500, batch_size=128)\n",
    "\n",
    "#std_LSTMmodel.fit(random_data_stdweight, std_data_stdweight, epochs= 100)\n",
    "\n",
    "#std_LSTMmodel.fit(random_data1, std_data1,batch_size=128, epochs= 400)\n",
    "#std_LSTMmodel.fit(random_data2, std_data2, epochs= 100)\n",
    "#std_LSTMmodel.fit(random_data3, std_data3, epochs= 100)\n",
    "#std_LSTMmodel.fit(random_data4, std_data4, epochs= 100)\n",
    "#std_LSTMmodel.fit(random_data5, std_data5, epochs= 100)\n",
    "#std_LSTMmodel.fit(random_data6, std_data6, epochs= 100)\n",
    "#std_LSTMmodel.fit(random_data7, std_data7, epochs= 100)\n",
    "#std_LSTMmodel.fit(random_data8, std_data8, epochs= 100)\n",
    "#std_LSTMmodel.fit(random_data9, std_data9, epochs= 100)\n",
    "#std_LSTMmodel.fit(random_data10, std_data10, epochs= 100)"
   ]
  },
  {
   "cell_type": "code",
   "execution_count": 32,
   "id": "57ffd84c",
   "metadata": {},
   "outputs": [
    {
     "name": "stdout",
     "output_type": "stream",
     "text": [
      "1/1 [==============================] - 0s 18ms/step\n"
     ]
    },
    {
     "data": {
      "text/plain": [
       "[<matplotlib.lines.Line2D at 0x2ba9e7edbbb0>,\n",
       " <matplotlib.lines.Line2D at 0x2ba9e7edbc10>]"
      ]
     },
     "execution_count": 32,
     "metadata": {},
     "output_type": "execute_result"
    },
    {
     "data": {
      "image/png": "[encoded data removed]",
      "text/plain": [
       "<Figure size 432x288 with 1 Axes>"
      ]
     },
     "metadata": {
      "needs_background": "light"
     },
     "output_type": "display_data"
    }
   ],
   "source": [
    "\n",
    "#plt.plot(range(30),np.std(Predirect_arr1, axis=1),range(30), std_LSTMmodel.predict(Predirect_arr1))\n",
    "#plt.plot(range(30),np.std(Predirect_arr2, axis=1),range(30), std_LSTMmodel.predict(Predirect_arr2))\n",
    "#plt.plot(range(30),np.std(Predirect_arr3, axis=1),range(30), std_LSTMmodel.predict(Predirect_arr3))\n",
    "#plt.plot(range(30),np.std(Predirect_arr4, axis=1),range(30), std_LSTMmodel.predict(Predirect_arr4))\n",
    "#plt.plot(range(30),np.std(Predirect_arr5, axis=1),range(30), std_LSTMmodel.predict(Predirect_arr5))\n",
    "#plt.plot(range(30),np.std(Predirect_arr6, axis=1),range(30), std_LSTMmodel.predict(Predirect_arr6))\n",
    "#plt.plot(range(30),np.std(Predirect_arr7, axis=1),range(30), std_LSTMmodel.predict(Predirect_arr7))"
   ]
  },
  {
   "cell_type": "code",
   "execution_count": 28,
   "id": "ebf0fe8f",
   "metadata": {},
   "outputs": [],
   "source": [
    "#data set that has large difference\n",
    "random_data_rand1 = np.random.uniform(0,20, size=(20000))\n",
    "random_data_rand2 = np.random.uniform(480,500, size=(20000))\n",
    "random_data_diff = np.concatenate((random_data_rand1 ,random_data_rand2))\n",
    "np.random.shuffle(random_data_diff )\n",
    "random_data_diff = random_data_diff.reshape(4000,10,1)\n",
    "mean_random_data_diff = Mean(random_data_diff)\n",
    "std_random_data_diff = Std(random_data_diff)\n",
    "\n",
    "\n",
    "#plt.plot(range(40),np.std(random_data_diff, axis=1),range(40), std_LSTMmodel.predict(random_data_diff))"
   ]
  },
  {
   "cell_type": "code",
   "execution_count": 16,
   "id": "4d5f0d5e",
   "metadata": {},
   "outputs": [],
   "source": [
    "# t1 = (np.random.normal(1000,20,300)).reshape(30,10,1)\n",
    "# plt.plot(range(30),np.std(t1, axis=1),range(30), std_LSTMmodel.predict(t1))"
   ]
  },
  {
   "cell_type": "code",
   "execution_count": 145,
   "id": "18f8cba5",
   "metadata": {},
   "outputs": [
    {
     "name": "stdout",
     "output_type": "stream",
     "text": [
      "Model: \"sequential_6\"\n",
      "_________________________________________________________________\n",
      " Layer (type)                Output Shape              Param #   \n",
      "=================================================================\n",
      " lstm_13 (LSTM)              (None, 10, 80)            26240     \n",
      "                                                                 \n",
      " dropout_12 (Dropout)        (None, 10, 80)            0         \n",
      "                                                                 \n",
      " lstm_14 (LSTM)              (None, 128)               107008    \n",
      "                                                                 \n",
      " dropout_13 (Dropout)        (None, 128)               0         \n",
      "                                                                 \n",
      " dense_7 (Dense)             (None, 1)                 129       \n",
      "                                                                 \n",
      "=================================================================\n",
      "Total params: 133,377\n",
      "Trainable params: 133,377\n",
      "Non-trainable params: 0\n",
      "_________________________________________________________________\n"
     ]
    }
   ],
   "source": [
    "std_LSTMmodel.summary()"
   ]
  },
  {
   "cell_type": "code",
   "execution_count": 27,
   "id": "44fd6bcf",
   "metadata": {},
   "outputs": [],
   "source": [
    "std_LSTMmodel.save(\"./LSTMfinalStdverynicefinal.h5\")"
   ]
  },
  {
   "cell_type": "code",
   "execution_count": 34,
   "id": "2373bc4c",
   "metadata": {},
   "outputs": [],
   "source": [
    "std_LSTMmodel = load_model('./LSTMfinalStdverynicefinal.h5')"
   ]
  },
  {
   "cell_type": "markdown",
   "id": "fda72b16",
   "metadata": {},
   "source": [
    "# Mean STD Both"
   ]
  },
  {
   "cell_type": "code",
   "execution_count": 51,
   "id": "274fe1d1",
   "metadata": {},
   "outputs": [],
   "source": [
    "\n",
    "\n",
    "input_layer = Input(shape=(10,1))\n",
    "first = LSTM(32, activation='relu', return_sequences = False)(input_layer)\n",
    "\n",
    "D1 = Dropout(0.001)(first)\n",
    "\n",
    "y1_output = Dense(units='1', activation='linear', name='mean_output')(D1)\n",
    "\n",
    "second = LSTM(128,activation='relu')(input_layer)\n",
    "\n",
    "D2 = Dropout(0.001)(second)\n",
    "\n",
    "y2_output = Dense(units='1', activation='linear', name='std_output')(D2)\n",
    "\n",
    "mean_std_model = Model(inputs=input_layer, outputs=[y1_output, y2_output])\n",
    "\n",
    "\n"
   ]
  },
  {
   "cell_type": "code",
   "execution_count": 62,
   "id": "e4ebe62c",
   "metadata": {},
   "outputs": [
    {
     "name": "stdout",
     "output_type": "stream",
     "text": [
      "Epoch 1/200\n",
      "5625/5625 [==============================] - 40s 7ms/step - loss: 25.9675 - mean_output_loss: 21.4700 - std_output_loss: 4.4975\n",
      "Epoch 2/200\n",
      "5625/5625 [==============================] - 39s 7ms/step - loss: 25.8686 - mean_output_loss: 21.4578 - std_output_loss: 4.4108\n",
      "Epoch 3/200\n",
      " 470/5625 [=>............................] - ETA: 35s - loss: 20.2126 - mean_output_loss: 16.4978 - std_output_loss: 3.7149"
     ]
    },
    {
     "ename": "KeyboardInterrupt",
     "evalue": "",
     "output_type": "error",
     "traceback": [
      "\u001b[0;31m---------------------------------------------------------------------------\u001b[0m",
      "\u001b[0;31mKeyboardInterrupt\u001b[0m                         Traceback (most recent call last)",
      "Input \u001b[0;32mIn [62]\u001b[0m, in \u001b[0;36m<cell line: 2>\u001b[0;34m()\u001b[0m\n\u001b[1;32m      1\u001b[0m mean_std_model\u001b[38;5;241m.\u001b[39mcompile(optimizer\u001b[38;5;241m=\u001b[39m\u001b[38;5;124m\"\u001b[39m\u001b[38;5;124madam\u001b[39m\u001b[38;5;124m\"\u001b[39m, loss\u001b[38;5;241m=\u001b[39m [\u001b[38;5;124m'\u001b[39m\u001b[38;5;124mmse\u001b[39m\u001b[38;5;124m'\u001b[39m,\u001b[38;5;124m'\u001b[39m\u001b[38;5;124mmse\u001b[39m\u001b[38;5;124m'\u001b[39m])\n\u001b[0;32m----> 2\u001b[0m \u001b[43mmean_std_model\u001b[49m\u001b[38;5;241;43m.\u001b[39;49m\u001b[43mfit\u001b[49m\u001b[43m(\u001b[49m\u001b[43mdd\u001b[49m\u001b[43m,\u001b[49m\u001b[43m \u001b[49m\u001b[43m[\u001b[49m\u001b[43mf_mdd\u001b[49m\u001b[43m,\u001b[49m\u001b[43mf_dd\u001b[49m\u001b[43m]\u001b[49m\u001b[43m,\u001b[49m\u001b[43m \u001b[49m\u001b[43mepochs\u001b[49m\u001b[38;5;241;43m=\u001b[39;49m\u001b[43m \u001b[49m\u001b[38;5;241;43m200\u001b[39;49m\u001b[43m)\u001b[49m\n",
      "File \u001b[0;32m~/anaconda3/lib/python3.9/site-packages/keras/utils/traceback_utils.py:64\u001b[0m, in \u001b[0;36mfilter_traceback.<locals>.error_handler\u001b[0;34m(*args, **kwargs)\u001b[0m\n\u001b[1;32m     62\u001b[0m filtered_tb \u001b[38;5;241m=\u001b[39m \u001b[38;5;28;01mNone\u001b[39;00m\n\u001b[1;32m     63\u001b[0m \u001b[38;5;28;01mtry\u001b[39;00m:\n\u001b[0;32m---> 64\u001b[0m   \u001b[38;5;28;01mreturn\u001b[39;00m \u001b[43mfn\u001b[49m\u001b[43m(\u001b[49m\u001b[38;5;241;43m*\u001b[39;49m\u001b[43margs\u001b[49m\u001b[43m,\u001b[49m\u001b[43m \u001b[49m\u001b[38;5;241;43m*\u001b[39;49m\u001b[38;5;241;43m*\u001b[39;49m\u001b[43mkwargs\u001b[49m\u001b[43m)\u001b[49m\n\u001b[1;32m     65\u001b[0m \u001b[38;5;28;01mexcept\u001b[39;00m \u001b[38;5;167;01mException\u001b[39;00m \u001b[38;5;28;01mas\u001b[39;00m e:  \u001b[38;5;66;03m# pylint: disable=broad-except\u001b[39;00m\n\u001b[1;32m     66\u001b[0m   filtered_tb \u001b[38;5;241m=\u001b[39m _process_traceback_frames(e\u001b[38;5;241m.\u001b[39m__traceback__)\n",
      "File \u001b[0;32m~/anaconda3/lib/python3.9/site-packages/keras/engine/training.py:1409\u001b[0m, in \u001b[0;36mModel.fit\u001b[0;34m(self, x, y, batch_size, epochs, verbose, callbacks, validation_split, validation_data, shuffle, class_weight, sample_weight, initial_epoch, steps_per_epoch, validation_steps, validation_batch_size, validation_freq, max_queue_size, workers, use_multiprocessing)\u001b[0m\n\u001b[1;32m   1402\u001b[0m \u001b[38;5;28;01mwith\u001b[39;00m tf\u001b[38;5;241m.\u001b[39mprofiler\u001b[38;5;241m.\u001b[39mexperimental\u001b[38;5;241m.\u001b[39mTrace(\n\u001b[1;32m   1403\u001b[0m     \u001b[38;5;124m'\u001b[39m\u001b[38;5;124mtrain\u001b[39m\u001b[38;5;124m'\u001b[39m,\n\u001b[1;32m   1404\u001b[0m     epoch_num\u001b[38;5;241m=\u001b[39mepoch,\n\u001b[1;32m   1405\u001b[0m     step_num\u001b[38;5;241m=\u001b[39mstep,\n\u001b[1;32m   1406\u001b[0m     batch_size\u001b[38;5;241m=\u001b[39mbatch_size,\n\u001b[1;32m   1407\u001b[0m     _r\u001b[38;5;241m=\u001b[39m\u001b[38;5;241m1\u001b[39m):\n\u001b[1;32m   1408\u001b[0m   callbacks\u001b[38;5;241m.\u001b[39mon_train_batch_begin(step)\n\u001b[0;32m-> 1409\u001b[0m   tmp_logs \u001b[38;5;241m=\u001b[39m \u001b[38;5;28;43mself\u001b[39;49m\u001b[38;5;241;43m.\u001b[39;49m\u001b[43mtrain_function\u001b[49m\u001b[43m(\u001b[49m\u001b[43miterator\u001b[49m\u001b[43m)\u001b[49m\n\u001b[1;32m   1410\u001b[0m   \u001b[38;5;28;01mif\u001b[39;00m data_handler\u001b[38;5;241m.\u001b[39mshould_sync:\n\u001b[1;32m   1411\u001b[0m     context\u001b[38;5;241m.\u001b[39masync_wait()\n",
      "File \u001b[0;32m~/anaconda3/lib/python3.9/site-packages/tensorflow/python/util/traceback_utils.py:150\u001b[0m, in \u001b[0;36mfilter_traceback.<locals>.error_handler\u001b[0;34m(*args, **kwargs)\u001b[0m\n\u001b[1;32m    148\u001b[0m filtered_tb \u001b[38;5;241m=\u001b[39m \u001b[38;5;28;01mNone\u001b[39;00m\n\u001b[1;32m    149\u001b[0m \u001b[38;5;28;01mtry\u001b[39;00m:\n\u001b[0;32m--> 150\u001b[0m   \u001b[38;5;28;01mreturn\u001b[39;00m \u001b[43mfn\u001b[49m\u001b[43m(\u001b[49m\u001b[38;5;241;43m*\u001b[39;49m\u001b[43margs\u001b[49m\u001b[43m,\u001b[49m\u001b[43m \u001b[49m\u001b[38;5;241;43m*\u001b[39;49m\u001b[38;5;241;43m*\u001b[39;49m\u001b[43mkwargs\u001b[49m\u001b[43m)\u001b[49m\n\u001b[1;32m    151\u001b[0m \u001b[38;5;28;01mexcept\u001b[39;00m \u001b[38;5;167;01mException\u001b[39;00m \u001b[38;5;28;01mas\u001b[39;00m e:\n\u001b[1;32m    152\u001b[0m   filtered_tb \u001b[38;5;241m=\u001b[39m _process_traceback_frames(e\u001b[38;5;241m.\u001b[39m__traceback__)\n",
      "File \u001b[0;32m~/anaconda3/lib/python3.9/site-packages/tensorflow/python/eager/def_function.py:915\u001b[0m, in \u001b[0;36mFunction.__call__\u001b[0;34m(self, *args, **kwds)\u001b[0m\n\u001b[1;32m    912\u001b[0m compiler \u001b[38;5;241m=\u001b[39m \u001b[38;5;124m\"\u001b[39m\u001b[38;5;124mxla\u001b[39m\u001b[38;5;124m\"\u001b[39m \u001b[38;5;28;01mif\u001b[39;00m \u001b[38;5;28mself\u001b[39m\u001b[38;5;241m.\u001b[39m_jit_compile \u001b[38;5;28;01melse\u001b[39;00m \u001b[38;5;124m\"\u001b[39m\u001b[38;5;124mnonXla\u001b[39m\u001b[38;5;124m\"\u001b[39m\n\u001b[1;32m    914\u001b[0m \u001b[38;5;28;01mwith\u001b[39;00m OptionalXlaContext(\u001b[38;5;28mself\u001b[39m\u001b[38;5;241m.\u001b[39m_jit_compile):\n\u001b[0;32m--> 915\u001b[0m   result \u001b[38;5;241m=\u001b[39m \u001b[38;5;28;43mself\u001b[39;49m\u001b[38;5;241;43m.\u001b[39;49m\u001b[43m_call\u001b[49m\u001b[43m(\u001b[49m\u001b[38;5;241;43m*\u001b[39;49m\u001b[43margs\u001b[49m\u001b[43m,\u001b[49m\u001b[43m \u001b[49m\u001b[38;5;241;43m*\u001b[39;49m\u001b[38;5;241;43m*\u001b[39;49m\u001b[43mkwds\u001b[49m\u001b[43m)\u001b[49m\n\u001b[1;32m    917\u001b[0m new_tracing_count \u001b[38;5;241m=\u001b[39m \u001b[38;5;28mself\u001b[39m\u001b[38;5;241m.\u001b[39mexperimental_get_tracing_count()\n\u001b[1;32m    918\u001b[0m without_tracing \u001b[38;5;241m=\u001b[39m (tracing_count \u001b[38;5;241m==\u001b[39m new_tracing_count)\n",
      "File \u001b[0;32m~/anaconda3/lib/python3.9/site-packages/tensorflow/python/eager/def_function.py:947\u001b[0m, in \u001b[0;36mFunction._call\u001b[0;34m(self, *args, **kwds)\u001b[0m\n\u001b[1;32m    944\u001b[0m   \u001b[38;5;28mself\u001b[39m\u001b[38;5;241m.\u001b[39m_lock\u001b[38;5;241m.\u001b[39mrelease()\n\u001b[1;32m    945\u001b[0m   \u001b[38;5;66;03m# In this case we have created variables on the first call, so we run the\u001b[39;00m\n\u001b[1;32m    946\u001b[0m   \u001b[38;5;66;03m# defunned version which is guaranteed to never create variables.\u001b[39;00m\n\u001b[0;32m--> 947\u001b[0m   \u001b[38;5;28;01mreturn\u001b[39;00m \u001b[38;5;28;43mself\u001b[39;49m\u001b[38;5;241;43m.\u001b[39;49m\u001b[43m_stateless_fn\u001b[49m\u001b[43m(\u001b[49m\u001b[38;5;241;43m*\u001b[39;49m\u001b[43margs\u001b[49m\u001b[43m,\u001b[49m\u001b[43m \u001b[49m\u001b[38;5;241;43m*\u001b[39;49m\u001b[38;5;241;43m*\u001b[39;49m\u001b[43mkwds\u001b[49m\u001b[43m)\u001b[49m  \u001b[38;5;66;03m# pylint: disable=not-callable\u001b[39;00m\n\u001b[1;32m    948\u001b[0m \u001b[38;5;28;01melif\u001b[39;00m \u001b[38;5;28mself\u001b[39m\u001b[38;5;241m.\u001b[39m_stateful_fn \u001b[38;5;129;01mis\u001b[39;00m \u001b[38;5;129;01mnot\u001b[39;00m \u001b[38;5;28;01mNone\u001b[39;00m:\n\u001b[1;32m    949\u001b[0m   \u001b[38;5;66;03m# Release the lock early so that multiple threads can perform the call\u001b[39;00m\n\u001b[1;32m    950\u001b[0m   \u001b[38;5;66;03m# in parallel.\u001b[39;00m\n\u001b[1;32m    951\u001b[0m   \u001b[38;5;28mself\u001b[39m\u001b[38;5;241m.\u001b[39m_lock\u001b[38;5;241m.\u001b[39mrelease()\n",
      "File \u001b[0;32m~/anaconda3/lib/python3.9/site-packages/tensorflow/python/eager/function.py:2453\u001b[0m, in \u001b[0;36mFunction.__call__\u001b[0;34m(self, *args, **kwargs)\u001b[0m\n\u001b[1;32m   2450\u001b[0m \u001b[38;5;28;01mwith\u001b[39;00m \u001b[38;5;28mself\u001b[39m\u001b[38;5;241m.\u001b[39m_lock:\n\u001b[1;32m   2451\u001b[0m   (graph_function,\n\u001b[1;32m   2452\u001b[0m    filtered_flat_args) \u001b[38;5;241m=\u001b[39m \u001b[38;5;28mself\u001b[39m\u001b[38;5;241m.\u001b[39m_maybe_define_function(args, kwargs)\n\u001b[0;32m-> 2453\u001b[0m \u001b[38;5;28;01mreturn\u001b[39;00m \u001b[43mgraph_function\u001b[49m\u001b[38;5;241;43m.\u001b[39;49m\u001b[43m_call_flat\u001b[49m\u001b[43m(\u001b[49m\n\u001b[1;32m   2454\u001b[0m \u001b[43m    \u001b[49m\u001b[43mfiltered_flat_args\u001b[49m\u001b[43m,\u001b[49m\u001b[43m \u001b[49m\u001b[43mcaptured_inputs\u001b[49m\u001b[38;5;241;43m=\u001b[39;49m\u001b[43mgraph_function\u001b[49m\u001b[38;5;241;43m.\u001b[39;49m\u001b[43mcaptured_inputs\u001b[49m\u001b[43m)\u001b[49m\n",
      "File \u001b[0;32m~/anaconda3/lib/python3.9/site-packages/tensorflow/python/eager/function.py:1860\u001b[0m, in \u001b[0;36mConcreteFunction._call_flat\u001b[0;34m(self, args, captured_inputs, cancellation_manager)\u001b[0m\n\u001b[1;32m   1856\u001b[0m possible_gradient_type \u001b[38;5;241m=\u001b[39m gradients_util\u001b[38;5;241m.\u001b[39mPossibleTapeGradientTypes(args)\n\u001b[1;32m   1857\u001b[0m \u001b[38;5;28;01mif\u001b[39;00m (possible_gradient_type \u001b[38;5;241m==\u001b[39m gradients_util\u001b[38;5;241m.\u001b[39mPOSSIBLE_GRADIENT_TYPES_NONE\n\u001b[1;32m   1858\u001b[0m     \u001b[38;5;129;01mand\u001b[39;00m executing_eagerly):\n\u001b[1;32m   1859\u001b[0m   \u001b[38;5;66;03m# No tape is watching; skip to running the function.\u001b[39;00m\n\u001b[0;32m-> 1860\u001b[0m   \u001b[38;5;28;01mreturn\u001b[39;00m \u001b[38;5;28mself\u001b[39m\u001b[38;5;241m.\u001b[39m_build_call_outputs(\u001b[38;5;28;43mself\u001b[39;49m\u001b[38;5;241;43m.\u001b[39;49m\u001b[43m_inference_function\u001b[49m\u001b[38;5;241;43m.\u001b[39;49m\u001b[43mcall\u001b[49m\u001b[43m(\u001b[49m\n\u001b[1;32m   1861\u001b[0m \u001b[43m      \u001b[49m\u001b[43mctx\u001b[49m\u001b[43m,\u001b[49m\u001b[43m \u001b[49m\u001b[43margs\u001b[49m\u001b[43m,\u001b[49m\u001b[43m \u001b[49m\u001b[43mcancellation_manager\u001b[49m\u001b[38;5;241;43m=\u001b[39;49m\u001b[43mcancellation_manager\u001b[49m\u001b[43m)\u001b[49m)\n\u001b[1;32m   1862\u001b[0m forward_backward \u001b[38;5;241m=\u001b[39m \u001b[38;5;28mself\u001b[39m\u001b[38;5;241m.\u001b[39m_select_forward_and_backward_functions(\n\u001b[1;32m   1863\u001b[0m     args,\n\u001b[1;32m   1864\u001b[0m     possible_gradient_type,\n\u001b[1;32m   1865\u001b[0m     executing_eagerly)\n\u001b[1;32m   1866\u001b[0m forward_function, args_with_tangents \u001b[38;5;241m=\u001b[39m forward_backward\u001b[38;5;241m.\u001b[39mforward()\n",
      "File \u001b[0;32m~/anaconda3/lib/python3.9/site-packages/tensorflow/python/eager/function.py:497\u001b[0m, in \u001b[0;36m_EagerDefinedFunction.call\u001b[0;34m(self, ctx, args, cancellation_manager)\u001b[0m\n\u001b[1;32m    495\u001b[0m \u001b[38;5;28;01mwith\u001b[39;00m _InterpolateFunctionError(\u001b[38;5;28mself\u001b[39m):\n\u001b[1;32m    496\u001b[0m   \u001b[38;5;28;01mif\u001b[39;00m cancellation_manager \u001b[38;5;129;01mis\u001b[39;00m \u001b[38;5;28;01mNone\u001b[39;00m:\n\u001b[0;32m--> 497\u001b[0m     outputs \u001b[38;5;241m=\u001b[39m \u001b[43mexecute\u001b[49m\u001b[38;5;241;43m.\u001b[39;49m\u001b[43mexecute\u001b[49m\u001b[43m(\u001b[49m\n\u001b[1;32m    498\u001b[0m \u001b[43m        \u001b[49m\u001b[38;5;28;43mstr\u001b[39;49m\u001b[43m(\u001b[49m\u001b[38;5;28;43mself\u001b[39;49m\u001b[38;5;241;43m.\u001b[39;49m\u001b[43msignature\u001b[49m\u001b[38;5;241;43m.\u001b[39;49m\u001b[43mname\u001b[49m\u001b[43m)\u001b[49m\u001b[43m,\u001b[49m\n\u001b[1;32m    499\u001b[0m \u001b[43m        \u001b[49m\u001b[43mnum_outputs\u001b[49m\u001b[38;5;241;43m=\u001b[39;49m\u001b[38;5;28;43mself\u001b[39;49m\u001b[38;5;241;43m.\u001b[39;49m\u001b[43m_num_outputs\u001b[49m\u001b[43m,\u001b[49m\n\u001b[1;32m    500\u001b[0m \u001b[43m        \u001b[49m\u001b[43minputs\u001b[49m\u001b[38;5;241;43m=\u001b[39;49m\u001b[43margs\u001b[49m\u001b[43m,\u001b[49m\n\u001b[1;32m    501\u001b[0m \u001b[43m        \u001b[49m\u001b[43mattrs\u001b[49m\u001b[38;5;241;43m=\u001b[39;49m\u001b[43mattrs\u001b[49m\u001b[43m,\u001b[49m\n\u001b[1;32m    502\u001b[0m \u001b[43m        \u001b[49m\u001b[43mctx\u001b[49m\u001b[38;5;241;43m=\u001b[39;49m\u001b[43mctx\u001b[49m\u001b[43m)\u001b[49m\n\u001b[1;32m    503\u001b[0m   \u001b[38;5;28;01melse\u001b[39;00m:\n\u001b[1;32m    504\u001b[0m     outputs \u001b[38;5;241m=\u001b[39m execute\u001b[38;5;241m.\u001b[39mexecute_with_cancellation(\n\u001b[1;32m    505\u001b[0m         \u001b[38;5;28mstr\u001b[39m(\u001b[38;5;28mself\u001b[39m\u001b[38;5;241m.\u001b[39msignature\u001b[38;5;241m.\u001b[39mname),\n\u001b[1;32m    506\u001b[0m         num_outputs\u001b[38;5;241m=\u001b[39m\u001b[38;5;28mself\u001b[39m\u001b[38;5;241m.\u001b[39m_num_outputs,\n\u001b[0;32m   (...)\u001b[0m\n\u001b[1;32m    509\u001b[0m         ctx\u001b[38;5;241m=\u001b[39mctx,\n\u001b[1;32m    510\u001b[0m         cancellation_manager\u001b[38;5;241m=\u001b[39mcancellation_manager)\n",
      "File \u001b[0;32m~/anaconda3/lib/python3.9/site-packages/tensorflow/python/eager/execute.py:54\u001b[0m, in \u001b[0;36mquick_execute\u001b[0;34m(op_name, num_outputs, inputs, attrs, ctx, name)\u001b[0m\n\u001b[1;32m     52\u001b[0m \u001b[38;5;28;01mtry\u001b[39;00m:\n\u001b[1;32m     53\u001b[0m   ctx\u001b[38;5;241m.\u001b[39mensure_initialized()\n\u001b[0;32m---> 54\u001b[0m   tensors \u001b[38;5;241m=\u001b[39m \u001b[43mpywrap_tfe\u001b[49m\u001b[38;5;241;43m.\u001b[39;49m\u001b[43mTFE_Py_Execute\u001b[49m\u001b[43m(\u001b[49m\u001b[43mctx\u001b[49m\u001b[38;5;241;43m.\u001b[39;49m\u001b[43m_handle\u001b[49m\u001b[43m,\u001b[49m\u001b[43m \u001b[49m\u001b[43mdevice_name\u001b[49m\u001b[43m,\u001b[49m\u001b[43m \u001b[49m\u001b[43mop_name\u001b[49m\u001b[43m,\u001b[49m\n\u001b[1;32m     55\u001b[0m \u001b[43m                                      \u001b[49m\u001b[43minputs\u001b[49m\u001b[43m,\u001b[49m\u001b[43m \u001b[49m\u001b[43mattrs\u001b[49m\u001b[43m,\u001b[49m\u001b[43m \u001b[49m\u001b[43mnum_outputs\u001b[49m\u001b[43m)\u001b[49m\n\u001b[1;32m     56\u001b[0m \u001b[38;5;28;01mexcept\u001b[39;00m core\u001b[38;5;241m.\u001b[39m_NotOkStatusException \u001b[38;5;28;01mas\u001b[39;00m e:\n\u001b[1;32m     57\u001b[0m   \u001b[38;5;28;01mif\u001b[39;00m name \u001b[38;5;129;01mis\u001b[39;00m \u001b[38;5;129;01mnot\u001b[39;00m \u001b[38;5;28;01mNone\u001b[39;00m:\n",
      "\u001b[0;31mKeyboardInterrupt\u001b[0m: "
     ]
    }
   ],
   "source": [
    "mean_std_model.compile(optimizer=\"adam\", loss= ['mse','mse'])\n",
    "mean_std_model.fit(dd, [f_mdd,f_dd], epochs= 200)"
   ]
  },
  {
   "cell_type": "code",
   "execution_count": 69,
   "id": "3c7ce7fd",
   "metadata": {},
   "outputs": [
    {
     "name": "stdout",
     "output_type": "stream",
     "text": [
      "1/1 [==============================] - 0s 19ms/step\n"
     ]
    },
    {
     "data": {
      "text/plain": [
       "[<matplotlib.lines.Line2D at 0x2bad4a438e20>,\n",
       " <matplotlib.lines.Line2D at 0x2bad4a438e80>]"
      ]
     },
     "execution_count": 69,
     "metadata": {},
     "output_type": "execute_result"
    },
    {
     "data": {
      "image/png": "[encoded data removed]",
      "text/plain": [
       "<Figure size 432x288 with 1 Axes>"
      ]
     },
     "metadata": {
      "needs_background": "light"
     },
     "output_type": "display_data"
    }
   ],
   "source": [
    "# plt.plot(range(30),np.mean(Predirect_arr1, axis=1),range(30),mean_std_model.predict(Predirect_arr1)[0])\n",
    "# plt.plot(range(30),np.std(Predirect_arr1, axis=1),range(30),mean_std_model.predict(Predirect_arr1)[1])\n",
    "\n",
    "# plt.plot(range(30),np.mean(Predirect_arr2, axis=1),range(30),mean_std_model.predict(Predirect_arr2)[0])\n",
    "# plt.plot(range(30),np.std(Predirect_arr2, axis=1),range(30),mean_std_model.predict(Predirect_arr2)[1])\n",
    "\n",
    "# plt.plot(range(30),np.mean(Predirect_arr3, axis=1),range(30),mean_std_model.predict(Predirect_arr3)[0])\n",
    "# plt.plot(range(30),np.std(Predirect_arr3, axis=1),range(30),mean_std_model.predict(Predirect_arr3)[1])\n",
    "\n",
    "\n",
    "# plt.plot(range(30),np.mean(Predirect_arr4, axis=1),range(30),mean_std_model.predict(Predirect_arr4)[0])\n",
    "# plt.plot(range(30),np.std(Predirect_arr4, axis=1),range(30),mean_std_model.predict(Predirect_arr4)[1])\n",
    "\n",
    "#plt.plot(range(30),np.mean(Predirect_arr7, axis=1),range(30),mean_std_model.predict(Predirect_arr7)[0])\n",
    "#plt.plot(range(30),np.std(Predirect_arr7, axis=1),range(30),mean_std_model.predict(Predirect_arr7)[1])\n",
    "\n",
    "\n",
    "#plt.plot(range(40),np.mean(random_data_diff, axis=1),range(40),mean_std_model.predict(random_data_diff)[0])\n",
    "#plt.plot(range(40),np.std(random_data_diff, axis=1),range(40),mean_std_model.predict(random_data_diff)[1])\n",
    "\n"
   ]
  },
  {
   "cell_type": "code",
   "execution_count": 70,
   "id": "82e69b34",
   "metadata": {},
   "outputs": [],
   "source": [
    "mean_std_model.save(\"./LSTMfinalmeanstdverynice2.h5\")"
   ]
  },
  {
   "cell_type": "code",
   "execution_count": 41,
   "id": "d8ab3984",
   "metadata": {},
   "outputs": [],
   "source": [
    "mean_std_model = load_model(\"./LSTMfinalmeanstdverynice.h5\")"
   ]
  },
  {
   "cell_type": "code",
   "execution_count": null,
   "id": "5172d6a3",
   "metadata": {},
   "outputs": [],
   "source": []
  }
 ],
 "metadata": {
  "kernelspec": {
   "display_name": "Python 3 (ipykernel)",
   "language": "python",
   "name": "python3"
  },
  "language_info": {
   "codemirror_mode": {
    "name": "ipython",
    "version": 3
   },
   "file_extension": ".py",
   "mimetype": "text/x-python",
   "name": "python",
   "nbconvert_exporter": "python",
   "pygments_lexer": "ipython3",
   "version": "3.9.12"
  }
 },
 "nbformat": 4,
 "nbformat_minor": 5
}
