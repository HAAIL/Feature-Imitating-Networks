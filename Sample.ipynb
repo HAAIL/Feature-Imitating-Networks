{
 "cells": [
  {
   "cell_type": "code",
   "execution_count": 2,
   "id": "7bf29016",
   "metadata": {},
   "outputs": [],
   "source": [
    "import numpy as np\n",
    "from numpy import random\n",
    "import random\n",
    "import matplotlib.pyplot as plt\n",
    "from scipy.signal import cwt,ricker\n",
    "from scipy import stats\n",
    "from sklearn.preprocessing import StandardScaler,normalize\n",
    "from sklearn.preprocessing import MinMaxScaler\n",
    "from sklearn.model_selection import KFold\n",
    "import os\n",
    "import tensorflow as tf\n",
    "import tensorflow.keras as keras\n",
    "import tensorflow.keras.optimizers\n",
    "from tensorflow.keras.models import Sequential\n",
    "from keras.callbacks import EarlyStopping\n",
    "from keras.models import load_model\n",
    "from tensorflow.keras.layers import Flatten,concatenate,Layer,Dense,LSTM,Activation,MaxPooling2D,Dropout,Conv2D,BatchNormalization,Reshape,UpSampling2D,ZeroPadding2D\n",
    "import radiomics\n",
    "from radiomics.featureextractor import RadiomicsFeatureExtractor\n",
    "import SimpleITK as sitk\n",
    "import pandas as pd\n"
   ]
  },
  {
   "cell_type": "markdown",
   "id": "a8ecc9cc",
   "metadata": {},
   "source": [
    "# Example: Load An Image"
   ]
  },
  {
   "cell_type": "markdown",
   "id": "b14d991b",
   "metadata": {},
   "source": [
    "Example how to load an image with label"
   ]
  },
  {
   "cell_type": "code",
   "execution_count": 100,
   "id": "ceb7a10a",
   "metadata": {},
   "outputs": [],
   "source": [
    "# the folder name by label\n",
    "class_names = ['pos','neg']\n",
    "\n",
    "# the image dictionary we are loading\n",
    "dict = './covid19/kcv/'"
   ]
  },
  {
   "cell_type": "code",
   "execution_count": 101,
   "id": "25147db8",
   "metadata": {},
   "outputs": [],
   "source": [
    "# load one image with their label to memory\n",
    "def load_image( imageName ):\n",
    "\n",
    "    for i in class_names:\n",
    "        path = os.path.join(dict, i)\n",
    "        label_num = class_names.index(i)\n",
    "        try:\n",
    "            img = sitk.ReadImage(dict + i +'/' + imageName)\n",
    "            trainingdata= [sitk.GetArrayFromImage(img).reshape(512,512,1),label_num]\n",
    "        except:\n",
    "            pass\n",
    "            \n",
    "    return trainingdata\n",
    "    "
   ]
  },
  {
   "cell_type": "code",
   "execution_count": 102,
   "id": "9ed16afb",
   "metadata": {},
   "outputs": [],
   "source": [
    "singleImage = load_image('COVID-19_0414.png')"
   ]
  },
  {
   "cell_type": "code",
   "execution_count": 103,
   "id": "e77cc1f9",
   "metadata": {},
   "outputs": [],
   "source": [
    "# get the label and the image\n",
    "image = singleImage[0]\n",
    "label = singleImage[1]"
   ]
  },
  {
   "cell_type": "code",
   "execution_count": 104,
   "id": "fce0b81d",
   "metadata": {},
   "outputs": [
    {
     "name": "stdout",
     "output_type": "stream",
     "text": [
      "0\n"
     ]
    }
   ],
   "source": [
    "print(label)"
   ]
  },
  {
   "cell_type": "markdown",
   "id": "e1aeb297",
   "metadata": {},
   "source": [
    "# Example: Extract the Features From a Image"
   ]
  },
  {
   "cell_type": "markdown",
   "id": "b2274ec2",
   "metadata": {},
   "source": [
    "Example how to extract the Features using pyradiomics library applied in a whole image"
   ]
  },
  {
   "cell_type": "code",
   "execution_count": 79,
   "id": "65e54a6d",
   "metadata": {},
   "outputs": [],
   "source": [
    "# the image dictionary and the image name want to extract feature from\n",
    "dict = './covid19/kcv/pos/'\n",
    "\n",
    "def ExtractFeaturesFromImages(imageName):\n",
    "    \n",
    "    feature_extracted = []\n",
    "\n",
    "    extractor = RadiomicsFeatureExtractor()\n",
    "    # Disable all classes \n",
    "    extractor.disableAllFeatures()\n",
    "    extractor.enableFeaturesByName(firstorder=['Skewness'])  # change here to extract\n",
    "\n",
    "    im = sitk.ReadImage(dict + imageName)\n",
    "\n",
    "    ma_arr = np.ones(im.GetSize()[::-1])  # reverse the order as image is xyz, array is zyx\n",
    "    ma = sitk.GetImageFromArray(ma_arr)\n",
    "    ma.CopyInformation(im)  # Copy geometric info\n",
    "\n",
    "    # extract features and fill the output array\n",
    "    features = extractor.execute(im, ma)\n",
    "\n",
    "    feature_extracted.append(features['original_firstorder_Skewness'])\n",
    "      \n",
    "    return feature_extracted\n"
   ]
  },
  {
   "cell_type": "code",
   "execution_count": 80,
   "id": "83e1cca9",
   "metadata": {},
   "outputs": [],
   "source": [
    "feature_extracted = ExtractFeaturesFromImages('COVID-19_0414.png')"
   ]
  },
  {
   "cell_type": "markdown",
   "id": "b5d62509",
   "metadata": {},
   "source": [
    "# Example: To Train A Fin"
   ]
  },
  {
   "cell_type": "markdown",
   "id": "49b947f5",
   "metadata": {},
   "source": [
    "When we have images and corrresponding feature extracted, we can train a DFNN to iminate these features"
   ]
  },
  {
   "cell_type": "code",
   "execution_count": null,
   "id": "6bed74a1",
   "metadata": {},
   "outputs": [],
   "source": [
    "def MakeFin(modelname):\n",
    "    input_layer = keras.Input(shape=(512,512,1))\n",
    "    x = Flatten()(input_layer)\n",
    "    x = Dense(64, activation='relu')(x)\n",
    "    x = Dense(64, activation='relu')(x)\n",
    "    x = Dense(64, activation='relu')(x)\n",
    "\n",
    "    out = Dense(1, activation = 'linear', name= modelname)(x)\n",
    "\n",
    "    model = keras.Model(input_layer, out, name= modelname)\n",
    "    \n",
    "    return model"
   ]
  },
  {
   "cell_type": "code",
   "execution_count": null,
   "id": "b8729b9a",
   "metadata": {},
   "outputs": [],
   "source": [
    "model = MakeFin('Name')"
   ]
  },
  {
   "cell_type": "code",
   "execution_count": null,
   "id": "1323b05d",
   "metadata": {},
   "outputs": [],
   "source": [
    "model.compile(optimizer=tf.keras.optimizers.Adam(\n",
    "), loss=\"mse\", metrics='mae')"
   ]
  },
  {
   "cell_type": "code",
   "execution_count": null,
   "id": "a3da2bbd",
   "metadata": {},
   "outputs": [],
   "source": [
    "model.fit(input_array, output_array, \n",
    "              epochs=30, \n",
    "          batch_size=64,\n",
    "                shuffle=True\n",
    "            )"
   ]
  },
  {
   "cell_type": "markdown",
   "id": "0b0a6bc4",
   "metadata": {},
   "source": [
    "# Example: Load A Fin and Apply in a Image"
   ]
  },
  {
   "cell_type": "markdown",
   "id": "d6c57cbc",
   "metadata": {},
   "source": [
    "Example we load an image into numpy array, and we use Fin to predict the feature of the image"
   ]
  },
  {
   "cell_type": "code",
   "execution_count": 95,
   "id": "b79fc608",
   "metadata": {},
   "outputs": [],
   "source": [
    "image = np.array(image)"
   ]
  },
  {
   "cell_type": "code",
   "execution_count": 96,
   "id": "9d0170c6",
   "metadata": {},
   "outputs": [
    {
     "name": "stdout",
     "output_type": "stream",
     "text": [
      "(512, 512, 1)\n"
     ]
    }
   ],
   "source": [
    "print(image.shape)"
   ]
  },
  {
   "cell_type": "code",
   "execution_count": 97,
   "id": "efb0e713",
   "metadata": {},
   "outputs": [],
   "source": [
    "fin = load_model('finetune_Autocorrelation.h5')"
   ]
  },
  {
   "cell_type": "code",
   "execution_count": 87,
   "id": "d885f3bc",
   "metadata": {},
   "outputs": [],
   "source": [
    "inputimage = image.reshape(1,512,512,1)"
   ]
  },
  {
   "cell_type": "code",
   "execution_count": 99,
   "id": "6e70550e",
   "metadata": {},
   "outputs": [
    {
     "name": "stdout",
     "output_type": "stream",
     "text": [
      "1/1 [==============================] - 0s 30ms/step\n"
     ]
    },
    {
     "data": {
      "text/plain": [
       "array([[42.890038]], dtype=float32)"
      ]
     },
     "execution_count": 99,
     "metadata": {},
     "output_type": "execute_result"
    }
   ],
   "source": [
    "fin.predict(inputimage)"
   ]
  },
  {
   "cell_type": "markdown",
   "id": "e3cf2e5d",
   "metadata": {},
   "source": [
    "# Example Use the FINs in another Network"
   ]
  },
  {
   "cell_type": "markdown",
   "id": "4c8b3917",
   "metadata": {},
   "source": [
    "Load the FINs and attached to a DFNN"
   ]
  },
  {
   "cell_type": "code",
   "execution_count": null,
   "id": "17b06fe6",
   "metadata": {},
   "outputs": [],
   "source": [
    "# Load two Fins\n",
    "fin1 = load_model('finetune_Skewness.h5')\n",
    "fin2 = load_model('finetune_Autocorrelation.h5')\n",
    "\n",
    "\n",
    "def MakeModel(modelname):\n",
    "    input_layer = keras.Input(shape=(512,512,1))\n",
    "    \n",
    "    # load models and concat them\n",
    "    l1 = fin1(input_layer)\n",
    "    l2 = fin2(input_layer)\n",
    "    \n",
    "    n_d = concatenate([l1,l2])\n",
    "\n",
    "    x = Dense(128, activation='relu',name='x1')(n_d)\n",
    "\n",
    "    out = Dense(2, activation = 'softmax', name= modelname)(x)\n",
    "\n",
    "    model = keras.Model(input_layer, out, name= modelname)\n",
    "    return model"
   ]
  }
 ],
 "metadata": {
  "kernelspec": {
   "display_name": "Python 3 (ipykernel)",
   "language": "python",
   "name": "python3"
  },
  "language_info": {
   "codemirror_mode": {
    "name": "ipython",
    "version": 3
   },
   "file_extension": ".py",
   "mimetype": "text/x-python",
   "name": "python",
   "nbconvert_exporter": "python",
   "pygments_lexer": "ipython3",
   "version": "3.9.12"
  }
 },
 "nbformat": 4,
 "nbformat_minor": 5
}
